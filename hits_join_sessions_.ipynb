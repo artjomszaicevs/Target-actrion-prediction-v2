{
 "cells": [
  {
   "cell_type": "markdown",
   "id": "e0e334ad-e008-4369-a51c-0a8488542836",
   "metadata": {},
   "source": [
    "# Data Understanding"
   ]
  },
  {
   "cell_type": "code",
   "execution_count": 2,
   "id": "ec53d4f3-4187-4345-8826-17873e73dc95",
   "metadata": {},
   "outputs": [
    {
     "name": "stdout",
     "output_type": "stream",
     "text": [
      "Requirement already satisfied: pytorch-tabular in /opt/anaconda3/lib/python3.11/site-packages (1.1.1)\n",
      "Requirement already satisfied: torch>=1.11.0 in /opt/anaconda3/lib/python3.11/site-packages (from pytorch-tabular) (2.5.1)\n",
      "Requirement already satisfied: numpy<2.0,>1.20.0 in /opt/anaconda3/lib/python3.11/site-packages (from pytorch-tabular) (1.26.4)\n",
      "Requirement already satisfied: pandas>=1.1.5 in /opt/anaconda3/lib/python3.11/site-packages (from pytorch-tabular) (2.0.3)\n",
      "Requirement already satisfied: scikit-learn>=1.3.0 in /opt/anaconda3/lib/python3.11/site-packages (from pytorch-tabular) (1.4.2)\n",
      "Requirement already satisfied: pytorch-lightning<2.5.0,>=2.0.0 in /opt/anaconda3/lib/python3.11/site-packages (from pytorch-tabular) (2.4.0)\n",
      "Requirement already satisfied: omegaconf>=2.3.0 in /opt/anaconda3/lib/python3.11/site-packages (from pytorch-tabular) (2.3.0)\n",
      "Requirement already satisfied: torchmetrics<1.6.0,>=0.10.0 in /opt/anaconda3/lib/python3.11/site-packages (from pytorch-tabular) (1.5.2)\n",
      "Requirement already satisfied: tensorboard!=2.5.0,>2.2.0 in /opt/anaconda3/lib/python3.11/site-packages (from pytorch-tabular) (2.18.0)\n",
      "Requirement already satisfied: protobuf<5.29.0,>=3.20.0 in /opt/anaconda3/lib/python3.11/site-packages (from pytorch-tabular) (3.20.3)\n",
      "Requirement already satisfied: pytorch-tabnet==4.1 in /opt/anaconda3/lib/python3.11/site-packages (from pytorch-tabular) (4.1.0)\n",
      "Requirement already satisfied: PyYAML<6.1.0,>=5.4 in /opt/anaconda3/lib/python3.11/site-packages (from pytorch-tabular) (6.0.1)\n",
      "Requirement already satisfied: matplotlib>3.1 in /opt/anaconda3/lib/python3.11/site-packages (from pytorch-tabular) (3.8.0)\n",
      "Requirement already satisfied: ipywidgets in /opt/anaconda3/lib/python3.11/site-packages (from pytorch-tabular) (7.6.5)\n",
      "Requirement already satisfied: einops<0.8.0,>=0.6.0 in /opt/anaconda3/lib/python3.11/site-packages (from pytorch-tabular) (0.7.0)\n",
      "Requirement already satisfied: rich>=11.0.0 in /opt/anaconda3/lib/python3.11/site-packages (from pytorch-tabular) (13.3.5)\n",
      "Requirement already satisfied: scipy>1.4 in /opt/anaconda3/lib/python3.11/site-packages (from pytorch-tabnet==4.1->pytorch-tabular) (1.11.4)\n",
      "Requirement already satisfied: tqdm>=4.36 in /opt/anaconda3/lib/python3.11/site-packages (from pytorch-tabnet==4.1->pytorch-tabular) (4.67.1)\n",
      "Requirement already satisfied: contourpy>=1.0.1 in /opt/anaconda3/lib/python3.11/site-packages (from matplotlib>3.1->pytorch-tabular) (1.2.0)\n",
      "Requirement already satisfied: cycler>=0.10 in /opt/anaconda3/lib/python3.11/site-packages (from matplotlib>3.1->pytorch-tabular) (0.11.0)\n",
      "Requirement already satisfied: fonttools>=4.22.0 in /opt/anaconda3/lib/python3.11/site-packages (from matplotlib>3.1->pytorch-tabular) (4.25.0)\n",
      "Requirement already satisfied: kiwisolver>=1.0.1 in /opt/anaconda3/lib/python3.11/site-packages (from matplotlib>3.1->pytorch-tabular) (1.4.4)\n",
      "Requirement already satisfied: packaging>=20.0 in /opt/anaconda3/lib/python3.11/site-packages (from matplotlib>3.1->pytorch-tabular) (23.1)\n",
      "Requirement already satisfied: pillow>=6.2.0 in /opt/anaconda3/lib/python3.11/site-packages (from matplotlib>3.1->pytorch-tabular) (10.2.0)\n",
      "Requirement already satisfied: pyparsing>=2.3.1 in /opt/anaconda3/lib/python3.11/site-packages (from matplotlib>3.1->pytorch-tabular) (3.0.9)\n",
      "Requirement already satisfied: python-dateutil>=2.7 in /opt/anaconda3/lib/python3.11/site-packages (from matplotlib>3.1->pytorch-tabular) (2.8.2)\n",
      "Requirement already satisfied: antlr4-python3-runtime==4.9.* in /opt/anaconda3/lib/python3.11/site-packages (from omegaconf>=2.3.0->pytorch-tabular) (4.9.3)\n",
      "Requirement already satisfied: pytz>=2020.1 in /opt/anaconda3/lib/python3.11/site-packages (from pandas>=1.1.5->pytorch-tabular) (2023.3.post1)\n",
      "Requirement already satisfied: tzdata>=2022.1 in /opt/anaconda3/lib/python3.11/site-packages (from pandas>=1.1.5->pytorch-tabular) (2023.3)\n",
      "Requirement already satisfied: fsspec>=2022.5.0 in /opt/anaconda3/lib/python3.11/site-packages (from fsspec[http]>=2022.5.0->pytorch-lightning<2.5.0,>=2.0.0->pytorch-tabular) (2023.10.0)\n",
      "Requirement already satisfied: typing-extensions>=4.4.0 in /opt/anaconda3/lib/python3.11/site-packages (from pytorch-lightning<2.5.0,>=2.0.0->pytorch-tabular) (4.9.0)\n",
      "Requirement already satisfied: lightning-utilities>=0.10.0 in /opt/anaconda3/lib/python3.11/site-packages (from pytorch-lightning<2.5.0,>=2.0.0->pytorch-tabular) (0.14.3)\n",
      "Requirement already satisfied: markdown-it-py<3.0.0,>=2.2.0 in /opt/anaconda3/lib/python3.11/site-packages (from rich>=11.0.0->pytorch-tabular) (2.2.0)\n",
      "Requirement already satisfied: pygments<3.0.0,>=2.13.0 in /opt/anaconda3/lib/python3.11/site-packages (from rich>=11.0.0->pytorch-tabular) (2.15.1)\n",
      "Requirement already satisfied: joblib>=1.2.0 in /opt/anaconda3/lib/python3.11/site-packages (from scikit-learn>=1.3.0->pytorch-tabular) (1.2.0)\n",
      "Requirement already satisfied: threadpoolctl>=2.0.0 in /opt/anaconda3/lib/python3.11/site-packages (from scikit-learn>=1.3.0->pytorch-tabular) (2.2.0)\n",
      "Requirement already satisfied: absl-py>=0.4 in /opt/anaconda3/lib/python3.11/site-packages (from tensorboard!=2.5.0,>2.2.0->pytorch-tabular) (2.1.0)\n",
      "Requirement already satisfied: grpcio>=1.48.2 in /opt/anaconda3/lib/python3.11/site-packages (from tensorboard!=2.5.0,>2.2.0->pytorch-tabular) (1.70.0)\n",
      "Requirement already satisfied: markdown>=2.6.8 in /opt/anaconda3/lib/python3.11/site-packages (from tensorboard!=2.5.0,>2.2.0->pytorch-tabular) (3.4.1)\n",
      "Requirement already satisfied: setuptools>=41.0.0 in /opt/anaconda3/lib/python3.11/site-packages (from tensorboard!=2.5.0,>2.2.0->pytorch-tabular) (68.2.2)\n",
      "Requirement already satisfied: six>1.9 in /opt/anaconda3/lib/python3.11/site-packages (from tensorboard!=2.5.0,>2.2.0->pytorch-tabular) (1.16.0)\n",
      "Requirement already satisfied: tensorboard-data-server<0.8.0,>=0.7.0 in /opt/anaconda3/lib/python3.11/site-packages (from tensorboard!=2.5.0,>2.2.0->pytorch-tabular) (0.7.2)\n",
      "Requirement already satisfied: werkzeug>=1.0.1 in /opt/anaconda3/lib/python3.11/site-packages (from tensorboard!=2.5.0,>2.2.0->pytorch-tabular) (2.2.3)\n",
      "Requirement already satisfied: filelock in /opt/anaconda3/lib/python3.11/site-packages (from torch>=1.11.0->pytorch-tabular) (3.13.1)\n",
      "Requirement already satisfied: sympy==1.13.1 in /opt/anaconda3/lib/python3.11/site-packages (from torch>=1.11.0->pytorch-tabular) (1.13.1)\n",
      "Requirement already satisfied: networkx in /opt/anaconda3/lib/python3.11/site-packages (from torch>=1.11.0->pytorch-tabular) (3.1)\n",
      "Requirement already satisfied: jinja2 in /opt/anaconda3/lib/python3.11/site-packages (from torch>=1.11.0->pytorch-tabular) (3.1.3)\n",
      "Requirement already satisfied: mpmath<1.4,>=1.1.0 in /opt/anaconda3/lib/python3.11/site-packages (from sympy==1.13.1->torch>=1.11.0->pytorch-tabular) (1.3.0)\n",
      "Requirement already satisfied: ipykernel>=4.5.1 in /opt/anaconda3/lib/python3.11/site-packages (from ipywidgets->pytorch-tabular) (6.28.0)\n",
      "Requirement already satisfied: ipython-genutils~=0.2.0 in /opt/anaconda3/lib/python3.11/site-packages (from ipywidgets->pytorch-tabular) (0.2.0)\n",
      "Requirement already satisfied: traitlets>=4.3.1 in /opt/anaconda3/lib/python3.11/site-packages (from ipywidgets->pytorch-tabular) (5.7.1)\n",
      "Requirement already satisfied: nbformat>=4.2.0 in /opt/anaconda3/lib/python3.11/site-packages (from ipywidgets->pytorch-tabular) (5.9.2)\n",
      "Requirement already satisfied: widgetsnbextension~=3.5.0 in /opt/anaconda3/lib/python3.11/site-packages (from ipywidgets->pytorch-tabular) (3.5.2)\n",
      "Requirement already satisfied: ipython>=4.0.0 in /opt/anaconda3/lib/python3.11/site-packages (from ipywidgets->pytorch-tabular) (8.20.0)\n",
      "Requirement already satisfied: jupyterlab-widgets>=1.0.0 in /opt/anaconda3/lib/python3.11/site-packages (from ipywidgets->pytorch-tabular) (3.0.9)\n",
      "Requirement already satisfied: requests in /opt/anaconda3/lib/python3.11/site-packages (from fsspec[http]>=2022.5.0->pytorch-lightning<2.5.0,>=2.0.0->pytorch-tabular) (2.31.0)\n",
      "Requirement already satisfied: aiohttp!=4.0.0a0,!=4.0.0a1 in /opt/anaconda3/lib/python3.11/site-packages (from fsspec[http]>=2022.5.0->pytorch-lightning<2.5.0,>=2.0.0->pytorch-tabular) (3.9.3)\n",
      "Requirement already satisfied: appnope in /opt/anaconda3/lib/python3.11/site-packages (from ipykernel>=4.5.1->ipywidgets->pytorch-tabular) (0.1.2)\n",
      "Requirement already satisfied: comm>=0.1.1 in /opt/anaconda3/lib/python3.11/site-packages (from ipykernel>=4.5.1->ipywidgets->pytorch-tabular) (0.1.2)\n",
      "Requirement already satisfied: debugpy>=1.6.5 in /opt/anaconda3/lib/python3.11/site-packages (from ipykernel>=4.5.1->ipywidgets->pytorch-tabular) (1.6.7)\n",
      "Requirement already satisfied: jupyter-client>=6.1.12 in /opt/anaconda3/lib/python3.11/site-packages (from ipykernel>=4.5.1->ipywidgets->pytorch-tabular) (8.6.0)\n",
      "Requirement already satisfied: jupyter-core!=5.0.*,>=4.12 in /opt/anaconda3/lib/python3.11/site-packages (from ipykernel>=4.5.1->ipywidgets->pytorch-tabular) (5.5.0)\n",
      "Requirement already satisfied: matplotlib-inline>=0.1 in /opt/anaconda3/lib/python3.11/site-packages (from ipykernel>=4.5.1->ipywidgets->pytorch-tabular) (0.1.6)\n",
      "Requirement already satisfied: nest-asyncio in /opt/anaconda3/lib/python3.11/site-packages (from ipykernel>=4.5.1->ipywidgets->pytorch-tabular) (1.6.0)\n",
      "Requirement already satisfied: psutil in /opt/anaconda3/lib/python3.11/site-packages (from ipykernel>=4.5.1->ipywidgets->pytorch-tabular) (5.9.0)\n",
      "Requirement already satisfied: pyzmq>=24 in /opt/anaconda3/lib/python3.11/site-packages (from ipykernel>=4.5.1->ipywidgets->pytorch-tabular) (25.1.2)\n",
      "Requirement already satisfied: tornado>=6.1 in /opt/anaconda3/lib/python3.11/site-packages (from ipykernel>=4.5.1->ipywidgets->pytorch-tabular) (6.3.3)\n",
      "Requirement already satisfied: decorator in /opt/anaconda3/lib/python3.11/site-packages (from ipython>=4.0.0->ipywidgets->pytorch-tabular) (5.1.1)\n",
      "Requirement already satisfied: jedi>=0.16 in /opt/anaconda3/lib/python3.11/site-packages (from ipython>=4.0.0->ipywidgets->pytorch-tabular) (0.18.1)\n",
      "Requirement already satisfied: prompt-toolkit<3.1.0,>=3.0.41 in /opt/anaconda3/lib/python3.11/site-packages (from ipython>=4.0.0->ipywidgets->pytorch-tabular) (3.0.43)\n",
      "Requirement already satisfied: stack-data in /opt/anaconda3/lib/python3.11/site-packages (from ipython>=4.0.0->ipywidgets->pytorch-tabular) (0.2.0)\n",
      "Requirement already satisfied: pexpect>4.3 in /opt/anaconda3/lib/python3.11/site-packages (from ipython>=4.0.0->ipywidgets->pytorch-tabular) (4.8.0)\n",
      "Requirement already satisfied: mdurl~=0.1 in /opt/anaconda3/lib/python3.11/site-packages (from markdown-it-py<3.0.0,>=2.2.0->rich>=11.0.0->pytorch-tabular) (0.1.0)\n",
      "Requirement already satisfied: fastjsonschema in /opt/anaconda3/lib/python3.11/site-packages (from nbformat>=4.2.0->ipywidgets->pytorch-tabular) (2.16.2)\n",
      "Requirement already satisfied: jsonschema>=2.6 in /opt/anaconda3/lib/python3.11/site-packages (from nbformat>=4.2.0->ipywidgets->pytorch-tabular) (4.19.2)\n",
      "Requirement already satisfied: MarkupSafe>=2.1.1 in /opt/anaconda3/lib/python3.11/site-packages (from werkzeug>=1.0.1->tensorboard!=2.5.0,>2.2.0->pytorch-tabular) (2.1.3)\n",
      "Requirement already satisfied: notebook>=4.4.1 in /opt/anaconda3/lib/python3.11/site-packages (from widgetsnbextension~=3.5.0->ipywidgets->pytorch-tabular) (7.0.8)\n",
      "Requirement already satisfied: aiosignal>=1.1.2 in /opt/anaconda3/lib/python3.11/site-packages (from aiohttp!=4.0.0a0,!=4.0.0a1->fsspec[http]>=2022.5.0->pytorch-lightning<2.5.0,>=2.0.0->pytorch-tabular) (1.2.0)\n",
      "Requirement already satisfied: attrs>=17.3.0 in /opt/anaconda3/lib/python3.11/site-packages (from aiohttp!=4.0.0a0,!=4.0.0a1->fsspec[http]>=2022.5.0->pytorch-lightning<2.5.0,>=2.0.0->pytorch-tabular) (23.1.0)\n",
      "Requirement already satisfied: frozenlist>=1.1.1 in /opt/anaconda3/lib/python3.11/site-packages (from aiohttp!=4.0.0a0,!=4.0.0a1->fsspec[http]>=2022.5.0->pytorch-lightning<2.5.0,>=2.0.0->pytorch-tabular) (1.4.0)\n",
      "Requirement already satisfied: multidict<7.0,>=4.5 in /opt/anaconda3/lib/python3.11/site-packages (from aiohttp!=4.0.0a0,!=4.0.0a1->fsspec[http]>=2022.5.0->pytorch-lightning<2.5.0,>=2.0.0->pytorch-tabular) (6.0.4)\n",
      "Requirement already satisfied: yarl<2.0,>=1.0 in /opt/anaconda3/lib/python3.11/site-packages (from aiohttp!=4.0.0a0,!=4.0.0a1->fsspec[http]>=2022.5.0->pytorch-lightning<2.5.0,>=2.0.0->pytorch-tabular) (1.9.3)\n",
      "Requirement already satisfied: parso<0.9.0,>=0.8.0 in /opt/anaconda3/lib/python3.11/site-packages (from jedi>=0.16->ipython>=4.0.0->ipywidgets->pytorch-tabular) (0.8.3)\n",
      "Requirement already satisfied: jsonschema-specifications>=2023.03.6 in /opt/anaconda3/lib/python3.11/site-packages (from jsonschema>=2.6->nbformat>=4.2.0->ipywidgets->pytorch-tabular) (2023.7.1)\n",
      "Requirement already satisfied: referencing>=0.28.4 in /opt/anaconda3/lib/python3.11/site-packages (from jsonschema>=2.6->nbformat>=4.2.0->ipywidgets->pytorch-tabular) (0.30.2)\n",
      "Requirement already satisfied: rpds-py>=0.7.1 in /opt/anaconda3/lib/python3.11/site-packages (from jsonschema>=2.6->nbformat>=4.2.0->ipywidgets->pytorch-tabular) (0.10.6)\n",
      "Requirement already satisfied: platformdirs>=2.5 in /opt/anaconda3/lib/python3.11/site-packages (from jupyter-core!=5.0.*,>=4.12->ipykernel>=4.5.1->ipywidgets->pytorch-tabular) (3.10.0)\n",
      "Requirement already satisfied: jupyter-server<3,>=2.4.0 in /opt/anaconda3/lib/python3.11/site-packages (from notebook>=4.4.1->widgetsnbextension~=3.5.0->ipywidgets->pytorch-tabular) (2.10.0)\n",
      "Requirement already satisfied: jupyterlab-server<3,>=2.22.1 in /opt/anaconda3/lib/python3.11/site-packages (from notebook>=4.4.1->widgetsnbextension~=3.5.0->ipywidgets->pytorch-tabular) (2.25.1)\n",
      "Requirement already satisfied: jupyterlab<4.1,>=4.0.2 in /opt/anaconda3/lib/python3.11/site-packages (from notebook>=4.4.1->widgetsnbextension~=3.5.0->ipywidgets->pytorch-tabular) (4.0.11)\n",
      "Requirement already satisfied: notebook-shim<0.3,>=0.2 in /opt/anaconda3/lib/python3.11/site-packages (from notebook>=4.4.1->widgetsnbextension~=3.5.0->ipywidgets->pytorch-tabular) (0.2.3)\n",
      "Requirement already satisfied: ptyprocess>=0.5 in /opt/anaconda3/lib/python3.11/site-packages (from pexpect>4.3->ipython>=4.0.0->ipywidgets->pytorch-tabular) (0.7.0)\n",
      "Requirement already satisfied: wcwidth in /opt/anaconda3/lib/python3.11/site-packages (from prompt-toolkit<3.1.0,>=3.0.41->ipython>=4.0.0->ipywidgets->pytorch-tabular) (0.2.5)\n",
      "Requirement already satisfied: charset-normalizer<4,>=2 in /opt/anaconda3/lib/python3.11/site-packages (from requests->fsspec[http]>=2022.5.0->pytorch-lightning<2.5.0,>=2.0.0->pytorch-tabular) (2.0.4)\n",
      "Requirement already satisfied: idna<4,>=2.5 in /opt/anaconda3/lib/python3.11/site-packages (from requests->fsspec[http]>=2022.5.0->pytorch-lightning<2.5.0,>=2.0.0->pytorch-tabular) (3.4)\n",
      "Requirement already satisfied: urllib3<3,>=1.21.1 in /opt/anaconda3/lib/python3.11/site-packages (from requests->fsspec[http]>=2022.5.0->pytorch-lightning<2.5.0,>=2.0.0->pytorch-tabular) (2.0.7)\n",
      "Requirement already satisfied: certifi>=2017.4.17 in /opt/anaconda3/lib/python3.11/site-packages (from requests->fsspec[http]>=2022.5.0->pytorch-lightning<2.5.0,>=2.0.0->pytorch-tabular) (2024.12.14)\n",
      "Requirement already satisfied: executing in /opt/anaconda3/lib/python3.11/site-packages (from stack-data->ipython>=4.0.0->ipywidgets->pytorch-tabular) (0.8.3)\n",
      "Requirement already satisfied: asttokens in /opt/anaconda3/lib/python3.11/site-packages (from stack-data->ipython>=4.0.0->ipywidgets->pytorch-tabular) (2.0.5)\n",
      "Requirement already satisfied: pure-eval in /opt/anaconda3/lib/python3.11/site-packages (from stack-data->ipython>=4.0.0->ipywidgets->pytorch-tabular) (0.2.2)\n",
      "Requirement already satisfied: anyio>=3.1.0 in /opt/anaconda3/lib/python3.11/site-packages (from jupyter-server<3,>=2.4.0->notebook>=4.4.1->widgetsnbextension~=3.5.0->ipywidgets->pytorch-tabular) (4.2.0)\n",
      "Requirement already satisfied: argon2-cffi in /opt/anaconda3/lib/python3.11/site-packages (from jupyter-server<3,>=2.4.0->notebook>=4.4.1->widgetsnbextension~=3.5.0->ipywidgets->pytorch-tabular) (21.3.0)\n",
      "Requirement already satisfied: jupyter-events>=0.6.0 in /opt/anaconda3/lib/python3.11/site-packages (from jupyter-server<3,>=2.4.0->notebook>=4.4.1->widgetsnbextension~=3.5.0->ipywidgets->pytorch-tabular) (0.8.0)\n",
      "Requirement already satisfied: jupyter-server-terminals in /opt/anaconda3/lib/python3.11/site-packages (from jupyter-server<3,>=2.4.0->notebook>=4.4.1->widgetsnbextension~=3.5.0->ipywidgets->pytorch-tabular) (0.4.4)\n",
      "Requirement already satisfied: nbconvert>=6.4.4 in /opt/anaconda3/lib/python3.11/site-packages (from jupyter-server<3,>=2.4.0->notebook>=4.4.1->widgetsnbextension~=3.5.0->ipywidgets->pytorch-tabular) (7.10.0)\n",
      "Requirement already satisfied: overrides in /opt/anaconda3/lib/python3.11/site-packages (from jupyter-server<3,>=2.4.0->notebook>=4.4.1->widgetsnbextension~=3.5.0->ipywidgets->pytorch-tabular) (7.4.0)\n",
      "Requirement already satisfied: prometheus-client in /opt/anaconda3/lib/python3.11/site-packages (from jupyter-server<3,>=2.4.0->notebook>=4.4.1->widgetsnbextension~=3.5.0->ipywidgets->pytorch-tabular) (0.14.1)\n",
      "Requirement already satisfied: send2trash>=1.8.2 in /opt/anaconda3/lib/python3.11/site-packages (from jupyter-server<3,>=2.4.0->notebook>=4.4.1->widgetsnbextension~=3.5.0->ipywidgets->pytorch-tabular) (1.8.2)\n",
      "Requirement already satisfied: terminado>=0.8.3 in /opt/anaconda3/lib/python3.11/site-packages (from jupyter-server<3,>=2.4.0->notebook>=4.4.1->widgetsnbextension~=3.5.0->ipywidgets->pytorch-tabular) (0.17.1)\n",
      "Requirement already satisfied: websocket-client in /opt/anaconda3/lib/python3.11/site-packages (from jupyter-server<3,>=2.4.0->notebook>=4.4.1->widgetsnbextension~=3.5.0->ipywidgets->pytorch-tabular) (0.58.0)\n",
      "Requirement already satisfied: async-lru>=1.0.0 in /opt/anaconda3/lib/python3.11/site-packages (from jupyterlab<4.1,>=4.0.2->notebook>=4.4.1->widgetsnbextension~=3.5.0->ipywidgets->pytorch-tabular) (2.0.4)\n",
      "Requirement already satisfied: jupyter-lsp>=2.0.0 in /opt/anaconda3/lib/python3.11/site-packages (from jupyterlab<4.1,>=4.0.2->notebook>=4.4.1->widgetsnbextension~=3.5.0->ipywidgets->pytorch-tabular) (2.2.0)\n",
      "Requirement already satisfied: babel>=2.10 in /opt/anaconda3/lib/python3.11/site-packages (from jupyterlab-server<3,>=2.22.1->notebook>=4.4.1->widgetsnbextension~=3.5.0->ipywidgets->pytorch-tabular) (2.11.0)\n",
      "Requirement already satisfied: json5>=0.9.0 in /opt/anaconda3/lib/python3.11/site-packages (from jupyterlab-server<3,>=2.22.1->notebook>=4.4.1->widgetsnbextension~=3.5.0->ipywidgets->pytorch-tabular) (0.9.6)\n",
      "Requirement already satisfied: sniffio>=1.1 in /opt/anaconda3/lib/python3.11/site-packages (from anyio>=3.1.0->jupyter-server<3,>=2.4.0->notebook>=4.4.1->widgetsnbextension~=3.5.0->ipywidgets->pytorch-tabular) (1.3.0)\n",
      "Requirement already satisfied: python-json-logger>=2.0.4 in /opt/anaconda3/lib/python3.11/site-packages (from jupyter-events>=0.6.0->jupyter-server<3,>=2.4.0->notebook>=4.4.1->widgetsnbextension~=3.5.0->ipywidgets->pytorch-tabular) (2.0.7)\n",
      "Requirement already satisfied: rfc3339-validator in /opt/anaconda3/lib/python3.11/site-packages (from jupyter-events>=0.6.0->jupyter-server<3,>=2.4.0->notebook>=4.4.1->widgetsnbextension~=3.5.0->ipywidgets->pytorch-tabular) (0.1.4)\n",
      "Requirement already satisfied: rfc3986-validator>=0.1.1 in /opt/anaconda3/lib/python3.11/site-packages (from jupyter-events>=0.6.0->jupyter-server<3,>=2.4.0->notebook>=4.4.1->widgetsnbextension~=3.5.0->ipywidgets->pytorch-tabular) (0.1.1)\n",
      "Requirement already satisfied: beautifulsoup4 in /opt/anaconda3/lib/python3.11/site-packages (from nbconvert>=6.4.4->jupyter-server<3,>=2.4.0->notebook>=4.4.1->widgetsnbextension~=3.5.0->ipywidgets->pytorch-tabular) (4.12.2)\n",
      "Requirement already satisfied: bleach!=5.0.0 in /opt/anaconda3/lib/python3.11/site-packages (from nbconvert>=6.4.4->jupyter-server<3,>=2.4.0->notebook>=4.4.1->widgetsnbextension~=3.5.0->ipywidgets->pytorch-tabular) (4.1.0)\n",
      "Requirement already satisfied: defusedxml in /opt/anaconda3/lib/python3.11/site-packages (from nbconvert>=6.4.4->jupyter-server<3,>=2.4.0->notebook>=4.4.1->widgetsnbextension~=3.5.0->ipywidgets->pytorch-tabular) (0.7.1)\n",
      "Requirement already satisfied: jupyterlab-pygments in /opt/anaconda3/lib/python3.11/site-packages (from nbconvert>=6.4.4->jupyter-server<3,>=2.4.0->notebook>=4.4.1->widgetsnbextension~=3.5.0->ipywidgets->pytorch-tabular) (0.1.2)\n",
      "Requirement already satisfied: mistune<4,>=2.0.3 in /opt/anaconda3/lib/python3.11/site-packages (from nbconvert>=6.4.4->jupyter-server<3,>=2.4.0->notebook>=4.4.1->widgetsnbextension~=3.5.0->ipywidgets->pytorch-tabular) (2.0.4)\n",
      "Requirement already satisfied: nbclient>=0.5.0 in /opt/anaconda3/lib/python3.11/site-packages (from nbconvert>=6.4.4->jupyter-server<3,>=2.4.0->notebook>=4.4.1->widgetsnbextension~=3.5.0->ipywidgets->pytorch-tabular) (0.8.0)\n",
      "Requirement already satisfied: pandocfilters>=1.4.1 in /opt/anaconda3/lib/python3.11/site-packages (from nbconvert>=6.4.4->jupyter-server<3,>=2.4.0->notebook>=4.4.1->widgetsnbextension~=3.5.0->ipywidgets->pytorch-tabular) (1.5.0)\n",
      "Requirement already satisfied: tinycss2 in /opt/anaconda3/lib/python3.11/site-packages (from nbconvert>=6.4.4->jupyter-server<3,>=2.4.0->notebook>=4.4.1->widgetsnbextension~=3.5.0->ipywidgets->pytorch-tabular) (1.2.1)\n",
      "Requirement already satisfied: argon2-cffi-bindings in /opt/anaconda3/lib/python3.11/site-packages (from argon2-cffi->jupyter-server<3,>=2.4.0->notebook>=4.4.1->widgetsnbextension~=3.5.0->ipywidgets->pytorch-tabular) (21.2.0)\n",
      "Requirement already satisfied: webencodings in /opt/anaconda3/lib/python3.11/site-packages (from bleach!=5.0.0->nbconvert>=6.4.4->jupyter-server<3,>=2.4.0->notebook>=4.4.1->widgetsnbextension~=3.5.0->ipywidgets->pytorch-tabular) (0.5.1)\n",
      "Requirement already satisfied: fqdn in /opt/anaconda3/lib/python3.11/site-packages (from jsonschema[format-nongpl]>=4.18.0->jupyter-events>=0.6.0->jupyter-server<3,>=2.4.0->notebook>=4.4.1->widgetsnbextension~=3.5.0->ipywidgets->pytorch-tabular) (1.5.1)\n",
      "Requirement already satisfied: isoduration in /opt/anaconda3/lib/python3.11/site-packages (from jsonschema[format-nongpl]>=4.18.0->jupyter-events>=0.6.0->jupyter-server<3,>=2.4.0->notebook>=4.4.1->widgetsnbextension~=3.5.0->ipywidgets->pytorch-tabular) (20.11.0)\n",
      "Requirement already satisfied: jsonpointer>1.13 in /opt/anaconda3/lib/python3.11/site-packages (from jsonschema[format-nongpl]>=4.18.0->jupyter-events>=0.6.0->jupyter-server<3,>=2.4.0->notebook>=4.4.1->widgetsnbextension~=3.5.0->ipywidgets->pytorch-tabular) (2.1)\n",
      "Requirement already satisfied: uri-template in /opt/anaconda3/lib/python3.11/site-packages (from jsonschema[format-nongpl]>=4.18.0->jupyter-events>=0.6.0->jupyter-server<3,>=2.4.0->notebook>=4.4.1->widgetsnbextension~=3.5.0->ipywidgets->pytorch-tabular) (1.3.0)\n",
      "Requirement already satisfied: webcolors>=1.11 in /opt/anaconda3/lib/python3.11/site-packages (from jsonschema[format-nongpl]>=4.18.0->jupyter-events>=0.6.0->jupyter-server<3,>=2.4.0->notebook>=4.4.1->widgetsnbextension~=3.5.0->ipywidgets->pytorch-tabular) (24.11.1)\n",
      "Requirement already satisfied: cffi>=1.0.1 in /opt/anaconda3/lib/python3.11/site-packages (from argon2-cffi-bindings->argon2-cffi->jupyter-server<3,>=2.4.0->notebook>=4.4.1->widgetsnbextension~=3.5.0->ipywidgets->pytorch-tabular) (1.16.0)\n",
      "Requirement already satisfied: soupsieve>1.2 in /opt/anaconda3/lib/python3.11/site-packages (from beautifulsoup4->nbconvert>=6.4.4->jupyter-server<3,>=2.4.0->notebook>=4.4.1->widgetsnbextension~=3.5.0->ipywidgets->pytorch-tabular) (2.5)\n",
      "Requirement already satisfied: pycparser in /opt/anaconda3/lib/python3.11/site-packages (from cffi>=1.0.1->argon2-cffi-bindings->argon2-cffi->jupyter-server<3,>=2.4.0->notebook>=4.4.1->widgetsnbextension~=3.5.0->ipywidgets->pytorch-tabular) (2.21)\n",
      "Requirement already satisfied: arrow>=0.15.0 in /opt/anaconda3/lib/python3.11/site-packages (from isoduration->jsonschema[format-nongpl]>=4.18.0->jupyter-events>=0.6.0->jupyter-server<3,>=2.4.0->notebook>=4.4.1->widgetsnbextension~=3.5.0->ipywidgets->pytorch-tabular) (1.2.3)\n"
     ]
    }
   ],
   "source": [
    "import pandas as pd\n",
    "import numpy as np\n",
    "import missingno as msno\n",
    "import matplotlib.pyplot as plt\n",
    "from sklearn.preprocessing import OneHotEncoder\n",
    "from sklearn.preprocessing import StandardScaler\n",
    "from sklearn.preprocessing import MinMaxScaler\n",
    "from sklearn.tree import DecisionTreeClassifier\n",
    "from sklearn.model_selection import train_test_split, RandomizedSearchCV, cross_validate, cross_val_score\n",
    "from sklearn.metrics import accuracy_score, confusion_matrix, mean_absolute_error\n",
    "from sklearn.linear_model import LogisticRegression, LinearRegression\n",
    "from sklearn.neural_network import MLPClassifier\n",
    "from sklearn.ensemble import RandomForestClassifier\n",
    "from sklearn.metrics import roc_auc_score, roc_curve\n",
    "from collections import Counter\n",
    "import seaborn as sns\n",
    "import dask.dataframe as dd\n",
    "from scipy.stats import randint, uniform\n",
    "\n",
    "\n",
    "!pip install pytorch-tabular\n",
    "\n",
    "from pytorch_tabular import TabularModel\n",
    "from pytorch_tabular.models.category_embedding.config import CategoryEmbeddingModelConfig\n",
    "from pytorch_tabular.config import DataConfig, OptimizerConfig, TrainerConfig\n",
    "\n",
    "from catboost import CatBoostClassifier, Pool\n",
    "\n",
    "import random"
   ]
  },
  {
   "cell_type": "code",
   "execution_count": 3,
   "id": "5140e5c8-c284-47af-b67c-650902db54e0",
   "metadata": {},
   "outputs": [
    {
     "name": "stderr",
     "output_type": "stream",
     "text": [
      "/var/folders/3s/h4tbdn8n3bg8g9r44dkph73w0000gn/T/ipykernel_8587/2144210169.py:1: DtypeWarning: Columns (1) have mixed types. Specify dtype option on import or set low_memory=False.\n",
      "  df_sessions = pd.read_csv('data/ga_sessions.csv')\n"
     ]
    }
   ],
   "source": [
    "df_sessions = pd.read_csv('data/ga_sessions.csv')\n",
    "df_hits = pd.read_csv('data/ga_hits.csv')"
   ]
  },
  {
   "cell_type": "code",
   "execution_count": 4,
   "id": "d8346aae-dda2-4f78-8819-1474590c7f55",
   "metadata": {},
   "outputs": [
    {
     "data": {
      "text/html": [
       "<div>\n",
       "<style scoped>\n",
       "    .dataframe tbody tr th:only-of-type {\n",
       "        vertical-align: middle;\n",
       "    }\n",
       "\n",
       "    .dataframe tbody tr th {\n",
       "        vertical-align: top;\n",
       "    }\n",
       "\n",
       "    .dataframe thead th {\n",
       "        text-align: right;\n",
       "    }\n",
       "</style>\n",
       "<table border=\"1\" class=\"dataframe\">\n",
       "  <thead>\n",
       "    <tr style=\"text-align: right;\">\n",
       "      <th></th>\n",
       "      <th>session_id</th>\n",
       "      <th>client_id</th>\n",
       "      <th>visit_date</th>\n",
       "      <th>visit_time</th>\n",
       "      <th>visit_number</th>\n",
       "      <th>utm_source</th>\n",
       "      <th>utm_medium</th>\n",
       "      <th>utm_campaign</th>\n",
       "      <th>utm_adcontent</th>\n",
       "      <th>utm_keyword</th>\n",
       "      <th>device_category</th>\n",
       "      <th>device_os</th>\n",
       "      <th>device_brand</th>\n",
       "      <th>device_model</th>\n",
       "      <th>device_screen_resolution</th>\n",
       "      <th>device_browser</th>\n",
       "      <th>geo_country</th>\n",
       "      <th>geo_city</th>\n",
       "    </tr>\n",
       "  </thead>\n",
       "  <tbody>\n",
       "    <tr>\n",
       "      <th>0</th>\n",
       "      <td>9055434745589932991.1637753792.1637753792</td>\n",
       "      <td>2108382700.163776</td>\n",
       "      <td>2021-11-24</td>\n",
       "      <td>14:36:32</td>\n",
       "      <td>1</td>\n",
       "      <td>ZpYIoDJMcFzVoPFsHGJL</td>\n",
       "      <td>banner</td>\n",
       "      <td>LEoPHuyFvzoNfnzGgfcd</td>\n",
       "      <td>vCIpmpaGBnIQhyYNkXqp</td>\n",
       "      <td>puhZPIYqKXeFPaUviSjo</td>\n",
       "      <td>mobile</td>\n",
       "      <td>Android</td>\n",
       "      <td>Huawei</td>\n",
       "      <td>NaN</td>\n",
       "      <td>360x720</td>\n",
       "      <td>Chrome</td>\n",
       "      <td>Russia</td>\n",
       "      <td>Zlatoust</td>\n",
       "    </tr>\n",
       "    <tr>\n",
       "      <th>1</th>\n",
       "      <td>905544597018549464.1636867290.1636867290</td>\n",
       "      <td>210838531.163687</td>\n",
       "      <td>2021-11-14</td>\n",
       "      <td>08:21:30</td>\n",
       "      <td>1</td>\n",
       "      <td>MvfHsxITijuriZxsqZqt</td>\n",
       "      <td>cpm</td>\n",
       "      <td>FTjNLDyTrXaWYgZymFkV</td>\n",
       "      <td>xhoenQgDQsgfEPYNPwKO</td>\n",
       "      <td>IGUCNvHlhfHpROGclCit</td>\n",
       "      <td>mobile</td>\n",
       "      <td>Android</td>\n",
       "      <td>Samsung</td>\n",
       "      <td>NaN</td>\n",
       "      <td>385x854</td>\n",
       "      <td>Samsung Internet</td>\n",
       "      <td>Russia</td>\n",
       "      <td>Moscow</td>\n",
       "    </tr>\n",
       "    <tr>\n",
       "      <th>2</th>\n",
       "      <td>9055446045651783499.1640648526.1640648526</td>\n",
       "      <td>2108385331.164065</td>\n",
       "      <td>2021-12-28</td>\n",
       "      <td>02:42:06</td>\n",
       "      <td>1</td>\n",
       "      <td>ZpYIoDJMcFzVoPFsHGJL</td>\n",
       "      <td>banner</td>\n",
       "      <td>LEoPHuyFvzoNfnzGgfcd</td>\n",
       "      <td>vCIpmpaGBnIQhyYNkXqp</td>\n",
       "      <td>puhZPIYqKXeFPaUviSjo</td>\n",
       "      <td>mobile</td>\n",
       "      <td>Android</td>\n",
       "      <td>Huawei</td>\n",
       "      <td>NaN</td>\n",
       "      <td>360x720</td>\n",
       "      <td>Chrome</td>\n",
       "      <td>Russia</td>\n",
       "      <td>Krasnoyarsk</td>\n",
       "    </tr>\n",
       "    <tr>\n",
       "      <th>3</th>\n",
       "      <td>9055447046360770272.1622255328.1622255328</td>\n",
       "      <td>2108385564.162225</td>\n",
       "      <td>2021-05-29</td>\n",
       "      <td>05:00:00</td>\n",
       "      <td>1</td>\n",
       "      <td>kjsLglQLzykiRbcDiGcD</td>\n",
       "      <td>cpc</td>\n",
       "      <td>NaN</td>\n",
       "      <td>NOBKLgtuvqYWkXQHeYWM</td>\n",
       "      <td>NaN</td>\n",
       "      <td>mobile</td>\n",
       "      <td>NaN</td>\n",
       "      <td>Xiaomi</td>\n",
       "      <td>NaN</td>\n",
       "      <td>393x786</td>\n",
       "      <td>Chrome</td>\n",
       "      <td>Russia</td>\n",
       "      <td>Moscow</td>\n",
       "    </tr>\n",
       "    <tr>\n",
       "      <th>4</th>\n",
       "      <td>9055447046360770272.1622255345.1622255345</td>\n",
       "      <td>2108385564.162225</td>\n",
       "      <td>2021-05-29</td>\n",
       "      <td>05:00:00</td>\n",
       "      <td>2</td>\n",
       "      <td>kjsLglQLzykiRbcDiGcD</td>\n",
       "      <td>cpc</td>\n",
       "      <td>NaN</td>\n",
       "      <td>NaN</td>\n",
       "      <td>NaN</td>\n",
       "      <td>mobile</td>\n",
       "      <td>NaN</td>\n",
       "      <td>Xiaomi</td>\n",
       "      <td>NaN</td>\n",
       "      <td>393x786</td>\n",
       "      <td>Chrome</td>\n",
       "      <td>Russia</td>\n",
       "      <td>Moscow</td>\n",
       "    </tr>\n",
       "  </tbody>\n",
       "</table>\n",
       "</div>"
      ],
      "text/plain": [
       "                                  session_id          client_id  visit_date  \\\n",
       "0  9055434745589932991.1637753792.1637753792  2108382700.163776  2021-11-24   \n",
       "1   905544597018549464.1636867290.1636867290   210838531.163687  2021-11-14   \n",
       "2  9055446045651783499.1640648526.1640648526  2108385331.164065  2021-12-28   \n",
       "3  9055447046360770272.1622255328.1622255328  2108385564.162225  2021-05-29   \n",
       "4  9055447046360770272.1622255345.1622255345  2108385564.162225  2021-05-29   \n",
       "\n",
       "  visit_time  visit_number            utm_source utm_medium  \\\n",
       "0   14:36:32             1  ZpYIoDJMcFzVoPFsHGJL     banner   \n",
       "1   08:21:30             1  MvfHsxITijuriZxsqZqt        cpm   \n",
       "2   02:42:06             1  ZpYIoDJMcFzVoPFsHGJL     banner   \n",
       "3   05:00:00             1  kjsLglQLzykiRbcDiGcD        cpc   \n",
       "4   05:00:00             2  kjsLglQLzykiRbcDiGcD        cpc   \n",
       "\n",
       "           utm_campaign         utm_adcontent           utm_keyword  \\\n",
       "0  LEoPHuyFvzoNfnzGgfcd  vCIpmpaGBnIQhyYNkXqp  puhZPIYqKXeFPaUviSjo   \n",
       "1  FTjNLDyTrXaWYgZymFkV  xhoenQgDQsgfEPYNPwKO  IGUCNvHlhfHpROGclCit   \n",
       "2  LEoPHuyFvzoNfnzGgfcd  vCIpmpaGBnIQhyYNkXqp  puhZPIYqKXeFPaUviSjo   \n",
       "3                   NaN  NOBKLgtuvqYWkXQHeYWM                   NaN   \n",
       "4                   NaN                   NaN                   NaN   \n",
       "\n",
       "  device_category device_os device_brand device_model  \\\n",
       "0          mobile   Android       Huawei          NaN   \n",
       "1          mobile   Android      Samsung          NaN   \n",
       "2          mobile   Android       Huawei          NaN   \n",
       "3          mobile       NaN       Xiaomi          NaN   \n",
       "4          mobile       NaN       Xiaomi          NaN   \n",
       "\n",
       "  device_screen_resolution    device_browser geo_country     geo_city  \n",
       "0                  360x720            Chrome      Russia     Zlatoust  \n",
       "1                  385x854  Samsung Internet      Russia       Moscow  \n",
       "2                  360x720            Chrome      Russia  Krasnoyarsk  \n",
       "3                  393x786            Chrome      Russia       Moscow  \n",
       "4                  393x786            Chrome      Russia       Moscow  "
      ]
     },
     "execution_count": 4,
     "metadata": {},
     "output_type": "execute_result"
    }
   ],
   "source": [
    "df_sessions.head()"
   ]
  },
  {
   "cell_type": "code",
   "execution_count": 5,
   "id": "78298d6b-7540-42d6-9ddf-35774db80ffc",
   "metadata": {},
   "outputs": [
    {
     "data": {
      "text/html": [
       "<div>\n",
       "<style scoped>\n",
       "    .dataframe tbody tr th:only-of-type {\n",
       "        vertical-align: middle;\n",
       "    }\n",
       "\n",
       "    .dataframe tbody tr th {\n",
       "        vertical-align: top;\n",
       "    }\n",
       "\n",
       "    .dataframe thead th {\n",
       "        text-align: right;\n",
       "    }\n",
       "</style>\n",
       "<table border=\"1\" class=\"dataframe\">\n",
       "  <thead>\n",
       "    <tr style=\"text-align: right;\">\n",
       "      <th></th>\n",
       "      <th>session_id</th>\n",
       "      <th>hit_date</th>\n",
       "      <th>hit_time</th>\n",
       "      <th>hit_number</th>\n",
       "      <th>hit_type</th>\n",
       "      <th>hit_referer</th>\n",
       "      <th>hit_page_path</th>\n",
       "      <th>event_category</th>\n",
       "      <th>event_action</th>\n",
       "      <th>event_label</th>\n",
       "      <th>event_value</th>\n",
       "    </tr>\n",
       "  </thead>\n",
       "  <tbody>\n",
       "    <tr>\n",
       "      <th>0</th>\n",
       "      <td>5639623078712724064.1640254056.1640254056</td>\n",
       "      <td>2021-12-23</td>\n",
       "      <td>597864.0</td>\n",
       "      <td>30</td>\n",
       "      <td>event</td>\n",
       "      <td>NaN</td>\n",
       "      <td>sberauto.com/cars?utm_source_initial=google&amp;ut...</td>\n",
       "      <td>quiz</td>\n",
       "      <td>quiz_show</td>\n",
       "      <td>NaN</td>\n",
       "      <td>NaN</td>\n",
       "    </tr>\n",
       "    <tr>\n",
       "      <th>1</th>\n",
       "      <td>7750352294969115059.1640271109.1640271109</td>\n",
       "      <td>2021-12-23</td>\n",
       "      <td>597331.0</td>\n",
       "      <td>41</td>\n",
       "      <td>event</td>\n",
       "      <td>NaN</td>\n",
       "      <td>sberauto.com/cars/fiat?city=1&amp;city=18&amp;rental_c...</td>\n",
       "      <td>quiz</td>\n",
       "      <td>quiz_show</td>\n",
       "      <td>NaN</td>\n",
       "      <td>NaN</td>\n",
       "    </tr>\n",
       "    <tr>\n",
       "      <th>2</th>\n",
       "      <td>885342191847998240.1640235807.1640235807</td>\n",
       "      <td>2021-12-23</td>\n",
       "      <td>796252.0</td>\n",
       "      <td>49</td>\n",
       "      <td>event</td>\n",
       "      <td>NaN</td>\n",
       "      <td>sberauto.com/cars/all/volkswagen/polo/e994838f...</td>\n",
       "      <td>quiz</td>\n",
       "      <td>quiz_show</td>\n",
       "      <td>NaN</td>\n",
       "      <td>NaN</td>\n",
       "    </tr>\n",
       "    <tr>\n",
       "      <th>3</th>\n",
       "      <td>142526202120934167.1640211014.1640211014</td>\n",
       "      <td>2021-12-23</td>\n",
       "      <td>934292.0</td>\n",
       "      <td>46</td>\n",
       "      <td>event</td>\n",
       "      <td>NaN</td>\n",
       "      <td>sberauto.com/cars?utm_source_initial=yandex&amp;ut...</td>\n",
       "      <td>quiz</td>\n",
       "      <td>quiz_show</td>\n",
       "      <td>NaN</td>\n",
       "      <td>NaN</td>\n",
       "    </tr>\n",
       "    <tr>\n",
       "      <th>4</th>\n",
       "      <td>3450086108837475701.1640265078.1640265078</td>\n",
       "      <td>2021-12-23</td>\n",
       "      <td>768741.0</td>\n",
       "      <td>79</td>\n",
       "      <td>event</td>\n",
       "      <td>NaN</td>\n",
       "      <td>sberauto.com/cars/all/mercedes-benz/cla-klasse...</td>\n",
       "      <td>quiz</td>\n",
       "      <td>quiz_show</td>\n",
       "      <td>NaN</td>\n",
       "      <td>NaN</td>\n",
       "    </tr>\n",
       "  </tbody>\n",
       "</table>\n",
       "</div>"
      ],
      "text/plain": [
       "                                  session_id    hit_date  hit_time  \\\n",
       "0  5639623078712724064.1640254056.1640254056  2021-12-23  597864.0   \n",
       "1  7750352294969115059.1640271109.1640271109  2021-12-23  597331.0   \n",
       "2   885342191847998240.1640235807.1640235807  2021-12-23  796252.0   \n",
       "3   142526202120934167.1640211014.1640211014  2021-12-23  934292.0   \n",
       "4  3450086108837475701.1640265078.1640265078  2021-12-23  768741.0   \n",
       "\n",
       "   hit_number hit_type hit_referer  \\\n",
       "0          30    event         NaN   \n",
       "1          41    event         NaN   \n",
       "2          49    event         NaN   \n",
       "3          46    event         NaN   \n",
       "4          79    event         NaN   \n",
       "\n",
       "                                       hit_page_path event_category  \\\n",
       "0  sberauto.com/cars?utm_source_initial=google&ut...           quiz   \n",
       "1  sberauto.com/cars/fiat?city=1&city=18&rental_c...           quiz   \n",
       "2  sberauto.com/cars/all/volkswagen/polo/e994838f...           quiz   \n",
       "3  sberauto.com/cars?utm_source_initial=yandex&ut...           quiz   \n",
       "4  sberauto.com/cars/all/mercedes-benz/cla-klasse...           quiz   \n",
       "\n",
       "  event_action event_label  event_value  \n",
       "0    quiz_show         NaN          NaN  \n",
       "1    quiz_show         NaN          NaN  \n",
       "2    quiz_show         NaN          NaN  \n",
       "3    quiz_show         NaN          NaN  \n",
       "4    quiz_show         NaN          NaN  "
      ]
     },
     "execution_count": 5,
     "metadata": {},
     "output_type": "execute_result"
    }
   ],
   "source": [
    "df_hits.head()"
   ]
  },
  {
   "cell_type": "code",
   "execution_count": 6,
   "id": "3bf0d258-4fc4-4245-8a1b-5f1625824a7a",
   "metadata": {},
   "outputs": [
    {
     "name": "stdout",
     "output_type": "stream",
     "text": [
      "<class 'pandas.core.frame.DataFrame'>\n",
      "RangeIndex: 1860042 entries, 0 to 1860041\n",
      "Data columns (total 18 columns):\n",
      " #   Column                    Dtype \n",
      "---  ------                    ----- \n",
      " 0   session_id                object\n",
      " 1   client_id                 object\n",
      " 2   visit_date                object\n",
      " 3   visit_time                object\n",
      " 4   visit_number              int64 \n",
      " 5   utm_source                object\n",
      " 6   utm_medium                object\n",
      " 7   utm_campaign              object\n",
      " 8   utm_adcontent             object\n",
      " 9   utm_keyword               object\n",
      " 10  device_category           object\n",
      " 11  device_os                 object\n",
      " 12  device_brand              object\n",
      " 13  device_model              object\n",
      " 14  device_screen_resolution  object\n",
      " 15  device_browser            object\n",
      " 16  geo_country               object\n",
      " 17  geo_city                  object\n",
      "dtypes: int64(1), object(17)\n",
      "memory usage: 255.4+ MB\n"
     ]
    }
   ],
   "source": [
    "df_sessions.info()"
   ]
  },
  {
   "cell_type": "code",
   "execution_count": 7,
   "id": "8731caa5-ae10-4c9d-87f8-3385a84b7db3",
   "metadata": {},
   "outputs": [
    {
     "name": "stdout",
     "output_type": "stream",
     "text": [
      "<class 'pandas.core.frame.DataFrame'>\n",
      "RangeIndex: 15726470 entries, 0 to 15726469\n",
      "Data columns (total 11 columns):\n",
      " #   Column          Dtype  \n",
      "---  ------          -----  \n",
      " 0   session_id      object \n",
      " 1   hit_date        object \n",
      " 2   hit_time        float64\n",
      " 3   hit_number      int64  \n",
      " 4   hit_type        object \n",
      " 5   hit_referer     object \n",
      " 6   hit_page_path   object \n",
      " 7   event_category  object \n",
      " 8   event_action    object \n",
      " 9   event_label     object \n",
      " 10  event_value     float64\n",
      "dtypes: float64(2), int64(1), object(8)\n",
      "memory usage: 1.3+ GB\n"
     ]
    }
   ],
   "source": [
    "df_hits.info()"
   ]
  },
  {
   "cell_type": "code",
   "execution_count": 1,
   "id": "026f8fbf-722f-4081-9770-c1b8342bd849",
   "metadata": {},
   "outputs": [],
   "source": [
    "# Merge two tables into one based on common features"
   ]
  },
  {
   "cell_type": "code",
   "execution_count": 9,
   "id": "7b880a2d-af50-4c88-ab70-841fad98e877",
   "metadata": {},
   "outputs": [],
   "source": [
    "merged_df = pd.merge(df_sessions, df_hits, left_on=['session_id', 'visit_date'], right_on=['session_id', 'hit_date'], how='inner')"
   ]
  },
  {
   "cell_type": "code",
   "execution_count": 3,
   "id": "49a933f0-6e8e-4776-b4c1-be79fec7813a",
   "metadata": {},
   "outputs": [],
   "source": [
    "# drop dublicates"
   ]
  },
  {
   "cell_type": "code",
   "execution_count": 11,
   "id": "f6c7b038-5fc3-43e1-8e8b-2afee08d464b",
   "metadata": {},
   "outputs": [],
   "source": [
    "merged_df = merged_df.drop_duplicates(subset=['session_id', 'hit_date'], keep='first')"
   ]
  },
  {
   "cell_type": "code",
   "execution_count": 12,
   "id": "118a781e-b290-4455-8c57-41b0c186a49f",
   "metadata": {},
   "outputs": [
    {
     "name": "stdout",
     "output_type": "stream",
     "text": [
      "<class 'pandas.core.frame.DataFrame'>\n",
      "Index: 1732266 entries, 0 to 15685206\n",
      "Data columns (total 28 columns):\n",
      " #   Column                    Dtype  \n",
      "---  ------                    -----  \n",
      " 0   session_id                object \n",
      " 1   client_id                 object \n",
      " 2   visit_date                object \n",
      " 3   visit_time                object \n",
      " 4   visit_number              int64  \n",
      " 5   utm_source                object \n",
      " 6   utm_medium                object \n",
      " 7   utm_campaign              object \n",
      " 8   utm_adcontent             object \n",
      " 9   utm_keyword               object \n",
      " 10  device_category           object \n",
      " 11  device_os                 object \n",
      " 12  device_brand              object \n",
      " 13  device_model              object \n",
      " 14  device_screen_resolution  object \n",
      " 15  device_browser            object \n",
      " 16  geo_country               object \n",
      " 17  geo_city                  object \n",
      " 18  hit_date                  object \n",
      " 19  hit_time                  float64\n",
      " 20  hit_number                int64  \n",
      " 21  hit_type                  object \n",
      " 22  hit_referer               object \n",
      " 23  hit_page_path             object \n",
      " 24  event_category            object \n",
      " 25  event_action              object \n",
      " 26  event_label               object \n",
      " 27  event_value               float64\n",
      "dtypes: float64(2), int64(2), object(24)\n",
      "memory usage: 383.3+ MB\n"
     ]
    }
   ],
   "source": [
    "merged_df.info()"
   ]
  },
  {
   "cell_type": "code",
   "execution_count": 13,
   "id": "4686f306-291a-441e-9a2b-7058b71a4dea",
   "metadata": {},
   "outputs": [
    {
     "data": {
      "text/html": [
       "<div>\n",
       "<style scoped>\n",
       "    .dataframe tbody tr th:only-of-type {\n",
       "        vertical-align: middle;\n",
       "    }\n",
       "\n",
       "    .dataframe tbody tr th {\n",
       "        vertical-align: top;\n",
       "    }\n",
       "\n",
       "    .dataframe thead th {\n",
       "        text-align: right;\n",
       "    }\n",
       "</style>\n",
       "<table border=\"1\" class=\"dataframe\">\n",
       "  <thead>\n",
       "    <tr style=\"text-align: right;\">\n",
       "      <th></th>\n",
       "      <th>session_id</th>\n",
       "      <th>client_id</th>\n",
       "      <th>visit_date</th>\n",
       "      <th>visit_time</th>\n",
       "      <th>visit_number</th>\n",
       "      <th>utm_source</th>\n",
       "      <th>utm_medium</th>\n",
       "      <th>utm_campaign</th>\n",
       "      <th>utm_adcontent</th>\n",
       "      <th>utm_keyword</th>\n",
       "      <th>...</th>\n",
       "      <th>hit_date</th>\n",
       "      <th>hit_time</th>\n",
       "      <th>hit_number</th>\n",
       "      <th>hit_type</th>\n",
       "      <th>hit_referer</th>\n",
       "      <th>hit_page_path</th>\n",
       "      <th>event_category</th>\n",
       "      <th>event_action</th>\n",
       "      <th>event_label</th>\n",
       "      <th>event_value</th>\n",
       "    </tr>\n",
       "  </thead>\n",
       "  <tbody>\n",
       "    <tr>\n",
       "      <th>0</th>\n",
       "      <td>9055434745589932991.1637753792.1637753792</td>\n",
       "      <td>2108382700.163776</td>\n",
       "      <td>2021-11-24</td>\n",
       "      <td>14:36:32</td>\n",
       "      <td>1</td>\n",
       "      <td>ZpYIoDJMcFzVoPFsHGJL</td>\n",
       "      <td>banner</td>\n",
       "      <td>LEoPHuyFvzoNfnzGgfcd</td>\n",
       "      <td>vCIpmpaGBnIQhyYNkXqp</td>\n",
       "      <td>puhZPIYqKXeFPaUviSjo</td>\n",
       "      <td>...</td>\n",
       "      <td>2021-11-24</td>\n",
       "      <td>3665.0</td>\n",
       "      <td>3</td>\n",
       "      <td>event</td>\n",
       "      <td>NaN</td>\n",
       "      <td>podpiska.sberauto.com/</td>\n",
       "      <td>sub_page_view</td>\n",
       "      <td>sub_landing</td>\n",
       "      <td>NaN</td>\n",
       "      <td>NaN</td>\n",
       "    </tr>\n",
       "    <tr>\n",
       "      <th>2</th>\n",
       "      <td>905544597018549464.1636867290.1636867290</td>\n",
       "      <td>210838531.163687</td>\n",
       "      <td>2021-11-14</td>\n",
       "      <td>08:21:30</td>\n",
       "      <td>1</td>\n",
       "      <td>MvfHsxITijuriZxsqZqt</td>\n",
       "      <td>cpm</td>\n",
       "      <td>FTjNLDyTrXaWYgZymFkV</td>\n",
       "      <td>xhoenQgDQsgfEPYNPwKO</td>\n",
       "      <td>IGUCNvHlhfHpROGclCit</td>\n",
       "      <td>...</td>\n",
       "      <td>2021-11-14</td>\n",
       "      <td>921.0</td>\n",
       "      <td>3</td>\n",
       "      <td>event</td>\n",
       "      <td>NaN</td>\n",
       "      <td>podpiska.sberauto.com/</td>\n",
       "      <td>sub_page_view</td>\n",
       "      <td>sub_landing</td>\n",
       "      <td>NaN</td>\n",
       "      <td>NaN</td>\n",
       "    </tr>\n",
       "    <tr>\n",
       "      <th>3</th>\n",
       "      <td>9055446045651783499.1640648526.1640648526</td>\n",
       "      <td>2108385331.164065</td>\n",
       "      <td>2021-12-28</td>\n",
       "      <td>02:42:06</td>\n",
       "      <td>1</td>\n",
       "      <td>ZpYIoDJMcFzVoPFsHGJL</td>\n",
       "      <td>banner</td>\n",
       "      <td>LEoPHuyFvzoNfnzGgfcd</td>\n",
       "      <td>vCIpmpaGBnIQhyYNkXqp</td>\n",
       "      <td>puhZPIYqKXeFPaUviSjo</td>\n",
       "      <td>...</td>\n",
       "      <td>2021-12-28</td>\n",
       "      <td>84155.0</td>\n",
       "      <td>10</td>\n",
       "      <td>event</td>\n",
       "      <td>NaN</td>\n",
       "      <td>sberauto.com/cars?utm_source_initial=sbol&amp;utm_...</td>\n",
       "      <td>search_form</td>\n",
       "      <td>search_form_region</td>\n",
       "      <td>KWTCzSIXzoqUWjfUQMgP</td>\n",
       "      <td>NaN</td>\n",
       "    </tr>\n",
       "    <tr>\n",
       "      <th>19</th>\n",
       "      <td>9055447046360770272.1622255328.1622255328</td>\n",
       "      <td>2108385564.162225</td>\n",
       "      <td>2021-05-29</td>\n",
       "      <td>05:00:00</td>\n",
       "      <td>1</td>\n",
       "      <td>kjsLglQLzykiRbcDiGcD</td>\n",
       "      <td>cpc</td>\n",
       "      <td>NaN</td>\n",
       "      <td>NOBKLgtuvqYWkXQHeYWM</td>\n",
       "      <td>NaN</td>\n",
       "      <td>...</td>\n",
       "      <td>2021-05-29</td>\n",
       "      <td>NaN</td>\n",
       "      <td>2</td>\n",
       "      <td>event</td>\n",
       "      <td>HbolMJUevblAbkHClEQa</td>\n",
       "      <td>podpiska.sberauto.com/</td>\n",
       "      <td>sub_page_view</td>\n",
       "      <td>sub_landing</td>\n",
       "      <td>KclpemfoHstknWHFiLit</td>\n",
       "      <td>NaN</td>\n",
       "    </tr>\n",
       "    <tr>\n",
       "      <th>22</th>\n",
       "      <td>9055447046360770272.1622255345.1622255345</td>\n",
       "      <td>2108385564.162225</td>\n",
       "      <td>2021-05-29</td>\n",
       "      <td>05:00:00</td>\n",
       "      <td>2</td>\n",
       "      <td>kjsLglQLzykiRbcDiGcD</td>\n",
       "      <td>cpc</td>\n",
       "      <td>NaN</td>\n",
       "      <td>NaN</td>\n",
       "      <td>NaN</td>\n",
       "      <td>...</td>\n",
       "      <td>2021-05-29</td>\n",
       "      <td>NaN</td>\n",
       "      <td>3</td>\n",
       "      <td>event</td>\n",
       "      <td>HbolMJUevblAbkHClEQa</td>\n",
       "      <td>sberauto.com/cars?city=1&amp;rental_page=rental_on...</td>\n",
       "      <td>quiz</td>\n",
       "      <td>quiz_show</td>\n",
       "      <td>KclpemfoHstknWHFiLit</td>\n",
       "      <td>NaN</td>\n",
       "    </tr>\n",
       "  </tbody>\n",
       "</table>\n",
       "<p>5 rows × 28 columns</p>\n",
       "</div>"
      ],
      "text/plain": [
       "                                   session_id          client_id  visit_date  \\\n",
       "0   9055434745589932991.1637753792.1637753792  2108382700.163776  2021-11-24   \n",
       "2    905544597018549464.1636867290.1636867290   210838531.163687  2021-11-14   \n",
       "3   9055446045651783499.1640648526.1640648526  2108385331.164065  2021-12-28   \n",
       "19  9055447046360770272.1622255328.1622255328  2108385564.162225  2021-05-29   \n",
       "22  9055447046360770272.1622255345.1622255345  2108385564.162225  2021-05-29   \n",
       "\n",
       "   visit_time  visit_number            utm_source utm_medium  \\\n",
       "0    14:36:32             1  ZpYIoDJMcFzVoPFsHGJL     banner   \n",
       "2    08:21:30             1  MvfHsxITijuriZxsqZqt        cpm   \n",
       "3    02:42:06             1  ZpYIoDJMcFzVoPFsHGJL     banner   \n",
       "19   05:00:00             1  kjsLglQLzykiRbcDiGcD        cpc   \n",
       "22   05:00:00             2  kjsLglQLzykiRbcDiGcD        cpc   \n",
       "\n",
       "            utm_campaign         utm_adcontent           utm_keyword  ...  \\\n",
       "0   LEoPHuyFvzoNfnzGgfcd  vCIpmpaGBnIQhyYNkXqp  puhZPIYqKXeFPaUviSjo  ...   \n",
       "2   FTjNLDyTrXaWYgZymFkV  xhoenQgDQsgfEPYNPwKO  IGUCNvHlhfHpROGclCit  ...   \n",
       "3   LEoPHuyFvzoNfnzGgfcd  vCIpmpaGBnIQhyYNkXqp  puhZPIYqKXeFPaUviSjo  ...   \n",
       "19                   NaN  NOBKLgtuvqYWkXQHeYWM                   NaN  ...   \n",
       "22                   NaN                   NaN                   NaN  ...   \n",
       "\n",
       "      hit_date hit_time hit_number hit_type           hit_referer  \\\n",
       "0   2021-11-24   3665.0          3    event                   NaN   \n",
       "2   2021-11-14    921.0          3    event                   NaN   \n",
       "3   2021-12-28  84155.0         10    event                   NaN   \n",
       "19  2021-05-29      NaN          2    event  HbolMJUevblAbkHClEQa   \n",
       "22  2021-05-29      NaN          3    event  HbolMJUevblAbkHClEQa   \n",
       "\n",
       "                                        hit_page_path event_category  \\\n",
       "0                              podpiska.sberauto.com/  sub_page_view   \n",
       "2                              podpiska.sberauto.com/  sub_page_view   \n",
       "3   sberauto.com/cars?utm_source_initial=sbol&utm_...    search_form   \n",
       "19                             podpiska.sberauto.com/  sub_page_view   \n",
       "22  sberauto.com/cars?city=1&rental_page=rental_on...           quiz   \n",
       "\n",
       "          event_action           event_label  event_value  \n",
       "0          sub_landing                   NaN          NaN  \n",
       "2          sub_landing                   NaN          NaN  \n",
       "3   search_form_region  KWTCzSIXzoqUWjfUQMgP          NaN  \n",
       "19         sub_landing  KclpemfoHstknWHFiLit          NaN  \n",
       "22           quiz_show  KclpemfoHstknWHFiLit          NaN  \n",
       "\n",
       "[5 rows x 28 columns]"
      ]
     },
     "execution_count": 13,
     "metadata": {},
     "output_type": "execute_result"
    }
   ],
   "source": [
    "merged_df.head()"
   ]
  },
  {
   "cell_type": "markdown",
   "id": "fbf21136-964a-4911-af90-7cbfed0ae004",
   "metadata": {},
   "source": [
    "# Data Preparation"
   ]
  },
  {
   "cell_type": "markdown",
   "id": "7f752b89-5a5d-48dc-97f0-17fbcb96363f",
   "metadata": {},
   "source": [
    "### Drop columns"
   ]
  },
  {
   "cell_type": "code",
   "execution_count": 5,
   "id": "91674a46-3dec-4fb0-81e6-7a44ad90f91d",
   "metadata": {},
   "outputs": [
    {
     "ename": "NameError",
     "evalue": "name 'merged_df' is not defined",
     "output_type": "error",
     "traceback": [
      "\u001b[0;31m---------------------------------------------------------------------------\u001b[0m",
      "\u001b[0;31mNameError\u001b[0m                                 Traceback (most recent call last)",
      "Cell \u001b[0;32mIn[5], line 1\u001b[0m\n\u001b[0;32m----> 1\u001b[0m \u001b[38;5;28;01mif\u001b[39;00m (merged_df[\u001b[38;5;124m'\u001b[39m\u001b[38;5;124mvisit_date\u001b[39m\u001b[38;5;124m'\u001b[39m]\u001b[38;5;241m.\u001b[39mvalues \u001b[38;5;241m==\u001b[39m merged_df[\u001b[38;5;124m'\u001b[39m\u001b[38;5;124mhit_date\u001b[39m\u001b[38;5;124m'\u001b[39m]\u001b[38;5;241m.\u001b[39mvalues)\u001b[38;5;241m.\u001b[39mall():\n\u001b[1;32m      2\u001b[0m     \u001b[38;5;28mprint\u001b[39m(\u001b[38;5;124m\"\u001b[39m\u001b[38;5;124mAll values are identical\u001b[39m\u001b[38;5;124m\"\u001b[39m)\n\u001b[1;32m      3\u001b[0m \u001b[38;5;28;01melse\u001b[39;00m:\n",
      "\u001b[0;31mNameError\u001b[0m: name 'merged_df' is not defined"
     ]
    }
   ],
   "source": [
    "if (merged_df['visit_date'].values == merged_df['hit_date'].values).all():\n",
    "    print(\"All values are identical\")\n",
    "else:\n",
    "    print(\"There are differences\")"
   ]
  },
  {
   "cell_type": "code",
   "execution_count": 17,
   "id": "c27862bf-60b0-4fc9-a3a8-01e5309a4638",
   "metadata": {},
   "outputs": [],
   "source": [
    "merged_df = merged_df.drop(columns=['visit_date'])"
   ]
  },
  {
   "cell_type": "code",
   "execution_count": 18,
   "id": "5ba26832-626e-48b2-993a-f418255c9382",
   "metadata": {},
   "outputs": [
    {
     "data": {
      "text/plain": [
       "1732266"
      ]
     },
     "execution_count": 18,
     "metadata": {},
     "output_type": "execute_result"
    }
   ],
   "source": [
    "merged_df.session_id.nunique()"
   ]
  },
  {
   "cell_type": "code",
   "execution_count": 20,
   "id": "4a4c3435-54a8-41e7-8020-2801f53ad4f6",
   "metadata": {},
   "outputs": [],
   "source": [
    "merged_df = merged_df.drop(columns=['client_id', 'session_id'])"
   ]
  },
  {
   "cell_type": "code",
   "execution_count": 21,
   "id": "4b4907e2-e95d-42bb-a26a-bf7595e4c92e",
   "metadata": {},
   "outputs": [
    {
     "data": {
      "text/html": [
       "<div>\n",
       "<style scoped>\n",
       "    .dataframe tbody tr th:only-of-type {\n",
       "        vertical-align: middle;\n",
       "    }\n",
       "\n",
       "    .dataframe tbody tr th {\n",
       "        vertical-align: top;\n",
       "    }\n",
       "\n",
       "    .dataframe thead th {\n",
       "        text-align: right;\n",
       "    }\n",
       "</style>\n",
       "<table border=\"1\" class=\"dataframe\">\n",
       "  <thead>\n",
       "    <tr style=\"text-align: right;\">\n",
       "      <th></th>\n",
       "      <th>visit_time</th>\n",
       "      <th>visit_number</th>\n",
       "      <th>utm_source</th>\n",
       "      <th>utm_medium</th>\n",
       "      <th>utm_campaign</th>\n",
       "      <th>utm_adcontent</th>\n",
       "      <th>utm_keyword</th>\n",
       "      <th>device_category</th>\n",
       "      <th>device_os</th>\n",
       "      <th>device_brand</th>\n",
       "      <th>...</th>\n",
       "      <th>hit_date</th>\n",
       "      <th>hit_time</th>\n",
       "      <th>hit_number</th>\n",
       "      <th>hit_type</th>\n",
       "      <th>hit_referer</th>\n",
       "      <th>hit_page_path</th>\n",
       "      <th>event_category</th>\n",
       "      <th>event_action</th>\n",
       "      <th>event_label</th>\n",
       "      <th>event_value</th>\n",
       "    </tr>\n",
       "  </thead>\n",
       "  <tbody>\n",
       "    <tr>\n",
       "      <th>0</th>\n",
       "      <td>14:36:32</td>\n",
       "      <td>1</td>\n",
       "      <td>ZpYIoDJMcFzVoPFsHGJL</td>\n",
       "      <td>banner</td>\n",
       "      <td>LEoPHuyFvzoNfnzGgfcd</td>\n",
       "      <td>vCIpmpaGBnIQhyYNkXqp</td>\n",
       "      <td>puhZPIYqKXeFPaUviSjo</td>\n",
       "      <td>mobile</td>\n",
       "      <td>Android</td>\n",
       "      <td>Huawei</td>\n",
       "      <td>...</td>\n",
       "      <td>2021-11-24</td>\n",
       "      <td>3665.0</td>\n",
       "      <td>3</td>\n",
       "      <td>event</td>\n",
       "      <td>NaN</td>\n",
       "      <td>podpiska.sberauto.com/</td>\n",
       "      <td>sub_page_view</td>\n",
       "      <td>sub_landing</td>\n",
       "      <td>NaN</td>\n",
       "      <td>NaN</td>\n",
       "    </tr>\n",
       "    <tr>\n",
       "      <th>2</th>\n",
       "      <td>08:21:30</td>\n",
       "      <td>1</td>\n",
       "      <td>MvfHsxITijuriZxsqZqt</td>\n",
       "      <td>cpm</td>\n",
       "      <td>FTjNLDyTrXaWYgZymFkV</td>\n",
       "      <td>xhoenQgDQsgfEPYNPwKO</td>\n",
       "      <td>IGUCNvHlhfHpROGclCit</td>\n",
       "      <td>mobile</td>\n",
       "      <td>Android</td>\n",
       "      <td>Samsung</td>\n",
       "      <td>...</td>\n",
       "      <td>2021-11-14</td>\n",
       "      <td>921.0</td>\n",
       "      <td>3</td>\n",
       "      <td>event</td>\n",
       "      <td>NaN</td>\n",
       "      <td>podpiska.sberauto.com/</td>\n",
       "      <td>sub_page_view</td>\n",
       "      <td>sub_landing</td>\n",
       "      <td>NaN</td>\n",
       "      <td>NaN</td>\n",
       "    </tr>\n",
       "    <tr>\n",
       "      <th>3</th>\n",
       "      <td>02:42:06</td>\n",
       "      <td>1</td>\n",
       "      <td>ZpYIoDJMcFzVoPFsHGJL</td>\n",
       "      <td>banner</td>\n",
       "      <td>LEoPHuyFvzoNfnzGgfcd</td>\n",
       "      <td>vCIpmpaGBnIQhyYNkXqp</td>\n",
       "      <td>puhZPIYqKXeFPaUviSjo</td>\n",
       "      <td>mobile</td>\n",
       "      <td>Android</td>\n",
       "      <td>Huawei</td>\n",
       "      <td>...</td>\n",
       "      <td>2021-12-28</td>\n",
       "      <td>84155.0</td>\n",
       "      <td>10</td>\n",
       "      <td>event</td>\n",
       "      <td>NaN</td>\n",
       "      <td>sberauto.com/cars?utm_source_initial=sbol&amp;utm_...</td>\n",
       "      <td>search_form</td>\n",
       "      <td>search_form_region</td>\n",
       "      <td>KWTCzSIXzoqUWjfUQMgP</td>\n",
       "      <td>NaN</td>\n",
       "    </tr>\n",
       "    <tr>\n",
       "      <th>19</th>\n",
       "      <td>05:00:00</td>\n",
       "      <td>1</td>\n",
       "      <td>kjsLglQLzykiRbcDiGcD</td>\n",
       "      <td>cpc</td>\n",
       "      <td>NaN</td>\n",
       "      <td>NOBKLgtuvqYWkXQHeYWM</td>\n",
       "      <td>NaN</td>\n",
       "      <td>mobile</td>\n",
       "      <td>NaN</td>\n",
       "      <td>Xiaomi</td>\n",
       "      <td>...</td>\n",
       "      <td>2021-05-29</td>\n",
       "      <td>NaN</td>\n",
       "      <td>2</td>\n",
       "      <td>event</td>\n",
       "      <td>HbolMJUevblAbkHClEQa</td>\n",
       "      <td>podpiska.sberauto.com/</td>\n",
       "      <td>sub_page_view</td>\n",
       "      <td>sub_landing</td>\n",
       "      <td>KclpemfoHstknWHFiLit</td>\n",
       "      <td>NaN</td>\n",
       "    </tr>\n",
       "    <tr>\n",
       "      <th>22</th>\n",
       "      <td>05:00:00</td>\n",
       "      <td>2</td>\n",
       "      <td>kjsLglQLzykiRbcDiGcD</td>\n",
       "      <td>cpc</td>\n",
       "      <td>NaN</td>\n",
       "      <td>NaN</td>\n",
       "      <td>NaN</td>\n",
       "      <td>mobile</td>\n",
       "      <td>NaN</td>\n",
       "      <td>Xiaomi</td>\n",
       "      <td>...</td>\n",
       "      <td>2021-05-29</td>\n",
       "      <td>NaN</td>\n",
       "      <td>3</td>\n",
       "      <td>event</td>\n",
       "      <td>HbolMJUevblAbkHClEQa</td>\n",
       "      <td>sberauto.com/cars?city=1&amp;rental_page=rental_on...</td>\n",
       "      <td>quiz</td>\n",
       "      <td>quiz_show</td>\n",
       "      <td>KclpemfoHstknWHFiLit</td>\n",
       "      <td>NaN</td>\n",
       "    </tr>\n",
       "  </tbody>\n",
       "</table>\n",
       "<p>5 rows × 25 columns</p>\n",
       "</div>"
      ],
      "text/plain": [
       "   visit_time  visit_number            utm_source utm_medium  \\\n",
       "0    14:36:32             1  ZpYIoDJMcFzVoPFsHGJL     banner   \n",
       "2    08:21:30             1  MvfHsxITijuriZxsqZqt        cpm   \n",
       "3    02:42:06             1  ZpYIoDJMcFzVoPFsHGJL     banner   \n",
       "19   05:00:00             1  kjsLglQLzykiRbcDiGcD        cpc   \n",
       "22   05:00:00             2  kjsLglQLzykiRbcDiGcD        cpc   \n",
       "\n",
       "            utm_campaign         utm_adcontent           utm_keyword  \\\n",
       "0   LEoPHuyFvzoNfnzGgfcd  vCIpmpaGBnIQhyYNkXqp  puhZPIYqKXeFPaUviSjo   \n",
       "2   FTjNLDyTrXaWYgZymFkV  xhoenQgDQsgfEPYNPwKO  IGUCNvHlhfHpROGclCit   \n",
       "3   LEoPHuyFvzoNfnzGgfcd  vCIpmpaGBnIQhyYNkXqp  puhZPIYqKXeFPaUviSjo   \n",
       "19                   NaN  NOBKLgtuvqYWkXQHeYWM                   NaN   \n",
       "22                   NaN                   NaN                   NaN   \n",
       "\n",
       "   device_category device_os device_brand  ...    hit_date hit_time  \\\n",
       "0           mobile   Android       Huawei  ...  2021-11-24   3665.0   \n",
       "2           mobile   Android      Samsung  ...  2021-11-14    921.0   \n",
       "3           mobile   Android       Huawei  ...  2021-12-28  84155.0   \n",
       "19          mobile       NaN       Xiaomi  ...  2021-05-29      NaN   \n",
       "22          mobile       NaN       Xiaomi  ...  2021-05-29      NaN   \n",
       "\n",
       "   hit_number hit_type           hit_referer  \\\n",
       "0           3    event                   NaN   \n",
       "2           3    event                   NaN   \n",
       "3          10    event                   NaN   \n",
       "19          2    event  HbolMJUevblAbkHClEQa   \n",
       "22          3    event  HbolMJUevblAbkHClEQa   \n",
       "\n",
       "                                        hit_page_path  event_category  \\\n",
       "0                              podpiska.sberauto.com/   sub_page_view   \n",
       "2                              podpiska.sberauto.com/   sub_page_view   \n",
       "3   sberauto.com/cars?utm_source_initial=sbol&utm_...     search_form   \n",
       "19                             podpiska.sberauto.com/   sub_page_view   \n",
       "22  sberauto.com/cars?city=1&rental_page=rental_on...            quiz   \n",
       "\n",
       "          event_action           event_label event_value  \n",
       "0          sub_landing                   NaN         NaN  \n",
       "2          sub_landing                   NaN         NaN  \n",
       "3   search_form_region  KWTCzSIXzoqUWjfUQMgP         NaN  \n",
       "19         sub_landing  KclpemfoHstknWHFiLit         NaN  \n",
       "22           quiz_show  KclpemfoHstknWHFiLit         NaN  \n",
       "\n",
       "[5 rows x 25 columns]"
      ]
     },
     "execution_count": 21,
     "metadata": {},
     "output_type": "execute_result"
    }
   ],
   "source": [
    "merged_df.head()"
   ]
  },
  {
   "cell_type": "code",
   "execution_count": 22,
   "id": "642f4dfb-2e7e-4623-bf8e-f5ed9e2c51d0",
   "metadata": {},
   "outputs": [
    {
     "data": {
      "text/html": [
       "<div>\n",
       "<style scoped>\n",
       "    .dataframe tbody tr th:only-of-type {\n",
       "        vertical-align: middle;\n",
       "    }\n",
       "\n",
       "    .dataframe tbody tr th {\n",
       "        vertical-align: top;\n",
       "    }\n",
       "\n",
       "    .dataframe thead th {\n",
       "        text-align: right;\n",
       "    }\n",
       "</style>\n",
       "<table border=\"1\" class=\"dataframe\">\n",
       "  <thead>\n",
       "    <tr style=\"text-align: right;\">\n",
       "      <th></th>\n",
       "      <th>visit_time</th>\n",
       "      <th>visit_number</th>\n",
       "      <th>utm_source</th>\n",
       "      <th>utm_medium</th>\n",
       "      <th>utm_campaign</th>\n",
       "      <th>utm_adcontent</th>\n",
       "      <th>utm_keyword</th>\n",
       "      <th>device_category</th>\n",
       "      <th>device_os</th>\n",
       "      <th>device_brand</th>\n",
       "      <th>...</th>\n",
       "      <th>hit_date</th>\n",
       "      <th>hit_time</th>\n",
       "      <th>hit_number</th>\n",
       "      <th>hit_type</th>\n",
       "      <th>hit_referer</th>\n",
       "      <th>hit_page_path</th>\n",
       "      <th>event_category</th>\n",
       "      <th>event_action</th>\n",
       "      <th>event_label</th>\n",
       "      <th>event_value</th>\n",
       "    </tr>\n",
       "  </thead>\n",
       "  <tbody>\n",
       "    <tr>\n",
       "      <th>25890</th>\n",
       "      <td>14:00:00</td>\n",
       "      <td>1</td>\n",
       "      <td>MvfHsxITijuriZxsqZqt</td>\n",
       "      <td>cpm</td>\n",
       "      <td>FTjNLDyTrXaWYgZymFkV</td>\n",
       "      <td>PkybGvWbaqORmxjNunqZ</td>\n",
       "      <td>NaN</td>\n",
       "      <td>mobile</td>\n",
       "      <td>NaN</td>\n",
       "      <td>Huawei</td>\n",
       "      <td>...</td>\n",
       "      <td>2021-09-17</td>\n",
       "      <td>NaN</td>\n",
       "      <td>13</td>\n",
       "      <td>event</td>\n",
       "      <td>HbolMJUevblAbkHClEQa</td>\n",
       "      <td>sberauto.com/cars/6afb1543?utm_source_initial=...</td>\n",
       "      <td>sub_button_click</td>\n",
       "      <td>sub_car_claim_click</td>\n",
       "      <td>EsLbNNEnCkXWoaesnKlS</td>\n",
       "      <td>NaN</td>\n",
       "    </tr>\n",
       "    <tr>\n",
       "      <th>42969</th>\n",
       "      <td>10:00:00</td>\n",
       "      <td>1</td>\n",
       "      <td>ZpYIoDJMcFzVoPFsHGJL</td>\n",
       "      <td>banner</td>\n",
       "      <td>LEoPHuyFvzoNfnzGgfcd</td>\n",
       "      <td>JNHcPlZPxEMWDnRiyoBf</td>\n",
       "      <td>NaN</td>\n",
       "      <td>mobile</td>\n",
       "      <td>NaN</td>\n",
       "      <td>Apple</td>\n",
       "      <td>...</td>\n",
       "      <td>2021-07-11</td>\n",
       "      <td>NaN</td>\n",
       "      <td>15</td>\n",
       "      <td>event</td>\n",
       "      <td>HbolMJUevblAbkHClEQa</td>\n",
       "      <td>sberauto.com/cars/bf24b977?rental_page=rental_car</td>\n",
       "      <td>sub_button_click</td>\n",
       "      <td>sub_car_claim_click</td>\n",
       "      <td>EsLbNNEnCkXWoaesnKlS</td>\n",
       "      <td>NaN</td>\n",
       "    </tr>\n",
       "    <tr>\n",
       "      <th>76767</th>\n",
       "      <td>23:55:57</td>\n",
       "      <td>1</td>\n",
       "      <td>ZpYIoDJMcFzVoPFsHGJL</td>\n",
       "      <td>banner</td>\n",
       "      <td>LEoPHuyFvzoNfnzGgfcd</td>\n",
       "      <td>vCIpmpaGBnIQhyYNkXqp</td>\n",
       "      <td>puhZPIYqKXeFPaUviSjo</td>\n",
       "      <td>mobile</td>\n",
       "      <td>Android</td>\n",
       "      <td>Huawei</td>\n",
       "      <td>...</td>\n",
       "      <td>2021-12-01</td>\n",
       "      <td>114902.0</td>\n",
       "      <td>16</td>\n",
       "      <td>event</td>\n",
       "      <td>NaN</td>\n",
       "      <td>sberauto.com/cars/all/skoda/rapid/bf24b977?utm...</td>\n",
       "      <td>sub_button_click</td>\n",
       "      <td>sub_car_claim_click</td>\n",
       "      <td>EsLbNNEnCkXWoaesnKlS</td>\n",
       "      <td>NaN</td>\n",
       "    </tr>\n",
       "    <tr>\n",
       "      <th>81974</th>\n",
       "      <td>21:00:00</td>\n",
       "      <td>3</td>\n",
       "      <td>bByPQxmDaMXgpHeypKSM</td>\n",
       "      <td>referral</td>\n",
       "      <td>LTuZkdKfxRGVceoWkVyg</td>\n",
       "      <td>JNHcPlZPxEMWDnRiyoBf</td>\n",
       "      <td>NaN</td>\n",
       "      <td>mobile</td>\n",
       "      <td>NaN</td>\n",
       "      <td>Apple</td>\n",
       "      <td>...</td>\n",
       "      <td>2021-09-07</td>\n",
       "      <td>NaN</td>\n",
       "      <td>5</td>\n",
       "      <td>event</td>\n",
       "      <td>HbolMJUevblAbkHClEQa</td>\n",
       "      <td>sberauto.com/cars/6afb1543?rental_page=rental_car</td>\n",
       "      <td>sub_button_click</td>\n",
       "      <td>sub_car_claim_click</td>\n",
       "      <td>nzDXtAvtTrzfwscIPQkp</td>\n",
       "      <td>NaN</td>\n",
       "    </tr>\n",
       "    <tr>\n",
       "      <th>94133</th>\n",
       "      <td>00:00:00</td>\n",
       "      <td>1</td>\n",
       "      <td>bByPQxmDaMXgpHeypKSM</td>\n",
       "      <td>referral</td>\n",
       "      <td>FTjNLDyTrXaWYgZymFkV</td>\n",
       "      <td>PkybGvWbaqORmxjNunqZ</td>\n",
       "      <td>NaN</td>\n",
       "      <td>mobile</td>\n",
       "      <td>NaN</td>\n",
       "      <td>Samsung</td>\n",
       "      <td>...</td>\n",
       "      <td>2021-08-13</td>\n",
       "      <td>NaN</td>\n",
       "      <td>17</td>\n",
       "      <td>event</td>\n",
       "      <td>HbolMJUevblAbkHClEQa</td>\n",
       "      <td>sberauto.com/cars/f28947a1?utm_source_initial=...</td>\n",
       "      <td>sub_button_click</td>\n",
       "      <td>sub_car_claim_click</td>\n",
       "      <td>EsLbNNEnCkXWoaesnKlS</td>\n",
       "      <td>NaN</td>\n",
       "    </tr>\n",
       "    <tr>\n",
       "      <th>...</th>\n",
       "      <td>...</td>\n",
       "      <td>...</td>\n",
       "      <td>...</td>\n",
       "      <td>...</td>\n",
       "      <td>...</td>\n",
       "      <td>...</td>\n",
       "      <td>...</td>\n",
       "      <td>...</td>\n",
       "      <td>...</td>\n",
       "      <td>...</td>\n",
       "      <td>...</td>\n",
       "      <td>...</td>\n",
       "      <td>...</td>\n",
       "      <td>...</td>\n",
       "      <td>...</td>\n",
       "      <td>...</td>\n",
       "      <td>...</td>\n",
       "      <td>...</td>\n",
       "      <td>...</td>\n",
       "      <td>...</td>\n",
       "      <td>...</td>\n",
       "    </tr>\n",
       "    <tr>\n",
       "      <th>15571355</th>\n",
       "      <td>12:54:52</td>\n",
       "      <td>1</td>\n",
       "      <td>ZpYIoDJMcFzVoPFsHGJL</td>\n",
       "      <td>banner</td>\n",
       "      <td>LEoPHuyFvzoNfnzGgfcd</td>\n",
       "      <td>vCIpmpaGBnIQhyYNkXqp</td>\n",
       "      <td>puhZPIYqKXeFPaUviSjo</td>\n",
       "      <td>mobile</td>\n",
       "      <td>Android</td>\n",
       "      <td>Samsung</td>\n",
       "      <td>...</td>\n",
       "      <td>2021-11-27</td>\n",
       "      <td>95953.0</td>\n",
       "      <td>14</td>\n",
       "      <td>event</td>\n",
       "      <td>NaN</td>\n",
       "      <td>sberauto.com/cars/all/skoda/rapid/bf24b977?utm...</td>\n",
       "      <td>sub_button_click</td>\n",
       "      <td>sub_car_claim_click</td>\n",
       "      <td>EsLbNNEnCkXWoaesnKlS</td>\n",
       "      <td>NaN</td>\n",
       "    </tr>\n",
       "    <tr>\n",
       "      <th>15594564</th>\n",
       "      <td>07:00:00</td>\n",
       "      <td>1</td>\n",
       "      <td>ZpYIoDJMcFzVoPFsHGJL</td>\n",
       "      <td>banner</td>\n",
       "      <td>LEoPHuyFvzoNfnzGgfcd</td>\n",
       "      <td>JNHcPlZPxEMWDnRiyoBf</td>\n",
       "      <td>NaN</td>\n",
       "      <td>mobile</td>\n",
       "      <td>NaN</td>\n",
       "      <td>Xiaomi</td>\n",
       "      <td>...</td>\n",
       "      <td>2021-07-24</td>\n",
       "      <td>NaN</td>\n",
       "      <td>24</td>\n",
       "      <td>event</td>\n",
       "      <td>HbolMJUevblAbkHClEQa</td>\n",
       "      <td>sberauto.com/cars/bfc21661?utm_source_initial=...</td>\n",
       "      <td>sub_button_click</td>\n",
       "      <td>sub_car_claim_click</td>\n",
       "      <td>EsLbNNEnCkXWoaesnKlS</td>\n",
       "      <td>NaN</td>\n",
       "    </tr>\n",
       "    <tr>\n",
       "      <th>15634483</th>\n",
       "      <td>09:30:32</td>\n",
       "      <td>1</td>\n",
       "      <td>ZpYIoDJMcFzVoPFsHGJL</td>\n",
       "      <td>banner</td>\n",
       "      <td>LEoPHuyFvzoNfnzGgfcd</td>\n",
       "      <td>vCIpmpaGBnIQhyYNkXqp</td>\n",
       "      <td>puhZPIYqKXeFPaUviSjo</td>\n",
       "      <td>mobile</td>\n",
       "      <td>Android</td>\n",
       "      <td>Huawei</td>\n",
       "      <td>...</td>\n",
       "      <td>2021-12-26</td>\n",
       "      <td>245585.0</td>\n",
       "      <td>21</td>\n",
       "      <td>event</td>\n",
       "      <td>NaN</td>\n",
       "      <td>sberauto.com/cars/all/volkswagen/polo/e994838f...</td>\n",
       "      <td>sub_button_click</td>\n",
       "      <td>sub_car_claim_click</td>\n",
       "      <td>EsLbNNEnCkXWoaesnKlS</td>\n",
       "      <td>NaN</td>\n",
       "    </tr>\n",
       "    <tr>\n",
       "      <th>15653984</th>\n",
       "      <td>13:00:00</td>\n",
       "      <td>5</td>\n",
       "      <td>fDLlAcSmythWSCVMvqvL</td>\n",
       "      <td>(none)</td>\n",
       "      <td>LTuZkdKfxRGVceoWkVyg</td>\n",
       "      <td>JNHcPlZPxEMWDnRiyoBf</td>\n",
       "      <td>NaN</td>\n",
       "      <td>desktop</td>\n",
       "      <td>NaN</td>\n",
       "      <td>NaN</td>\n",
       "      <td>...</td>\n",
       "      <td>2021-08-31</td>\n",
       "      <td>NaN</td>\n",
       "      <td>1</td>\n",
       "      <td>event</td>\n",
       "      <td>HbolMJUevblAbkHClEQa</td>\n",
       "      <td>sberauto.com/cars/0208cd2b?rental_page=rental_car</td>\n",
       "      <td>sub_button_click</td>\n",
       "      <td>sub_car_claim_click</td>\n",
       "      <td>nzDXtAvtTrzfwscIPQkp</td>\n",
       "      <td>NaN</td>\n",
       "    </tr>\n",
       "    <tr>\n",
       "      <th>15670144</th>\n",
       "      <td>15:00:00</td>\n",
       "      <td>6</td>\n",
       "      <td>bByPQxmDaMXgpHeypKSM</td>\n",
       "      <td>referral</td>\n",
       "      <td>LTuZkdKfxRGVceoWkVyg</td>\n",
       "      <td>JNHcPlZPxEMWDnRiyoBf</td>\n",
       "      <td>NaN</td>\n",
       "      <td>desktop</td>\n",
       "      <td>NaN</td>\n",
       "      <td>NaN</td>\n",
       "      <td>...</td>\n",
       "      <td>2021-07-07</td>\n",
       "      <td>NaN</td>\n",
       "      <td>14</td>\n",
       "      <td>event</td>\n",
       "      <td>HbolMJUevblAbkHClEQa</td>\n",
       "      <td>sberauto.com/cars/f28947a1?rental_page=rental_car</td>\n",
       "      <td>sub_button_click</td>\n",
       "      <td>sub_car_claim_click</td>\n",
       "      <td>EsLbNNEnCkXWoaesnKlS</td>\n",
       "      <td>NaN</td>\n",
       "    </tr>\n",
       "  </tbody>\n",
       "</table>\n",
       "<p>911 rows × 25 columns</p>\n",
       "</div>"
      ],
      "text/plain": [
       "         visit_time  visit_number            utm_source utm_medium  \\\n",
       "25890      14:00:00             1  MvfHsxITijuriZxsqZqt        cpm   \n",
       "42969      10:00:00             1  ZpYIoDJMcFzVoPFsHGJL     banner   \n",
       "76767      23:55:57             1  ZpYIoDJMcFzVoPFsHGJL     banner   \n",
       "81974      21:00:00             3  bByPQxmDaMXgpHeypKSM   referral   \n",
       "94133      00:00:00             1  bByPQxmDaMXgpHeypKSM   referral   \n",
       "...             ...           ...                   ...        ...   \n",
       "15571355   12:54:52             1  ZpYIoDJMcFzVoPFsHGJL     banner   \n",
       "15594564   07:00:00             1  ZpYIoDJMcFzVoPFsHGJL     banner   \n",
       "15634483   09:30:32             1  ZpYIoDJMcFzVoPFsHGJL     banner   \n",
       "15653984   13:00:00             5  fDLlAcSmythWSCVMvqvL     (none)   \n",
       "15670144   15:00:00             6  bByPQxmDaMXgpHeypKSM   referral   \n",
       "\n",
       "                  utm_campaign         utm_adcontent           utm_keyword  \\\n",
       "25890     FTjNLDyTrXaWYgZymFkV  PkybGvWbaqORmxjNunqZ                   NaN   \n",
       "42969     LEoPHuyFvzoNfnzGgfcd  JNHcPlZPxEMWDnRiyoBf                   NaN   \n",
       "76767     LEoPHuyFvzoNfnzGgfcd  vCIpmpaGBnIQhyYNkXqp  puhZPIYqKXeFPaUviSjo   \n",
       "81974     LTuZkdKfxRGVceoWkVyg  JNHcPlZPxEMWDnRiyoBf                   NaN   \n",
       "94133     FTjNLDyTrXaWYgZymFkV  PkybGvWbaqORmxjNunqZ                   NaN   \n",
       "...                        ...                   ...                   ...   \n",
       "15571355  LEoPHuyFvzoNfnzGgfcd  vCIpmpaGBnIQhyYNkXqp  puhZPIYqKXeFPaUviSjo   \n",
       "15594564  LEoPHuyFvzoNfnzGgfcd  JNHcPlZPxEMWDnRiyoBf                   NaN   \n",
       "15634483  LEoPHuyFvzoNfnzGgfcd  vCIpmpaGBnIQhyYNkXqp  puhZPIYqKXeFPaUviSjo   \n",
       "15653984  LTuZkdKfxRGVceoWkVyg  JNHcPlZPxEMWDnRiyoBf                   NaN   \n",
       "15670144  LTuZkdKfxRGVceoWkVyg  JNHcPlZPxEMWDnRiyoBf                   NaN   \n",
       "\n",
       "         device_category device_os device_brand  ...    hit_date  hit_time  \\\n",
       "25890             mobile       NaN       Huawei  ...  2021-09-17       NaN   \n",
       "42969             mobile       NaN        Apple  ...  2021-07-11       NaN   \n",
       "76767             mobile   Android       Huawei  ...  2021-12-01  114902.0   \n",
       "81974             mobile       NaN        Apple  ...  2021-09-07       NaN   \n",
       "94133             mobile       NaN      Samsung  ...  2021-08-13       NaN   \n",
       "...                  ...       ...          ...  ...         ...       ...   \n",
       "15571355          mobile   Android      Samsung  ...  2021-11-27   95953.0   \n",
       "15594564          mobile       NaN       Xiaomi  ...  2021-07-24       NaN   \n",
       "15634483          mobile   Android       Huawei  ...  2021-12-26  245585.0   \n",
       "15653984         desktop       NaN          NaN  ...  2021-08-31       NaN   \n",
       "15670144         desktop       NaN          NaN  ...  2021-07-07       NaN   \n",
       "\n",
       "         hit_number hit_type           hit_referer  \\\n",
       "25890            13    event  HbolMJUevblAbkHClEQa   \n",
       "42969            15    event  HbolMJUevblAbkHClEQa   \n",
       "76767            16    event                   NaN   \n",
       "81974             5    event  HbolMJUevblAbkHClEQa   \n",
       "94133            17    event  HbolMJUevblAbkHClEQa   \n",
       "...             ...      ...                   ...   \n",
       "15571355         14    event                   NaN   \n",
       "15594564         24    event  HbolMJUevblAbkHClEQa   \n",
       "15634483         21    event                   NaN   \n",
       "15653984          1    event  HbolMJUevblAbkHClEQa   \n",
       "15670144         14    event  HbolMJUevblAbkHClEQa   \n",
       "\n",
       "                                              hit_page_path    event_category  \\\n",
       "25890     sberauto.com/cars/6afb1543?utm_source_initial=...  sub_button_click   \n",
       "42969     sberauto.com/cars/bf24b977?rental_page=rental_car  sub_button_click   \n",
       "76767     sberauto.com/cars/all/skoda/rapid/bf24b977?utm...  sub_button_click   \n",
       "81974     sberauto.com/cars/6afb1543?rental_page=rental_car  sub_button_click   \n",
       "94133     sberauto.com/cars/f28947a1?utm_source_initial=...  sub_button_click   \n",
       "...                                                     ...               ...   \n",
       "15571355  sberauto.com/cars/all/skoda/rapid/bf24b977?utm...  sub_button_click   \n",
       "15594564  sberauto.com/cars/bfc21661?utm_source_initial=...  sub_button_click   \n",
       "15634483  sberauto.com/cars/all/volkswagen/polo/e994838f...  sub_button_click   \n",
       "15653984  sberauto.com/cars/0208cd2b?rental_page=rental_car  sub_button_click   \n",
       "15670144  sberauto.com/cars/f28947a1?rental_page=rental_car  sub_button_click   \n",
       "\n",
       "                 event_action           event_label event_value  \n",
       "25890     sub_car_claim_click  EsLbNNEnCkXWoaesnKlS         NaN  \n",
       "42969     sub_car_claim_click  EsLbNNEnCkXWoaesnKlS         NaN  \n",
       "76767     sub_car_claim_click  EsLbNNEnCkXWoaesnKlS         NaN  \n",
       "81974     sub_car_claim_click  nzDXtAvtTrzfwscIPQkp         NaN  \n",
       "94133     sub_car_claim_click  EsLbNNEnCkXWoaesnKlS         NaN  \n",
       "...                       ...                   ...         ...  \n",
       "15571355  sub_car_claim_click  EsLbNNEnCkXWoaesnKlS         NaN  \n",
       "15594564  sub_car_claim_click  EsLbNNEnCkXWoaesnKlS         NaN  \n",
       "15634483  sub_car_claim_click  EsLbNNEnCkXWoaesnKlS         NaN  \n",
       "15653984  sub_car_claim_click  nzDXtAvtTrzfwscIPQkp         NaN  \n",
       "15670144  sub_car_claim_click  EsLbNNEnCkXWoaesnKlS         NaN  \n",
       "\n",
       "[911 rows x 25 columns]"
      ]
     },
     "execution_count": 22,
     "metadata": {},
     "output_type": "execute_result"
    }
   ],
   "source": [
    "merged_df[merged_df.event_action == 'sub_car_claim_click']"
   ]
  },
  {
   "cell_type": "code",
   "execution_count": 23,
   "id": "cfc31595-7905-417f-bd80-dd4abe9573a9",
   "metadata": {},
   "outputs": [
    {
     "name": "stdout",
     "output_type": "stream",
     "text": [
      "<class 'pandas.core.frame.DataFrame'>\n",
      "Index: 1732266 entries, 0 to 15685206\n",
      "Data columns (total 25 columns):\n",
      " #   Column                    Dtype  \n",
      "---  ------                    -----  \n",
      " 0   visit_time                object \n",
      " 1   visit_number              int64  \n",
      " 2   utm_source                object \n",
      " 3   utm_medium                object \n",
      " 4   utm_campaign              object \n",
      " 5   utm_adcontent             object \n",
      " 6   utm_keyword               object \n",
      " 7   device_category           object \n",
      " 8   device_os                 object \n",
      " 9   device_brand              object \n",
      " 10  device_model              object \n",
      " 11  device_screen_resolution  object \n",
      " 12  device_browser            object \n",
      " 13  geo_country               object \n",
      " 14  geo_city                  object \n",
      " 15  hit_date                  object \n",
      " 16  hit_time                  float64\n",
      " 17  hit_number                int64  \n",
      " 18  hit_type                  object \n",
      " 19  hit_referer               object \n",
      " 20  hit_page_path             object \n",
      " 21  event_category            object \n",
      " 22  event_action              object \n",
      " 23  event_label               object \n",
      " 24  event_value               float64\n",
      "dtypes: float64(2), int64(2), object(21)\n",
      "memory usage: 343.6+ MB\n"
     ]
    }
   ],
   "source": [
    "merged_df.info()"
   ]
  },
  {
   "cell_type": "code",
   "execution_count": 24,
   "id": "e0572ef0-b31d-4b5e-9d3b-4f3ba27ebada",
   "metadata": {},
   "outputs": [],
   "source": [
    "df_cleaned = merged_df.copy()"
   ]
  },
  {
   "cell_type": "markdown",
   "id": "268178fc-e5f0-44c7-976e-8dbcc14fae8b",
   "metadata": {},
   "source": [
    "### Data cleaning"
   ]
  },
  {
   "cell_type": "code",
   "execution_count": 7,
   "id": "f07545e6-57f1-4cfa-a60c-9305924a295b",
   "metadata": {},
   "outputs": [],
   "source": [
    "# Let's start processing our data"
   ]
  },
  {
   "cell_type": "code",
   "execution_count": 9,
   "id": "68d8db3f-5b74-4a1a-93b4-6a893c5beadf",
   "metadata": {},
   "outputs": [],
   "source": [
    "# Remove duplicates and save the table for further use during modeling"
   ]
  },
  {
   "cell_type": "code",
   "execution_count": 28,
   "id": "ab6cb2b9-a216-47a7-aaae-58545b4d08d4",
   "metadata": {},
   "outputs": [
    {
     "data": {
      "text/html": [
       "<div>\n",
       "<style scoped>\n",
       "    .dataframe tbody tr th:only-of-type {\n",
       "        vertical-align: middle;\n",
       "    }\n",
       "\n",
       "    .dataframe tbody tr th {\n",
       "        vertical-align: top;\n",
       "    }\n",
       "\n",
       "    .dataframe thead th {\n",
       "        text-align: right;\n",
       "    }\n",
       "</style>\n",
       "<table border=\"1\" class=\"dataframe\">\n",
       "  <thead>\n",
       "    <tr style=\"text-align: right;\">\n",
       "      <th></th>\n",
       "      <th>visit_time</th>\n",
       "      <th>visit_number</th>\n",
       "      <th>utm_source</th>\n",
       "      <th>utm_medium</th>\n",
       "      <th>utm_campaign</th>\n",
       "      <th>utm_adcontent</th>\n",
       "      <th>utm_keyword</th>\n",
       "      <th>device_category</th>\n",
       "      <th>device_os</th>\n",
       "      <th>device_brand</th>\n",
       "      <th>...</th>\n",
       "      <th>hit_date</th>\n",
       "      <th>hit_time</th>\n",
       "      <th>hit_number</th>\n",
       "      <th>hit_type</th>\n",
       "      <th>hit_referer</th>\n",
       "      <th>hit_page_path</th>\n",
       "      <th>event_category</th>\n",
       "      <th>event_action</th>\n",
       "      <th>event_label</th>\n",
       "      <th>event_value</th>\n",
       "    </tr>\n",
       "  </thead>\n",
       "  <tbody>\n",
       "    <tr>\n",
       "      <th>32344</th>\n",
       "      <td>10:00:00</td>\n",
       "      <td>1</td>\n",
       "      <td>fDLlAcSmythWSCVMvqvL</td>\n",
       "      <td>(none)</td>\n",
       "      <td>LTuZkdKfxRGVceoWkVyg</td>\n",
       "      <td>JNHcPlZPxEMWDnRiyoBf</td>\n",
       "      <td>NaN</td>\n",
       "      <td>desktop</td>\n",
       "      <td>NaN</td>\n",
       "      <td>NaN</td>\n",
       "      <td>...</td>\n",
       "      <td>2021-05-24</td>\n",
       "      <td>NaN</td>\n",
       "      <td>1</td>\n",
       "      <td>event</td>\n",
       "      <td>HbolMJUevblAbkHClEQa</td>\n",
       "      <td>podpiska.sberauto.com/faq</td>\n",
       "      <td>sub_page_view</td>\n",
       "      <td>sub_faq</td>\n",
       "      <td>KclpemfoHstknWHFiLit</td>\n",
       "      <td>NaN</td>\n",
       "    </tr>\n",
       "    <tr>\n",
       "      <th>72231</th>\n",
       "      <td>22:00:00</td>\n",
       "      <td>1</td>\n",
       "      <td>fDLlAcSmythWSCVMvqvL</td>\n",
       "      <td>(none)</td>\n",
       "      <td>LTuZkdKfxRGVceoWkVyg</td>\n",
       "      <td>JNHcPlZPxEMWDnRiyoBf</td>\n",
       "      <td>NaN</td>\n",
       "      <td>mobile</td>\n",
       "      <td>NaN</td>\n",
       "      <td>Apple</td>\n",
       "      <td>...</td>\n",
       "      <td>2021-06-28</td>\n",
       "      <td>NaN</td>\n",
       "      <td>3</td>\n",
       "      <td>event</td>\n",
       "      <td>HbolMJUevblAbkHClEQa</td>\n",
       "      <td>podpiska.sberauto.com/</td>\n",
       "      <td>sub_page_view</td>\n",
       "      <td>sub_landing</td>\n",
       "      <td>KclpemfoHstknWHFiLit</td>\n",
       "      <td>NaN</td>\n",
       "    </tr>\n",
       "    <tr>\n",
       "      <th>87560</th>\n",
       "      <td>13:00:00</td>\n",
       "      <td>1</td>\n",
       "      <td>fDLlAcSmythWSCVMvqvL</td>\n",
       "      <td>(none)</td>\n",
       "      <td>LTuZkdKfxRGVceoWkVyg</td>\n",
       "      <td>JNHcPlZPxEMWDnRiyoBf</td>\n",
       "      <td>NaN</td>\n",
       "      <td>mobile</td>\n",
       "      <td>NaN</td>\n",
       "      <td>Apple</td>\n",
       "      <td>...</td>\n",
       "      <td>2021-05-28</td>\n",
       "      <td>NaN</td>\n",
       "      <td>3</td>\n",
       "      <td>event</td>\n",
       "      <td>HbolMJUevblAbkHClEQa</td>\n",
       "      <td>podpiska.sberauto.com/</td>\n",
       "      <td>sub_page_view</td>\n",
       "      <td>sub_landing</td>\n",
       "      <td>KclpemfoHstknWHFiLit</td>\n",
       "      <td>NaN</td>\n",
       "    </tr>\n",
       "    <tr>\n",
       "      <th>102014</th>\n",
       "      <td>22:00:00</td>\n",
       "      <td>1</td>\n",
       "      <td>fDLlAcSmythWSCVMvqvL</td>\n",
       "      <td>(none)</td>\n",
       "      <td>LTuZkdKfxRGVceoWkVyg</td>\n",
       "      <td>JNHcPlZPxEMWDnRiyoBf</td>\n",
       "      <td>NaN</td>\n",
       "      <td>mobile</td>\n",
       "      <td>NaN</td>\n",
       "      <td>Apple</td>\n",
       "      <td>...</td>\n",
       "      <td>2021-06-28</td>\n",
       "      <td>NaN</td>\n",
       "      <td>3</td>\n",
       "      <td>event</td>\n",
       "      <td>HbolMJUevblAbkHClEQa</td>\n",
       "      <td>podpiska.sberauto.com/</td>\n",
       "      <td>sub_page_view</td>\n",
       "      <td>sub_landing</td>\n",
       "      <td>KclpemfoHstknWHFiLit</td>\n",
       "      <td>NaN</td>\n",
       "    </tr>\n",
       "    <tr>\n",
       "      <th>103479</th>\n",
       "      <td>12:00:00</td>\n",
       "      <td>1</td>\n",
       "      <td>ZpYIoDJMcFzVoPFsHGJL</td>\n",
       "      <td>banner</td>\n",
       "      <td>LEoPHuyFvzoNfnzGgfcd</td>\n",
       "      <td>JNHcPlZPxEMWDnRiyoBf</td>\n",
       "      <td>NaN</td>\n",
       "      <td>mobile</td>\n",
       "      <td>NaN</td>\n",
       "      <td>Xiaomi</td>\n",
       "      <td>...</td>\n",
       "      <td>2021-07-26</td>\n",
       "      <td>NaN</td>\n",
       "      <td>3</td>\n",
       "      <td>event</td>\n",
       "      <td>HbolMJUevblAbkHClEQa</td>\n",
       "      <td>podpiska.sberauto.com/</td>\n",
       "      <td>sub_page_view</td>\n",
       "      <td>sub_landing</td>\n",
       "      <td>KclpemfoHstknWHFiLit</td>\n",
       "      <td>NaN</td>\n",
       "    </tr>\n",
       "    <tr>\n",
       "      <th>...</th>\n",
       "      <td>...</td>\n",
       "      <td>...</td>\n",
       "      <td>...</td>\n",
       "      <td>...</td>\n",
       "      <td>...</td>\n",
       "      <td>...</td>\n",
       "      <td>...</td>\n",
       "      <td>...</td>\n",
       "      <td>...</td>\n",
       "      <td>...</td>\n",
       "      <td>...</td>\n",
       "      <td>...</td>\n",
       "      <td>...</td>\n",
       "      <td>...</td>\n",
       "      <td>...</td>\n",
       "      <td>...</td>\n",
       "      <td>...</td>\n",
       "      <td>...</td>\n",
       "      <td>...</td>\n",
       "      <td>...</td>\n",
       "      <td>...</td>\n",
       "    </tr>\n",
       "    <tr>\n",
       "      <th>15684277</th>\n",
       "      <td>04:00:00</td>\n",
       "      <td>1</td>\n",
       "      <td>PlbkrSYoHuZBWfYjYnfw</td>\n",
       "      <td>cpm</td>\n",
       "      <td>FTjNLDyTrXaWYgZymFkV</td>\n",
       "      <td>TuyPWsGQruPMpKvRxeBF</td>\n",
       "      <td>NaN</td>\n",
       "      <td>desktop</td>\n",
       "      <td>NaN</td>\n",
       "      <td>NaN</td>\n",
       "      <td>...</td>\n",
       "      <td>2021-09-18</td>\n",
       "      <td>NaN</td>\n",
       "      <td>3</td>\n",
       "      <td>event</td>\n",
       "      <td>HbolMJUevblAbkHClEQa</td>\n",
       "      <td>podpiska.sberauto.com/</td>\n",
       "      <td>sub_page_view</td>\n",
       "      <td>sub_landing</td>\n",
       "      <td>KclpemfoHstknWHFiLit</td>\n",
       "      <td>NaN</td>\n",
       "    </tr>\n",
       "    <tr>\n",
       "      <th>15684280</th>\n",
       "      <td>14:00:00</td>\n",
       "      <td>1</td>\n",
       "      <td>fDLlAcSmythWSCVMvqvL</td>\n",
       "      <td>(none)</td>\n",
       "      <td>LTuZkdKfxRGVceoWkVyg</td>\n",
       "      <td>JNHcPlZPxEMWDnRiyoBf</td>\n",
       "      <td>NaN</td>\n",
       "      <td>desktop</td>\n",
       "      <td>NaN</td>\n",
       "      <td>NaN</td>\n",
       "      <td>...</td>\n",
       "      <td>2021-06-18</td>\n",
       "      <td>NaN</td>\n",
       "      <td>3</td>\n",
       "      <td>event</td>\n",
       "      <td>HbolMJUevblAbkHClEQa</td>\n",
       "      <td>podpiska.sberauto.com/</td>\n",
       "      <td>sub_page_view</td>\n",
       "      <td>sub_landing</td>\n",
       "      <td>KclpemfoHstknWHFiLit</td>\n",
       "      <td>NaN</td>\n",
       "    </tr>\n",
       "    <tr>\n",
       "      <th>15684530</th>\n",
       "      <td>10:00:00</td>\n",
       "      <td>1</td>\n",
       "      <td>ZpYIoDJMcFzVoPFsHGJL</td>\n",
       "      <td>banner</td>\n",
       "      <td>LEoPHuyFvzoNfnzGgfcd</td>\n",
       "      <td>JNHcPlZPxEMWDnRiyoBf</td>\n",
       "      <td>NaN</td>\n",
       "      <td>mobile</td>\n",
       "      <td>NaN</td>\n",
       "      <td>Apple</td>\n",
       "      <td>...</td>\n",
       "      <td>2021-08-10</td>\n",
       "      <td>NaN</td>\n",
       "      <td>4</td>\n",
       "      <td>event</td>\n",
       "      <td>HbolMJUevblAbkHClEQa</td>\n",
       "      <td>podpiska.sberauto.com/</td>\n",
       "      <td>sub_button_click</td>\n",
       "      <td>sub_view_cars_click</td>\n",
       "      <td>OHfyUfDKdPgBdvelDlfG</td>\n",
       "      <td>NaN</td>\n",
       "    </tr>\n",
       "    <tr>\n",
       "      <th>15685055</th>\n",
       "      <td>08:00:00</td>\n",
       "      <td>1</td>\n",
       "      <td>PlbkrSYoHuZBWfYjYnfw</td>\n",
       "      <td>cpm</td>\n",
       "      <td>FTjNLDyTrXaWYgZymFkV</td>\n",
       "      <td>TuyPWsGQruPMpKvRxeBF</td>\n",
       "      <td>NaN</td>\n",
       "      <td>desktop</td>\n",
       "      <td>NaN</td>\n",
       "      <td>NaN</td>\n",
       "      <td>...</td>\n",
       "      <td>2021-08-17</td>\n",
       "      <td>NaN</td>\n",
       "      <td>2</td>\n",
       "      <td>event</td>\n",
       "      <td>HbolMJUevblAbkHClEQa</td>\n",
       "      <td>podpiska.sberauto.com/</td>\n",
       "      <td>sub_page_view</td>\n",
       "      <td>sub_landing</td>\n",
       "      <td>KclpemfoHstknWHFiLit</td>\n",
       "      <td>NaN</td>\n",
       "    </tr>\n",
       "    <tr>\n",
       "      <th>15685063</th>\n",
       "      <td>23:00:00</td>\n",
       "      <td>1</td>\n",
       "      <td>MvfHsxITijuriZxsqZqt</td>\n",
       "      <td>cpm</td>\n",
       "      <td>FTjNLDyTrXaWYgZymFkV</td>\n",
       "      <td>PkybGvWbaqORmxjNunqZ</td>\n",
       "      <td>NaN</td>\n",
       "      <td>mobile</td>\n",
       "      <td>NaN</td>\n",
       "      <td>Xiaomi</td>\n",
       "      <td>...</td>\n",
       "      <td>2021-08-22</td>\n",
       "      <td>NaN</td>\n",
       "      <td>3</td>\n",
       "      <td>event</td>\n",
       "      <td>HbolMJUevblAbkHClEQa</td>\n",
       "      <td>podpiska.sberauto.com/</td>\n",
       "      <td>sub_page_view</td>\n",
       "      <td>sub_landing</td>\n",
       "      <td>KclpemfoHstknWHFiLit</td>\n",
       "      <td>NaN</td>\n",
       "    </tr>\n",
       "  </tbody>\n",
       "</table>\n",
       "<p>40299 rows × 25 columns</p>\n",
       "</div>"
      ],
      "text/plain": [
       "         visit_time  visit_number            utm_source utm_medium  \\\n",
       "32344      10:00:00             1  fDLlAcSmythWSCVMvqvL     (none)   \n",
       "72231      22:00:00             1  fDLlAcSmythWSCVMvqvL     (none)   \n",
       "87560      13:00:00             1  fDLlAcSmythWSCVMvqvL     (none)   \n",
       "102014     22:00:00             1  fDLlAcSmythWSCVMvqvL     (none)   \n",
       "103479     12:00:00             1  ZpYIoDJMcFzVoPFsHGJL     banner   \n",
       "...             ...           ...                   ...        ...   \n",
       "15684277   04:00:00             1  PlbkrSYoHuZBWfYjYnfw        cpm   \n",
       "15684280   14:00:00             1  fDLlAcSmythWSCVMvqvL     (none)   \n",
       "15684530   10:00:00             1  ZpYIoDJMcFzVoPFsHGJL     banner   \n",
       "15685055   08:00:00             1  PlbkrSYoHuZBWfYjYnfw        cpm   \n",
       "15685063   23:00:00             1  MvfHsxITijuriZxsqZqt        cpm   \n",
       "\n",
       "                  utm_campaign         utm_adcontent utm_keyword  \\\n",
       "32344     LTuZkdKfxRGVceoWkVyg  JNHcPlZPxEMWDnRiyoBf         NaN   \n",
       "72231     LTuZkdKfxRGVceoWkVyg  JNHcPlZPxEMWDnRiyoBf         NaN   \n",
       "87560     LTuZkdKfxRGVceoWkVyg  JNHcPlZPxEMWDnRiyoBf         NaN   \n",
       "102014    LTuZkdKfxRGVceoWkVyg  JNHcPlZPxEMWDnRiyoBf         NaN   \n",
       "103479    LEoPHuyFvzoNfnzGgfcd  JNHcPlZPxEMWDnRiyoBf         NaN   \n",
       "...                        ...                   ...         ...   \n",
       "15684277  FTjNLDyTrXaWYgZymFkV  TuyPWsGQruPMpKvRxeBF         NaN   \n",
       "15684280  LTuZkdKfxRGVceoWkVyg  JNHcPlZPxEMWDnRiyoBf         NaN   \n",
       "15684530  LEoPHuyFvzoNfnzGgfcd  JNHcPlZPxEMWDnRiyoBf         NaN   \n",
       "15685055  FTjNLDyTrXaWYgZymFkV  TuyPWsGQruPMpKvRxeBF         NaN   \n",
       "15685063  FTjNLDyTrXaWYgZymFkV  PkybGvWbaqORmxjNunqZ         NaN   \n",
       "\n",
       "         device_category device_os device_brand  ...    hit_date hit_time  \\\n",
       "32344            desktop       NaN          NaN  ...  2021-05-24      NaN   \n",
       "72231             mobile       NaN        Apple  ...  2021-06-28      NaN   \n",
       "87560             mobile       NaN        Apple  ...  2021-05-28      NaN   \n",
       "102014            mobile       NaN        Apple  ...  2021-06-28      NaN   \n",
       "103479            mobile       NaN       Xiaomi  ...  2021-07-26      NaN   \n",
       "...                  ...       ...          ...  ...         ...      ...   \n",
       "15684277         desktop       NaN          NaN  ...  2021-09-18      NaN   \n",
       "15684280         desktop       NaN          NaN  ...  2021-06-18      NaN   \n",
       "15684530          mobile       NaN        Apple  ...  2021-08-10      NaN   \n",
       "15685055         desktop       NaN          NaN  ...  2021-08-17      NaN   \n",
       "15685063          mobile       NaN       Xiaomi  ...  2021-08-22      NaN   \n",
       "\n",
       "         hit_number hit_type           hit_referer              hit_page_path  \\\n",
       "32344             1    event  HbolMJUevblAbkHClEQa  podpiska.sberauto.com/faq   \n",
       "72231             3    event  HbolMJUevblAbkHClEQa     podpiska.sberauto.com/   \n",
       "87560             3    event  HbolMJUevblAbkHClEQa     podpiska.sberauto.com/   \n",
       "102014            3    event  HbolMJUevblAbkHClEQa     podpiska.sberauto.com/   \n",
       "103479            3    event  HbolMJUevblAbkHClEQa     podpiska.sberauto.com/   \n",
       "...             ...      ...                   ...                        ...   \n",
       "15684277          3    event  HbolMJUevblAbkHClEQa     podpiska.sberauto.com/   \n",
       "15684280          3    event  HbolMJUevblAbkHClEQa     podpiska.sberauto.com/   \n",
       "15684530          4    event  HbolMJUevblAbkHClEQa     podpiska.sberauto.com/   \n",
       "15685055          2    event  HbolMJUevblAbkHClEQa     podpiska.sberauto.com/   \n",
       "15685063          3    event  HbolMJUevblAbkHClEQa     podpiska.sberauto.com/   \n",
       "\n",
       "            event_category         event_action           event_label  \\\n",
       "32344        sub_page_view              sub_faq  KclpemfoHstknWHFiLit   \n",
       "72231        sub_page_view          sub_landing  KclpemfoHstknWHFiLit   \n",
       "87560        sub_page_view          sub_landing  KclpemfoHstknWHFiLit   \n",
       "102014       sub_page_view          sub_landing  KclpemfoHstknWHFiLit   \n",
       "103479       sub_page_view          sub_landing  KclpemfoHstknWHFiLit   \n",
       "...                    ...                  ...                   ...   \n",
       "15684277     sub_page_view          sub_landing  KclpemfoHstknWHFiLit   \n",
       "15684280     sub_page_view          sub_landing  KclpemfoHstknWHFiLit   \n",
       "15684530  sub_button_click  sub_view_cars_click  OHfyUfDKdPgBdvelDlfG   \n",
       "15685055     sub_page_view          sub_landing  KclpemfoHstknWHFiLit   \n",
       "15685063     sub_page_view          sub_landing  KclpemfoHstknWHFiLit   \n",
       "\n",
       "         event_value  \n",
       "32344            NaN  \n",
       "72231            NaN  \n",
       "87560            NaN  \n",
       "102014           NaN  \n",
       "103479           NaN  \n",
       "...              ...  \n",
       "15684277         NaN  \n",
       "15684280         NaN  \n",
       "15684530         NaN  \n",
       "15685055         NaN  \n",
       "15685063         NaN  \n",
       "\n",
       "[40299 rows x 25 columns]"
      ]
     },
     "execution_count": 28,
     "metadata": {},
     "output_type": "execute_result"
    }
   ],
   "source": [
    "df_cleaned[df_cleaned.duplicated()]"
   ]
  },
  {
   "cell_type": "code",
   "execution_count": 29,
   "id": "414dcea5-e6b7-4b53-82d3-ddd8c620f96a",
   "metadata": {},
   "outputs": [],
   "source": [
    "df_cleaned = df_cleaned.drop_duplicates()"
   ]
  },
  {
   "cell_type": "code",
   "execution_count": 30,
   "id": "6e7cd859-2ff6-424c-8baf-955d8fcbc9b0",
   "metadata": {},
   "outputs": [],
   "source": [
    "df_cleaned.to_csv(\"data/df_ready.csv\", index=False)"
   ]
  },
  {
   "cell_type": "code",
   "execution_count": 31,
   "id": "37f52f34-5fcc-456a-a336-6d0386035f5f",
   "metadata": {},
   "outputs": [
    {
     "name": "stdout",
     "output_type": "stream",
     "text": [
      "<class 'pandas.core.frame.DataFrame'>\n",
      "Index: 1691967 entries, 0 to 15685206\n",
      "Data columns (total 25 columns):\n",
      " #   Column                    Dtype  \n",
      "---  ------                    -----  \n",
      " 0   visit_time                object \n",
      " 1   visit_number              int64  \n",
      " 2   utm_source                object \n",
      " 3   utm_medium                object \n",
      " 4   utm_campaign              object \n",
      " 5   utm_adcontent             object \n",
      " 6   utm_keyword               object \n",
      " 7   device_category           object \n",
      " 8   device_os                 object \n",
      " 9   device_brand              object \n",
      " 10  device_model              object \n",
      " 11  device_screen_resolution  object \n",
      " 12  device_browser            object \n",
      " 13  geo_country               object \n",
      " 14  geo_city                  object \n",
      " 15  hit_date                  object \n",
      " 16  hit_time                  float64\n",
      " 17  hit_number                int64  \n",
      " 18  hit_type                  object \n",
      " 19  hit_referer               object \n",
      " 20  hit_page_path             object \n",
      " 21  event_category            object \n",
      " 22  event_action              object \n",
      " 23  event_label               object \n",
      " 24  event_value               float64\n",
      "dtypes: float64(2), int64(2), object(21)\n",
      "memory usage: 335.6+ MB\n"
     ]
    }
   ],
   "source": [
    "df_cleaned.info()"
   ]
  },
  {
   "cell_type": "code",
   "execution_count": 32,
   "id": "b98daefe-8a4c-4a54-9d21-c07a51eb1036",
   "metadata": {},
   "outputs": [
    {
     "data": {
      "text/plain": [
       "<Axes: >"
      ]
     },
     "execution_count": 32,
     "metadata": {},
     "output_type": "execute_result"
    },
    {
     "data": {
      "image/png": "[encoded data removed]",
      "text/plain": [
       "<Figure size 2500x1000 with 3 Axes>"
      ]
     },
     "metadata": {},
     "output_type": "display_data"
    }
   ],
   "source": [
    "msno.bar(df_cleaned)"
   ]
  },
  {
   "cell_type": "code",
   "execution_count": 33,
   "id": "9815348a-f1ed-45b7-9874-f3fecfd92bf8",
   "metadata": {},
   "outputs": [
    {
     "name": "stdout",
     "output_type": "stream",
     "text": [
      "Процент пропущенных значений:\n"
     ]
    },
    {
     "data": {
      "text/plain": [
       "visit_time                    0.000000\n",
       "event_action                  0.000000\n",
       "event_category                0.000000\n",
       "hit_page_path                 0.000000\n",
       "hit_type                      0.000000\n",
       "hit_number                    0.000000\n",
       "hit_date                      0.000000\n",
       "geo_city                      0.000000\n",
       "geo_country                   0.000000\n",
       "device_screen_resolution      0.000000\n",
       "device_browser                0.000000\n",
       "device_category               0.000000\n",
       "utm_medium                    0.000000\n",
       "visit_number                  0.000000\n",
       "utm_source                    0.004492\n",
       "utm_campaign                 11.508676\n",
       "utm_adcontent                17.841128\n",
       "device_brand                 19.914041\n",
       "event_label                  31.712084\n",
       "hit_referer                  39.845576\n",
       "hit_time                     57.428721\n",
       "device_os                    57.546394\n",
       "utm_keyword                  57.947584\n",
       "device_model                 99.109794\n",
       "event_value                 100.000000\n",
       "dtype: float64"
      ]
     },
     "execution_count": 33,
     "metadata": {},
     "output_type": "execute_result"
    }
   ],
   "source": [
    "missing_values = ((df_cleaned.isna().sum() / len(df_cleaned)) * 100).sort_values()\n",
    "print('Percentage of missing values:')\n",
    "print(missing_values)"
   ]
  },
  {
   "cell_type": "code",
   "execution_count": 34,
   "id": "f4883c69-01a7-433b-a82e-726e8f5df23f",
   "metadata": {},
   "outputs": [],
   "source": [
    "# Удалим неимформативные признаки, где процент пропущенных значений больше 25."
   ]
  },
  {
   "cell_type": "code",
   "execution_count": 35,
   "id": "13323c10-038a-4e85-a9c6-82964d692bd8",
   "metadata": {},
   "outputs": [],
   "source": [
    "df_cleaned = df_cleaned.drop(columns=['device_model', 'utm_keyword', 'device_os'])"
   ]
  },
  {
   "cell_type": "code",
   "execution_count": 36,
   "id": "bf667c96-093d-4d86-ac23-3aac083b3712",
   "metadata": {},
   "outputs": [],
   "source": [
    "df_cleaned = df_cleaned.drop(columns=['event_value', 'hit_time', 'hit_referer', 'event_label'])"
   ]
  },
  {
   "cell_type": "code",
   "execution_count": 37,
   "id": "63433c5a-338e-4431-858e-807b2bfb8b7c",
   "metadata": {},
   "outputs": [
    {
     "name": "stdout",
     "output_type": "stream",
     "text": [
      "Процент пропущенных значений:\n"
     ]
    },
    {
     "data": {
      "text/plain": [
       "visit_time                   0.000000\n",
       "hit_page_path                0.000000\n",
       "hit_type                     0.000000\n",
       "hit_number                   0.000000\n",
       "hit_date                     0.000000\n",
       "geo_city                     0.000000\n",
       "geo_country                  0.000000\n",
       "device_browser               0.000000\n",
       "device_screen_resolution     0.000000\n",
       "device_category              0.000000\n",
       "utm_medium                   0.000000\n",
       "visit_number                 0.000000\n",
       "event_category               0.000000\n",
       "event_action                 0.000000\n",
       "utm_source                   0.004492\n",
       "utm_campaign                11.508676\n",
       "utm_adcontent               17.841128\n",
       "device_brand                19.914041\n",
       "dtype: float64"
      ]
     },
     "execution_count": 37,
     "metadata": {},
     "output_type": "execute_result"
    }
   ],
   "source": [
    "missing_values = ((df_cleaned.isna().sum() / len(df_cleaned)) * 100).sort_values()\n",
    "print('Percentage of missing values:')\n",
    "print(missing_values)"
   ]
  },
  {
   "cell_type": "code",
   "execution_count": 11,
   "id": "bf2d8858-6359-440f-9f58-f663911dc33f",
   "metadata": {},
   "outputs": [],
   "source": [
    "def print_useful_rows_info(df):\n",
    "    complete_rows = df.dropna()\n",
    "    print('Number of fully complete rows in the dataset:', len(complete_rows))\n",
    "    print('Percentage of fully complete rows in the dataset:', round(len(complete_rows) / len(df) * 100, 2))"
   ]
  },
  {
   "cell_type": "code",
   "execution_count": 13,
   "id": "6e69491c-0b5b-410f-8361-c39ac5367ccb",
   "metadata": {},
   "outputs": [
    {
     "ename": "NameError",
     "evalue": "name 'df_cleaned' is not defined",
     "output_type": "error",
     "traceback": [
      "\u001b[0;31m---------------------------------------------------------------------------\u001b[0m",
      "\u001b[0;31mNameError\u001b[0m                                 Traceback (most recent call last)",
      "Cell \u001b[0;32mIn[13], line 1\u001b[0m\n\u001b[0;32m----> 1\u001b[0m print_useful_rows_info(df_cleaned)\n",
      "\u001b[0;31mNameError\u001b[0m: name 'df_cleaned' is not defined"
     ]
    }
   ],
   "source": [
    "print_useful_rows_info(df_cleaned)"
   ]
  },
  {
   "cell_type": "code",
   "execution_count": 40,
   "id": "4c40c59f-cc14-418d-a464-b01938e33975",
   "metadata": {},
   "outputs": [],
   "source": [
    "df_delete_cols = df_cleaned.copy()"
   ]
  },
  {
   "cell_type": "code",
   "execution_count": 17,
   "id": "aa1caa58-44e6-4316-a6e5-28c56a700e38",
   "metadata": {},
   "outputs": [],
   "source": [
    "# Missing values are still present, but now we will start filling them"
   ]
  },
  {
   "cell_type": "code",
   "execution_count": 42,
   "id": "a8066a1d-d6a4-431f-a014-66cdb7379709",
   "metadata": {},
   "outputs": [
    {
     "data": {
      "text/plain": [
       "device_brand\n",
       "Apple       483749\n",
       "NaN         336939\n",
       "Samsung     308961\n",
       "Xiaomi      263494\n",
       "Huawei      172183\n",
       "             ...  \n",
       "Tesla            1\n",
       "Vodafone         1\n",
       "Wexler           1\n",
       "Smarteo          1\n",
       "Maxvi            1\n",
       "Name: count, Length: 201, dtype: int64"
      ]
     },
     "execution_count": 42,
     "metadata": {},
     "output_type": "execute_result"
    }
   ],
   "source": [
    "df_cleaned.device_brand.value_counts(dropna=False)"
   ]
  },
  {
   "cell_type": "code",
   "execution_count": 15,
   "id": "2d75da0c-53c8-4dc0-b08f-ad153a1540c8",
   "metadata": {},
   "outputs": [],
   "source": [
    "# It's possible that the missing values in device_brand are present in other columns"
   ]
  },
  {
   "cell_type": "code",
   "execution_count": 44,
   "id": "f3bfa2d7-a383-4998-9483-6aaa19840638",
   "metadata": {},
   "outputs": [
    {
     "data": {
      "text/html": [
       "<div>\n",
       "<style scoped>\n",
       "    .dataframe tbody tr th:only-of-type {\n",
       "        vertical-align: middle;\n",
       "    }\n",
       "\n",
       "    .dataframe tbody tr th {\n",
       "        vertical-align: top;\n",
       "    }\n",
       "\n",
       "    .dataframe thead th {\n",
       "        text-align: right;\n",
       "    }\n",
       "</style>\n",
       "<table border=\"1\" class=\"dataframe\">\n",
       "  <thead>\n",
       "    <tr style=\"text-align: right;\">\n",
       "      <th></th>\n",
       "      <th>device_brand</th>\n",
       "      <th>device_os</th>\n",
       "      <th>device_category</th>\n",
       "      <th>device_model</th>\n",
       "      <th>device_screen_resolution</th>\n",
       "      <th>device_browser</th>\n",
       "    </tr>\n",
       "  </thead>\n",
       "  <tbody>\n",
       "    <tr>\n",
       "      <th>240</th>\n",
       "      <td>NaN</td>\n",
       "      <td>Windows</td>\n",
       "      <td>desktop</td>\n",
       "      <td>NaN</td>\n",
       "      <td>1536x864</td>\n",
       "      <td>Chrome</td>\n",
       "    </tr>\n",
       "    <tr>\n",
       "      <th>516</th>\n",
       "      <td>NaN</td>\n",
       "      <td>NaN</td>\n",
       "      <td>desktop</td>\n",
       "      <td>NaN</td>\n",
       "      <td>1920x1080</td>\n",
       "      <td>YaBrowser</td>\n",
       "    </tr>\n",
       "    <tr>\n",
       "      <th>518</th>\n",
       "      <td>NaN</td>\n",
       "      <td>NaN</td>\n",
       "      <td>desktop</td>\n",
       "      <td>NaN</td>\n",
       "      <td>1920x1080</td>\n",
       "      <td>Chrome</td>\n",
       "    </tr>\n",
       "    <tr>\n",
       "      <th>586</th>\n",
       "      <td>NaN</td>\n",
       "      <td>Windows</td>\n",
       "      <td>desktop</td>\n",
       "      <td>NaN</td>\n",
       "      <td>1920x1080</td>\n",
       "      <td>Chrome</td>\n",
       "    </tr>\n",
       "    <tr>\n",
       "      <th>681</th>\n",
       "      <td>NaN</td>\n",
       "      <td>NaN</td>\n",
       "      <td>desktop</td>\n",
       "      <td>NaN</td>\n",
       "      <td>1280x720</td>\n",
       "      <td>Chrome</td>\n",
       "    </tr>\n",
       "    <tr>\n",
       "      <th>685</th>\n",
       "      <td>NaN</td>\n",
       "      <td>NaN</td>\n",
       "      <td>desktop</td>\n",
       "      <td>NaN</td>\n",
       "      <td>1920x1080</td>\n",
       "      <td>Chrome</td>\n",
       "    </tr>\n",
       "    <tr>\n",
       "      <th>728</th>\n",
       "      <td>NaN</td>\n",
       "      <td>NaN</td>\n",
       "      <td>desktop</td>\n",
       "      <td>NaN</td>\n",
       "      <td>834x1112</td>\n",
       "      <td>Safari</td>\n",
       "    </tr>\n",
       "    <tr>\n",
       "      <th>779</th>\n",
       "      <td>NaN</td>\n",
       "      <td>Windows</td>\n",
       "      <td>desktop</td>\n",
       "      <td>NaN</td>\n",
       "      <td>1680x1050</td>\n",
       "      <td>Chrome</td>\n",
       "    </tr>\n",
       "    <tr>\n",
       "      <th>780</th>\n",
       "      <td>NaN</td>\n",
       "      <td>NaN</td>\n",
       "      <td>desktop</td>\n",
       "      <td>NaN</td>\n",
       "      <td>1920x1080</td>\n",
       "      <td>Chrome</td>\n",
       "    </tr>\n",
       "    <tr>\n",
       "      <th>812</th>\n",
       "      <td>NaN</td>\n",
       "      <td>NaN</td>\n",
       "      <td>desktop</td>\n",
       "      <td>NaN</td>\n",
       "      <td>1440x900</td>\n",
       "      <td>Safari</td>\n",
       "    </tr>\n",
       "    <tr>\n",
       "      <th>851</th>\n",
       "      <td>NaN</td>\n",
       "      <td>NaN</td>\n",
       "      <td>desktop</td>\n",
       "      <td>NaN</td>\n",
       "      <td>1280x720</td>\n",
       "      <td>Chrome</td>\n",
       "    </tr>\n",
       "    <tr>\n",
       "      <th>853</th>\n",
       "      <td>NaN</td>\n",
       "      <td>Windows</td>\n",
       "      <td>desktop</td>\n",
       "      <td>NaN</td>\n",
       "      <td>1024x820</td>\n",
       "      <td>YaBrowser</td>\n",
       "    </tr>\n",
       "    <tr>\n",
       "      <th>995</th>\n",
       "      <td>NaN</td>\n",
       "      <td>NaN</td>\n",
       "      <td>desktop</td>\n",
       "      <td>NaN</td>\n",
       "      <td>1920x1080</td>\n",
       "      <td>Chrome</td>\n",
       "    </tr>\n",
       "    <tr>\n",
       "      <th>1010</th>\n",
       "      <td>NaN</td>\n",
       "      <td>Windows</td>\n",
       "      <td>desktop</td>\n",
       "      <td>NaN</td>\n",
       "      <td>1920x1080</td>\n",
       "      <td>YaBrowser</td>\n",
       "    </tr>\n",
       "    <tr>\n",
       "      <th>1068</th>\n",
       "      <td>NaN</td>\n",
       "      <td>NaN</td>\n",
       "      <td>desktop</td>\n",
       "      <td>NaN</td>\n",
       "      <td>1920x1080</td>\n",
       "      <td>Chrome</td>\n",
       "    </tr>\n",
       "    <tr>\n",
       "      <th>1069</th>\n",
       "      <td>NaN</td>\n",
       "      <td>NaN</td>\n",
       "      <td>desktop</td>\n",
       "      <td>NaN</td>\n",
       "      <td>1920x1080</td>\n",
       "      <td>Chrome</td>\n",
       "    </tr>\n",
       "    <tr>\n",
       "      <th>1077</th>\n",
       "      <td>NaN</td>\n",
       "      <td>Windows</td>\n",
       "      <td>desktop</td>\n",
       "      <td>NaN</td>\n",
       "      <td>1366x768</td>\n",
       "      <td>YaBrowser</td>\n",
       "    </tr>\n",
       "    <tr>\n",
       "      <th>1089</th>\n",
       "      <td>NaN</td>\n",
       "      <td>Windows</td>\n",
       "      <td>desktop</td>\n",
       "      <td>NaN</td>\n",
       "      <td>1366x768</td>\n",
       "      <td>YaBrowser</td>\n",
       "    </tr>\n",
       "    <tr>\n",
       "      <th>1239</th>\n",
       "      <td>NaN</td>\n",
       "      <td>NaN</td>\n",
       "      <td>desktop</td>\n",
       "      <td>NaN</td>\n",
       "      <td>1280x720</td>\n",
       "      <td>Chrome</td>\n",
       "    </tr>\n",
       "    <tr>\n",
       "      <th>1373</th>\n",
       "      <td>NaN</td>\n",
       "      <td>NaN</td>\n",
       "      <td>desktop</td>\n",
       "      <td>NaN</td>\n",
       "      <td>1920x1080</td>\n",
       "      <td>Chrome</td>\n",
       "    </tr>\n",
       "    <tr>\n",
       "      <th>1454</th>\n",
       "      <td>NaN</td>\n",
       "      <td>NaN</td>\n",
       "      <td>desktop</td>\n",
       "      <td>NaN</td>\n",
       "      <td>1280x800</td>\n",
       "      <td>Chrome</td>\n",
       "    </tr>\n",
       "    <tr>\n",
       "      <th>1589</th>\n",
       "      <td>NaN</td>\n",
       "      <td>Windows</td>\n",
       "      <td>desktop</td>\n",
       "      <td>NaN</td>\n",
       "      <td>1920x1200</td>\n",
       "      <td>Chrome</td>\n",
       "    </tr>\n",
       "    <tr>\n",
       "      <th>1624</th>\n",
       "      <td>NaN</td>\n",
       "      <td>NaN</td>\n",
       "      <td>desktop</td>\n",
       "      <td>NaN</td>\n",
       "      <td>1680x1050</td>\n",
       "      <td>Chrome</td>\n",
       "    </tr>\n",
       "    <tr>\n",
       "      <th>1635</th>\n",
       "      <td>NaN</td>\n",
       "      <td>Windows</td>\n",
       "      <td>desktop</td>\n",
       "      <td>NaN</td>\n",
       "      <td>1366x768</td>\n",
       "      <td>Chrome</td>\n",
       "    </tr>\n",
       "    <tr>\n",
       "      <th>1672</th>\n",
       "      <td>NaN</td>\n",
       "      <td>Windows</td>\n",
       "      <td>desktop</td>\n",
       "      <td>NaN</td>\n",
       "      <td>1280x720</td>\n",
       "      <td>YaBrowser</td>\n",
       "    </tr>\n",
       "    <tr>\n",
       "      <th>1675</th>\n",
       "      <td>NaN</td>\n",
       "      <td>Windows</td>\n",
       "      <td>desktop</td>\n",
       "      <td>NaN</td>\n",
       "      <td>1280x720</td>\n",
       "      <td>YaBrowser</td>\n",
       "    </tr>\n",
       "    <tr>\n",
       "      <th>1690</th>\n",
       "      <td>NaN</td>\n",
       "      <td>NaN</td>\n",
       "      <td>desktop</td>\n",
       "      <td>NaN</td>\n",
       "      <td>1920x1080</td>\n",
       "      <td>Chrome</td>\n",
       "    </tr>\n",
       "    <tr>\n",
       "      <th>1697</th>\n",
       "      <td>NaN</td>\n",
       "      <td>NaN</td>\n",
       "      <td>desktop</td>\n",
       "      <td>NaN</td>\n",
       "      <td>1920x1080</td>\n",
       "      <td>Firefox</td>\n",
       "    </tr>\n",
       "    <tr>\n",
       "      <th>1772</th>\n",
       "      <td>NaN</td>\n",
       "      <td>NaN</td>\n",
       "      <td>desktop</td>\n",
       "      <td>NaN</td>\n",
       "      <td>1920x1080</td>\n",
       "      <td>Chrome</td>\n",
       "    </tr>\n",
       "    <tr>\n",
       "      <th>1776</th>\n",
       "      <td>NaN</td>\n",
       "      <td>NaN</td>\n",
       "      <td>desktop</td>\n",
       "      <td>NaN</td>\n",
       "      <td>1920x1080</td>\n",
       "      <td>Chrome</td>\n",
       "    </tr>\n",
       "    <tr>\n",
       "      <th>1789</th>\n",
       "      <td>NaN</td>\n",
       "      <td>NaN</td>\n",
       "      <td>desktop</td>\n",
       "      <td>NaN</td>\n",
       "      <td>1920x1080</td>\n",
       "      <td>Chrome</td>\n",
       "    </tr>\n",
       "    <tr>\n",
       "      <th>1818</th>\n",
       "      <td>NaN</td>\n",
       "      <td>Windows</td>\n",
       "      <td>desktop</td>\n",
       "      <td>NaN</td>\n",
       "      <td>1366x768</td>\n",
       "      <td>YaBrowser</td>\n",
       "    </tr>\n",
       "    <tr>\n",
       "      <th>1864</th>\n",
       "      <td>NaN</td>\n",
       "      <td>NaN</td>\n",
       "      <td>desktop</td>\n",
       "      <td>NaN</td>\n",
       "      <td>1920x1080</td>\n",
       "      <td>Chrome</td>\n",
       "    </tr>\n",
       "    <tr>\n",
       "      <th>1866</th>\n",
       "      <td>NaN</td>\n",
       "      <td>Linux</td>\n",
       "      <td>desktop</td>\n",
       "      <td>NaN</td>\n",
       "      <td>393x873</td>\n",
       "      <td>Chrome</td>\n",
       "    </tr>\n",
       "    <tr>\n",
       "      <th>1904</th>\n",
       "      <td>NaN</td>\n",
       "      <td>NaN</td>\n",
       "      <td>desktop</td>\n",
       "      <td>NaN</td>\n",
       "      <td>1280x720</td>\n",
       "      <td>YaBrowser</td>\n",
       "    </tr>\n",
       "    <tr>\n",
       "      <th>1905</th>\n",
       "      <td>NaN</td>\n",
       "      <td>NaN</td>\n",
       "      <td>desktop</td>\n",
       "      <td>NaN</td>\n",
       "      <td>1920x1080</td>\n",
       "      <td>Chrome</td>\n",
       "    </tr>\n",
       "    <tr>\n",
       "      <th>1989</th>\n",
       "      <td>NaN</td>\n",
       "      <td>NaN</td>\n",
       "      <td>desktop</td>\n",
       "      <td>NaN</td>\n",
       "      <td>1536x864</td>\n",
       "      <td>Chrome</td>\n",
       "    </tr>\n",
       "    <tr>\n",
       "      <th>1991</th>\n",
       "      <td>NaN</td>\n",
       "      <td>NaN</td>\n",
       "      <td>desktop</td>\n",
       "      <td>NaN</td>\n",
       "      <td>1536x864</td>\n",
       "      <td>Chrome</td>\n",
       "    </tr>\n",
       "    <tr>\n",
       "      <th>2051</th>\n",
       "      <td>NaN</td>\n",
       "      <td>Macintosh</td>\n",
       "      <td>desktop</td>\n",
       "      <td>NaN</td>\n",
       "      <td>1440x900</td>\n",
       "      <td>Safari</td>\n",
       "    </tr>\n",
       "    <tr>\n",
       "      <th>2053</th>\n",
       "      <td>NaN</td>\n",
       "      <td>Macintosh</td>\n",
       "      <td>desktop</td>\n",
       "      <td>NaN</td>\n",
       "      <td>1440x900</td>\n",
       "      <td>Safari</td>\n",
       "    </tr>\n",
       "    <tr>\n",
       "      <th>2054</th>\n",
       "      <td>NaN</td>\n",
       "      <td>NaN</td>\n",
       "      <td>desktop</td>\n",
       "      <td>NaN</td>\n",
       "      <td>1920x1080</td>\n",
       "      <td>Opera</td>\n",
       "    </tr>\n",
       "    <tr>\n",
       "      <th>2066</th>\n",
       "      <td>NaN</td>\n",
       "      <td>NaN</td>\n",
       "      <td>desktop</td>\n",
       "      <td>NaN</td>\n",
       "      <td>1920x1080</td>\n",
       "      <td>Chrome</td>\n",
       "    </tr>\n",
       "    <tr>\n",
       "      <th>2121</th>\n",
       "      <td>NaN</td>\n",
       "      <td>NaN</td>\n",
       "      <td>desktop</td>\n",
       "      <td>NaN</td>\n",
       "      <td>1920x1080</td>\n",
       "      <td>Chrome</td>\n",
       "    </tr>\n",
       "    <tr>\n",
       "      <th>2122</th>\n",
       "      <td>NaN</td>\n",
       "      <td>Windows</td>\n",
       "      <td>desktop</td>\n",
       "      <td>NaN</td>\n",
       "      <td>1366x768</td>\n",
       "      <td>Chrome</td>\n",
       "    </tr>\n",
       "    <tr>\n",
       "      <th>2219</th>\n",
       "      <td>NaN</td>\n",
       "      <td>NaN</td>\n",
       "      <td>desktop</td>\n",
       "      <td>NaN</td>\n",
       "      <td>1920x1080</td>\n",
       "      <td>Chrome</td>\n",
       "    </tr>\n",
       "    <tr>\n",
       "      <th>2257</th>\n",
       "      <td>NaN</td>\n",
       "      <td>NaN</td>\n",
       "      <td>desktop</td>\n",
       "      <td>NaN</td>\n",
       "      <td>1366x768</td>\n",
       "      <td>Chrome</td>\n",
       "    </tr>\n",
       "    <tr>\n",
       "      <th>2300</th>\n",
       "      <td>NaN</td>\n",
       "      <td>NaN</td>\n",
       "      <td>desktop</td>\n",
       "      <td>NaN</td>\n",
       "      <td>1920x1080</td>\n",
       "      <td>Chrome</td>\n",
       "    </tr>\n",
       "    <tr>\n",
       "      <th>2301</th>\n",
       "      <td>NaN</td>\n",
       "      <td>NaN</td>\n",
       "      <td>desktop</td>\n",
       "      <td>NaN</td>\n",
       "      <td>1920x1080</td>\n",
       "      <td>Chrome</td>\n",
       "    </tr>\n",
       "    <tr>\n",
       "      <th>2302</th>\n",
       "      <td>NaN</td>\n",
       "      <td>NaN</td>\n",
       "      <td>desktop</td>\n",
       "      <td>NaN</td>\n",
       "      <td>1280x1024</td>\n",
       "      <td>Chrome</td>\n",
       "    </tr>\n",
       "    <tr>\n",
       "      <th>2481</th>\n",
       "      <td>NaN</td>\n",
       "      <td>NaN</td>\n",
       "      <td>desktop</td>\n",
       "      <td>NaN</td>\n",
       "      <td>1680x1050</td>\n",
       "      <td>Chrome</td>\n",
       "    </tr>\n",
       "  </tbody>\n",
       "</table>\n",
       "</div>"
      ],
      "text/plain": [
       "     device_brand  device_os device_category device_model  \\\n",
       "240           NaN    Windows         desktop          NaN   \n",
       "516           NaN        NaN         desktop          NaN   \n",
       "518           NaN        NaN         desktop          NaN   \n",
       "586           NaN    Windows         desktop          NaN   \n",
       "681           NaN        NaN         desktop          NaN   \n",
       "685           NaN        NaN         desktop          NaN   \n",
       "728           NaN        NaN         desktop          NaN   \n",
       "779           NaN    Windows         desktop          NaN   \n",
       "780           NaN        NaN         desktop          NaN   \n",
       "812           NaN        NaN         desktop          NaN   \n",
       "851           NaN        NaN         desktop          NaN   \n",
       "853           NaN    Windows         desktop          NaN   \n",
       "995           NaN        NaN         desktop          NaN   \n",
       "1010          NaN    Windows         desktop          NaN   \n",
       "1068          NaN        NaN         desktop          NaN   \n",
       "1069          NaN        NaN         desktop          NaN   \n",
       "1077          NaN    Windows         desktop          NaN   \n",
       "1089          NaN    Windows         desktop          NaN   \n",
       "1239          NaN        NaN         desktop          NaN   \n",
       "1373          NaN        NaN         desktop          NaN   \n",
       "1454          NaN        NaN         desktop          NaN   \n",
       "1589          NaN    Windows         desktop          NaN   \n",
       "1624          NaN        NaN         desktop          NaN   \n",
       "1635          NaN    Windows         desktop          NaN   \n",
       "1672          NaN    Windows         desktop          NaN   \n",
       "1675          NaN    Windows         desktop          NaN   \n",
       "1690          NaN        NaN         desktop          NaN   \n",
       "1697          NaN        NaN         desktop          NaN   \n",
       "1772          NaN        NaN         desktop          NaN   \n",
       "1776          NaN        NaN         desktop          NaN   \n",
       "1789          NaN        NaN         desktop          NaN   \n",
       "1818          NaN    Windows         desktop          NaN   \n",
       "1864          NaN        NaN         desktop          NaN   \n",
       "1866          NaN      Linux         desktop          NaN   \n",
       "1904          NaN        NaN         desktop          NaN   \n",
       "1905          NaN        NaN         desktop          NaN   \n",
       "1989          NaN        NaN         desktop          NaN   \n",
       "1991          NaN        NaN         desktop          NaN   \n",
       "2051          NaN  Macintosh         desktop          NaN   \n",
       "2053          NaN  Macintosh         desktop          NaN   \n",
       "2054          NaN        NaN         desktop          NaN   \n",
       "2066          NaN        NaN         desktop          NaN   \n",
       "2121          NaN        NaN         desktop          NaN   \n",
       "2122          NaN    Windows         desktop          NaN   \n",
       "2219          NaN        NaN         desktop          NaN   \n",
       "2257          NaN        NaN         desktop          NaN   \n",
       "2300          NaN        NaN         desktop          NaN   \n",
       "2301          NaN        NaN         desktop          NaN   \n",
       "2302          NaN        NaN         desktop          NaN   \n",
       "2481          NaN        NaN         desktop          NaN   \n",
       "\n",
       "     device_screen_resolution device_browser  \n",
       "240                  1536x864         Chrome  \n",
       "516                 1920x1080      YaBrowser  \n",
       "518                 1920x1080         Chrome  \n",
       "586                 1920x1080         Chrome  \n",
       "681                  1280x720         Chrome  \n",
       "685                 1920x1080         Chrome  \n",
       "728                  834x1112         Safari  \n",
       "779                 1680x1050         Chrome  \n",
       "780                 1920x1080         Chrome  \n",
       "812                  1440x900         Safari  \n",
       "851                  1280x720         Chrome  \n",
       "853                  1024x820      YaBrowser  \n",
       "995                 1920x1080         Chrome  \n",
       "1010                1920x1080      YaBrowser  \n",
       "1068                1920x1080         Chrome  \n",
       "1069                1920x1080         Chrome  \n",
       "1077                 1366x768      YaBrowser  \n",
       "1089                 1366x768      YaBrowser  \n",
       "1239                 1280x720         Chrome  \n",
       "1373                1920x1080         Chrome  \n",
       "1454                 1280x800         Chrome  \n",
       "1589                1920x1200         Chrome  \n",
       "1624                1680x1050         Chrome  \n",
       "1635                 1366x768         Chrome  \n",
       "1672                 1280x720      YaBrowser  \n",
       "1675                 1280x720      YaBrowser  \n",
       "1690                1920x1080         Chrome  \n",
       "1697                1920x1080        Firefox  \n",
       "1772                1920x1080         Chrome  \n",
       "1776                1920x1080         Chrome  \n",
       "1789                1920x1080         Chrome  \n",
       "1818                 1366x768      YaBrowser  \n",
       "1864                1920x1080         Chrome  \n",
       "1866                  393x873         Chrome  \n",
       "1904                 1280x720      YaBrowser  \n",
       "1905                1920x1080         Chrome  \n",
       "1989                 1536x864         Chrome  \n",
       "1991                 1536x864         Chrome  \n",
       "2051                 1440x900         Safari  \n",
       "2053                 1440x900         Safari  \n",
       "2054                1920x1080          Opera  \n",
       "2066                1920x1080         Chrome  \n",
       "2121                1920x1080         Chrome  \n",
       "2122                 1366x768         Chrome  \n",
       "2219                1920x1080         Chrome  \n",
       "2257                 1366x768         Chrome  \n",
       "2300                1920x1080         Chrome  \n",
       "2301                1920x1080         Chrome  \n",
       "2302                1280x1024         Chrome  \n",
       "2481                1680x1050         Chrome  "
      ]
     },
     "execution_count": 44,
     "metadata": {},
     "output_type": "execute_result"
    }
   ],
   "source": [
    "merged_df[merged_df['device_brand'].isna()][[\n",
    "    'device_brand',\n",
    "    'device_os',\n",
    "    'device_category',\n",
    "    'device_model',\n",
    "    'device_screen_resolution',\n",
    "    'device_browser'\n",
    "]].head(50)\n"
   ]
  },
  {
   "cell_type": "code",
   "execution_count": 19,
   "id": "6ddbead9-9258-40d1-a364-6ebc994d5658",
   "metadata": {},
   "outputs": [],
   "source": [
    "# Unfortunately, there are none, so we will fill them with a new value: 'other'"
   ]
  },
  {
   "cell_type": "code",
   "execution_count": 46,
   "id": "7f55b15d-8b66-4fed-8ebb-4ef1da97460c",
   "metadata": {},
   "outputs": [
    {
     "data": {
      "text/plain": [
       "0"
      ]
     },
     "execution_count": 46,
     "metadata": {},
     "output_type": "execute_result"
    }
   ],
   "source": [
    "df_cleaned.device_brand = df_cleaned.device_brand.fillna('other')\n",
    "df_cleaned.device_brand.isna().sum()"
   ]
  },
  {
   "cell_type": "code",
   "execution_count": 47,
   "id": "1329bca8-b739-48e5-a8bd-069d0ac0fea7",
   "metadata": {},
   "outputs": [
    {
     "name": "stdout",
     "output_type": "stream",
     "text": [
      "Количество полностью заполненных объектов всей выборки: 1375628\n",
      "Процент полностью заполненных объектов из всей выборки: 81.3\n"
     ]
    }
   ],
   "source": [
    "print_useful_rows_info(df_cleaned)"
   ]
  },
  {
   "cell_type": "code",
   "execution_count": 21,
   "id": "b6551025-3d5e-45f1-b123-ddc48d28614d",
   "metadata": {},
   "outputs": [],
   "source": [
    "# Let's continue filling in the missing values"
   ]
  },
  {
   "cell_type": "code",
   "execution_count": 49,
   "id": "6aed6ce1-56e9-4008-89dd-d9c30711a61d",
   "metadata": {},
   "outputs": [
    {
     "data": {
      "text/plain": [
       "utm_adcontent\n",
       "JNHcPlZPxEMWDnRiyoBf    910870\n",
       "NaN                     301866\n",
       "vCIpmpaGBnIQhyYNkXqp    179438\n",
       "xhoenQgDQsgfEPYNPwKO    103797\n",
       "PkybGvWbaqORmxjNunqZ     53589\n",
       "                         ...  \n",
       "PlanrlymnpCeYvUrUTVJ         1\n",
       "JgmeMvxiYyrYlmqauiSv         1\n",
       "QMmfrhgnqNOwSTPaqlLK         1\n",
       "EsbpyHMkFkavykEeYhch         1\n",
       "oJivRDNIrrOckRBIKOtG         1\n",
       "Name: count, Length: 281, dtype: int64"
      ]
     },
     "execution_count": 49,
     "metadata": {},
     "output_type": "execute_result"
    }
   ],
   "source": [
    "df_cleaned.utm_adcontent.value_counts(dropna=False)"
   ]
  },
  {
   "cell_type": "code",
   "execution_count": 50,
   "id": "b7dac4cd-d512-4037-9761-4bd703814180",
   "metadata": {},
   "outputs": [],
   "source": [
    "# we will fill them with a new value: 'other'"
   ]
  },
  {
   "cell_type": "code",
   "execution_count": 51,
   "id": "1a3d2739-efd9-41c4-9538-53861136e42e",
   "metadata": {},
   "outputs": [
    {
     "data": {
      "text/plain": [
       "0"
      ]
     },
     "execution_count": 51,
     "metadata": {},
     "output_type": "execute_result"
    }
   ],
   "source": [
    "df_cleaned.utm_adcontent = df_cleaned.utm_adcontent.fillna('other')\n",
    "df_cleaned.utm_adcontent.isna().sum()"
   ]
  },
  {
   "cell_type": "code",
   "execution_count": 52,
   "id": "3268b840-70ac-4e82-bfc0-4fcceca85595",
   "metadata": {},
   "outputs": [
    {
     "name": "stdout",
     "output_type": "stream",
     "text": [
      "Количество полностью заполненных объектов всей выборки: 1497168\n",
      "Процент полностью заполненных объектов из всей выборки: 88.49\n"
     ]
    }
   ],
   "source": [
    "print_useful_rows_info(df_cleaned)"
   ]
  },
  {
   "cell_type": "code",
   "execution_count": 23,
   "id": "51166f44-ac8b-4008-8744-5cad52ec27b6",
   "metadata": {},
   "outputs": [],
   "source": [
    "# Only the features utm_campaign and utm_source remain"
   ]
  },
  {
   "cell_type": "code",
   "execution_count": 54,
   "id": "d8cade99-7c51-4caf-9ad0-6f0d18c717db",
   "metadata": {},
   "outputs": [
    {
     "data": {
      "text/plain": [
       "utm_campaign\n",
       "LTuZkdKfxRGVceoWkVyg    412090\n",
       "LEoPHuyFvzoNfnzGgfcd    314850\n",
       "FTjNLDyTrXaWYgZymFkV    223025\n",
       "NaN                     194723\n",
       "gecBYcKZCPMcVYdSSzKP    131110\n",
       "                         ...  \n",
       "qPDTdivQVeflLjTYIJnG         1\n",
       "InOGyxvxAfYvSHCpIjJZ         1\n",
       "ehLonfPENrOEoPTIyiOZ         1\n",
       "YlsczTIyBSwTLNtuDkCd         1\n",
       "cXxuwXPoQCvAXPHpFcZl         1\n",
       "Name: count, Length: 407, dtype: int64"
      ]
     },
     "execution_count": 54,
     "metadata": {},
     "output_type": "execute_result"
    }
   ],
   "source": [
    "df_cleaned.utm_campaign.value_counts(dropna=False)"
   ]
  },
  {
   "cell_type": "code",
   "execution_count": 25,
   "id": "8843a335-5709-48ca-9936-c46f1c6fcbb4",
   "metadata": {},
   "outputs": [],
   "source": [
    "# we will fill them with a new value: 'other'"
   ]
  },
  {
   "cell_type": "code",
   "execution_count": 56,
   "id": "a9a0c3f4-b8db-4dcb-a8c7-b383f82daf86",
   "metadata": {},
   "outputs": [
    {
     "data": {
      "text/plain": [
       "0"
      ]
     },
     "execution_count": 56,
     "metadata": {},
     "output_type": "execute_result"
    }
   ],
   "source": [
    "df_cleaned.utm_campaign = df_cleaned.utm_campaign.fillna('other')\n",
    "df_cleaned.utm_campaign.isna().sum()"
   ]
  },
  {
   "cell_type": "code",
   "execution_count": 57,
   "id": "b7e7efe7-48ad-415d-8fee-8da6d5a917d2",
   "metadata": {},
   "outputs": [
    {
     "data": {
      "text/plain": [
       "utm_source\n",
       "ZpYIoDJMcFzVoPFsHGJL    542199\n",
       "fDLlAcSmythWSCVMvqvL    266364\n",
       "kjsLglQLzykiRbcDiGcD    242008\n",
       "MvfHsxITijuriZxsqZqt    169640\n",
       "BHcvLfOaCWvWTykYqHVe    110942\n",
       "                         ...  \n",
       "WRHPhoRKhKxaenRCLBfo         1\n",
       "tjKUGseGMhkLEzdCqBRx         1\n",
       "VdeFdoGCqZBxFfKSHNLl         1\n",
       "RzLAoRYmCtVATSoPvWAQ         1\n",
       "nVVduuqoxTOGBvvhENWW         1\n",
       "Name: count, Length: 281, dtype: int64"
      ]
     },
     "execution_count": 57,
     "metadata": {},
     "output_type": "execute_result"
    }
   ],
   "source": [
    "df_cleaned.utm_source.value_counts(dropna=False)"
   ]
  },
  {
   "cell_type": "code",
   "execution_count": 27,
   "id": "d182ad4f-1958-4ba9-b3cc-4551a9946b44",
   "metadata": {},
   "outputs": [],
   "source": [
    "# we will fill them with a new value: 'other'"
   ]
  },
  {
   "cell_type": "code",
   "execution_count": 59,
   "id": "16785259-316d-4d95-9ab3-074f86e94799",
   "metadata": {},
   "outputs": [
    {
     "data": {
      "text/plain": [
       "0"
      ]
     },
     "execution_count": 59,
     "metadata": {},
     "output_type": "execute_result"
    }
   ],
   "source": [
    "df_cleaned.utm_source = df_cleaned.utm_source.fillna('other')\n",
    "df_cleaned.utm_source.isna().sum()"
   ]
  },
  {
   "cell_type": "code",
   "execution_count": 60,
   "id": "3c54c567-6f27-46e0-8986-d8091596a77e",
   "metadata": {},
   "outputs": [
    {
     "name": "stdout",
     "output_type": "stream",
     "text": [
      "Количество полностью заполненных объектов всей выборки: 1691967\n",
      "Процент полностью заполненных объектов из всей выборки: 100.0\n"
     ]
    }
   ],
   "source": [
    "print_useful_rows_info(df_cleaned)"
   ]
  },
  {
   "cell_type": "code",
   "execution_count": 61,
   "id": "089c2306-4153-4e7b-ad46-237d198a8841",
   "metadata": {},
   "outputs": [],
   "source": [
    "df_clean = df_cleaned.copy()"
   ]
  },
  {
   "cell_type": "markdown",
   "id": "b8a19842-e65c-4314-9c56-b9959f803743",
   "metadata": {},
   "source": [
    "### Data transformation and feature engineering"
   ]
  },
  {
   "cell_type": "code",
   "execution_count": 702,
   "id": "5eecf732-3beb-4645-a2f1-ba5b09ce4394",
   "metadata": {},
   "outputs": [],
   "source": [
    "df_filtered = df_cleaned.copy()"
   ]
  },
  {
   "cell_type": "code",
   "execution_count": 29,
   "id": "23f334e1-43eb-403f-8127-14bc172d6f0d",
   "metadata": {},
   "outputs": [],
   "source": [
    "# Let's process the values in features that may be uninformative"
   ]
  },
  {
   "cell_type": "code",
   "execution_count": 31,
   "id": "f996dcd8-a21b-452d-9f16-19461892470b",
   "metadata": {},
   "outputs": [],
   "source": [
    "# Replace such unique values with \"other_*\""
   ]
  },
  {
   "cell_type": "code",
   "execution_count": 708,
   "id": "db0967c5-6207-451c-8593-cf510d141b6c",
   "metadata": {},
   "outputs": [
    {
     "data": {
      "text/plain": [
       "geo_city\n",
       "Moscow              721011\n",
       "Saint Petersburg    273275\n",
       "(not set)            70679\n",
       "Yekaterinburg        33234\n",
       "Krasnodar            30000\n",
       "                     ...  \n",
       "Oldbury                  1\n",
       "Bad Breisig              1\n",
       "Ilza                     1\n",
       "Svishtov                 1\n",
       "Compiegne                1\n",
       "Name: count, Length: 2389, dtype: int64"
      ]
     },
     "execution_count": 708,
     "metadata": {},
     "output_type": "execute_result"
    }
   ],
   "source": [
    "df_filtered.geo_city.value_counts()"
   ]
  },
  {
   "cell_type": "code",
   "execution_count": 710,
   "id": "916a44ca-9c14-4e7e-916c-70ca97300044",
   "metadata": {},
   "outputs": [
    {
     "data": {
      "text/plain": [
       "2389"
      ]
     },
     "execution_count": 710,
     "metadata": {},
     "output_type": "execute_result"
    }
   ],
   "source": [
    "df_filtered.geo_city.nunique()"
   ]
  },
  {
   "cell_type": "code",
   "execution_count": 712,
   "id": "0a707069-629e-41b9-9885-065521e3d84b",
   "metadata": {},
   "outputs": [
    {
     "data": {
      "text/plain": [
       "833"
      ]
     },
     "execution_count": 712,
     "metadata": {},
     "output_type": "execute_result"
    }
   ],
   "source": [
    "num_unique_cities = (df_filtered.geo_city.value_counts() <= 1).sum()\n",
    "num_unique_cities"
   ]
  },
  {
   "cell_type": "code",
   "execution_count": 33,
   "id": "4345c1fe-382c-4942-90a4-12d6380a2d12",
   "metadata": {},
   "outputs": [],
   "source": [
    "# Convert target values to binary format"
   ]
  },
  {
   "cell_type": "code",
   "execution_count": 716,
   "id": "fbe725af-d93a-4e0f-9799-e1f6191fcac2",
   "metadata": {},
   "outputs": [],
   "source": [
    "target_values = [\n",
    "    'sub_car_claim_click', 'sub_car_claim_submit_click',\n",
    "    'sub_open_dialog_click', 'sub_custom_question_submit_click',\n",
    "    'sub_call_number_click', 'sub_callback_submit_click',\n",
    "    'sub_submit_success', 'sub_car_request_submit_click'\n",
    "]\n",
    "\n",
    "df_filtered['event_action'] = df_filtered['event_action'].apply(lambda x: 1 if x in target_values else 0)"
   ]
  },
  {
   "cell_type": "code",
   "execution_count": 717,
   "id": "2a1e92b7-347d-4eb3-bdd3-6fd23264ea55",
   "metadata": {},
   "outputs": [
    {
     "data": {
      "text/plain": [
       "event_action\n",
       "0    1686738\n",
       "1       5229\n",
       "Name: count, dtype: int64"
      ]
     },
     "execution_count": 717,
     "metadata": {},
     "output_type": "execute_result"
    }
   ],
   "source": [
    "df_filtered['event_action'].value_counts()"
   ]
  },
  {
   "cell_type": "code",
   "execution_count": 718,
   "id": "d43b42da-44d3-4a3d-81b5-071f7cdb1774",
   "metadata": {},
   "outputs": [],
   "source": [
    "df_try = df_filtered.copy()"
   ]
  },
  {
   "cell_type": "code",
   "execution_count": 35,
   "id": "30b00339-9168-4c50-a570-b6dcef7d0abc",
   "metadata": {},
   "outputs": [
    {
     "ename": "NameError",
     "evalue": "name 'df_try' is not defined",
     "output_type": "error",
     "traceback": [
      "\u001b[0;31m---------------------------------------------------------------------------\u001b[0m",
      "\u001b[0;31mNameError\u001b[0m                                 Traceback (most recent call last)",
      "Cell \u001b[0;32mIn[35], line 2\u001b[0m\n\u001b[1;32m      1\u001b[0m \u001b[38;5;66;03m# Count the number of occurrences for each city\u001b[39;00m\n\u001b[0;32m----> 2\u001b[0m city_counts \u001b[38;5;241m=\u001b[39m df_try[\u001b[38;5;124m'\u001b[39m\u001b[38;5;124mgeo_city\u001b[39m\u001b[38;5;124m'\u001b[39m]\u001b[38;5;241m.\u001b[39mvalue_counts()\n\u001b[1;32m      4\u001b[0m df_try[\u001b[38;5;124m'\u001b[39m\u001b[38;5;124mcity_category\u001b[39m\u001b[38;5;124m'\u001b[39m] \u001b[38;5;241m=\u001b[39m df_try[\u001b[38;5;124m'\u001b[39m\u001b[38;5;124mgeo_city\u001b[39m\u001b[38;5;124m'\u001b[39m]\u001b[38;5;241m.\u001b[39mapply(\u001b[38;5;28;01mlambda\u001b[39;00m x: \u001b[38;5;124m'\u001b[39m\u001b[38;5;124mRare\u001b[39m\u001b[38;5;124m'\u001b[39m \u001b[38;5;28;01mif\u001b[39;00m city_counts[x] \u001b[38;5;241m<\u001b[39m\u001b[38;5;241m=\u001b[39m \u001b[38;5;241m1\u001b[39m \u001b[38;5;28;01melse\u001b[39;00m \u001b[38;5;124m'\u001b[39m\u001b[38;5;124mFrequent\u001b[39m\u001b[38;5;124m'\u001b[39m)\n\u001b[1;32m      5\u001b[0m target_mean_by_category \u001b[38;5;241m=\u001b[39m df_try\u001b[38;5;241m.\u001b[39mgroupby(\u001b[38;5;124m'\u001b[39m\u001b[38;5;124mcity_category\u001b[39m\u001b[38;5;124m'\u001b[39m)[\u001b[38;5;124m'\u001b[39m\u001b[38;5;124mevent_action\u001b[39m\u001b[38;5;124m'\u001b[39m]\u001b[38;5;241m.\u001b[39mmean()\u001b[38;5;241m.\u001b[39mreset_index()\n",
      "\u001b[0;31mNameError\u001b[0m: name 'df_try' is not defined"
     ]
    }
   ],
   "source": [
    "# Count the number of occurrences for each city\n",
    "city_counts = df_try['geo_city'].value_counts()\n",
    "    \n",
    "df_try['city_category'] = df_try['geo_city'].apply(lambda x: 'Rare' if city_counts[x] <= 1 else 'Frequent')\n",
    "target_mean_by_category = df_try.groupby('city_category')['event_action'].mean().reset_index()"
   ]
  },
  {
   "cell_type": "code",
   "execution_count": 722,
   "id": "098aea49-5b5a-491a-a608-c9b6c6c1c3c5",
   "metadata": {},
   "outputs": [
    {
     "data": {
      "text/plain": [
       "geo_city\n",
       "Moscow              721011\n",
       "Saint Petersburg    273275\n",
       "(not set)            70679\n",
       "Yekaterinburg        33234\n",
       "Krasnodar            30000\n",
       "                     ...  \n",
       "Oldbury                  1\n",
       "Bad Breisig              1\n",
       "Ilza                     1\n",
       "Svishtov                 1\n",
       "Compiegne                1\n",
       "Name: count, Length: 2389, dtype: int64"
      ]
     },
     "execution_count": 722,
     "metadata": {},
     "output_type": "execute_result"
    }
   ],
   "source": [
    "city_counts"
   ]
  },
  {
   "cell_type": "code",
   "execution_count": 724,
   "id": "60811c01-eaf1-4ed3-9f3d-2603ff43e2d5",
   "metadata": {},
   "outputs": [
    {
     "data": {
      "image/png": "[encoded data removed]",
      "text/plain": [
       "<Figure size 800x600 with 1 Axes>"
      ]
     },
     "metadata": {},
     "output_type": "display_data"
    }
   ],
   "source": [
    "plt.figure(figsize=(8, 6))\n",
    "sns.barplot(x='city_category', y='event_action', data=target_mean_by_category)\n",
    "plt.ylabel('Frequency of Target Variable (1)')\n",
    "plt.title('Comparison of Target Variable Frequency Between Rare and Frequent Cities')\n",
    "plt.show()"
   ]
  },
  {
   "cell_type": "code",
   "execution_count": 725,
   "id": "19416699-d88d-4243-b6f7-36992d6e229f",
   "metadata": {},
   "outputs": [
    {
     "data": {
      "text/html": [
       "<div>\n",
       "<style scoped>\n",
       "    .dataframe tbody tr th:only-of-type {\n",
       "        vertical-align: middle;\n",
       "    }\n",
       "\n",
       "    .dataframe tbody tr th {\n",
       "        vertical-align: top;\n",
       "    }\n",
       "\n",
       "    .dataframe thead th {\n",
       "        text-align: right;\n",
       "    }\n",
       "</style>\n",
       "<table border=\"1\" class=\"dataframe\">\n",
       "  <thead>\n",
       "    <tr style=\"text-align: right;\">\n",
       "      <th></th>\n",
       "      <th>city_category</th>\n",
       "      <th>event_action</th>\n",
       "    </tr>\n",
       "  </thead>\n",
       "  <tbody>\n",
       "    <tr>\n",
       "      <th>0</th>\n",
       "      <td>Frequent</td>\n",
       "      <td>0.003092</td>\n",
       "    </tr>\n",
       "    <tr>\n",
       "      <th>1</th>\n",
       "      <td>Rare</td>\n",
       "      <td>0.000000</td>\n",
       "    </tr>\n",
       "  </tbody>\n",
       "</table>\n",
       "</div>"
      ],
      "text/plain": [
       "  city_category  event_action\n",
       "0      Frequent      0.003092\n",
       "1          Rare      0.000000"
      ]
     },
     "execution_count": 725,
     "metadata": {},
     "output_type": "execute_result"
    }
   ],
   "source": [
    "target_mean_by_category"
   ]
  },
  {
   "cell_type": "code",
   "execution_count": 37,
   "id": "05cf82b2-9c0c-416d-b194-250c5deea4ae",
   "metadata": {},
   "outputs": [],
   "source": [
    "# Since cities below the frequency threshold of 1 show no signs of correlation with the target value,\n",
    "# we can replace all such cities with 'other_city'"
   ]
  },
  {
   "cell_type": "code",
   "execution_count": 727,
   "id": "75bbd11c-c82e-4bce-b4ce-962bf43defbe",
   "metadata": {},
   "outputs": [
    {
     "data": {
      "text/html": [
       "<div>\n",
       "<style scoped>\n",
       "    .dataframe tbody tr th:only-of-type {\n",
       "        vertical-align: middle;\n",
       "    }\n",
       "\n",
       "    .dataframe tbody tr th {\n",
       "        vertical-align: top;\n",
       "    }\n",
       "\n",
       "    .dataframe thead th {\n",
       "        text-align: right;\n",
       "    }\n",
       "</style>\n",
       "<table border=\"1\" class=\"dataframe\">\n",
       "  <thead>\n",
       "    <tr style=\"text-align: right;\">\n",
       "      <th></th>\n",
       "      <th>visit_time</th>\n",
       "      <th>visit_number</th>\n",
       "      <th>utm_source</th>\n",
       "      <th>utm_medium</th>\n",
       "      <th>utm_campaign</th>\n",
       "      <th>utm_adcontent</th>\n",
       "      <th>device_category</th>\n",
       "      <th>device_brand</th>\n",
       "      <th>device_screen_resolution</th>\n",
       "      <th>device_browser</th>\n",
       "      <th>geo_country</th>\n",
       "      <th>geo_city</th>\n",
       "      <th>hit_date</th>\n",
       "      <th>hit_number</th>\n",
       "      <th>hit_type</th>\n",
       "      <th>hit_page_path</th>\n",
       "      <th>event_category</th>\n",
       "      <th>event_action</th>\n",
       "      <th>city_category</th>\n",
       "    </tr>\n",
       "  </thead>\n",
       "  <tbody>\n",
       "    <tr>\n",
       "      <th>0</th>\n",
       "      <td>14:36:32</td>\n",
       "      <td>1</td>\n",
       "      <td>ZpYIoDJMcFzVoPFsHGJL</td>\n",
       "      <td>banner</td>\n",
       "      <td>LEoPHuyFvzoNfnzGgfcd</td>\n",
       "      <td>vCIpmpaGBnIQhyYNkXqp</td>\n",
       "      <td>mobile</td>\n",
       "      <td>Huawei</td>\n",
       "      <td>360x720</td>\n",
       "      <td>Chrome</td>\n",
       "      <td>Russia</td>\n",
       "      <td>Zlatoust</td>\n",
       "      <td>2021-11-24</td>\n",
       "      <td>3</td>\n",
       "      <td>event</td>\n",
       "      <td>podpiska.sberauto.com/</td>\n",
       "      <td>sub_page_view</td>\n",
       "      <td>0</td>\n",
       "      <td>Frequent</td>\n",
       "    </tr>\n",
       "    <tr>\n",
       "      <th>2</th>\n",
       "      <td>08:21:30</td>\n",
       "      <td>1</td>\n",
       "      <td>MvfHsxITijuriZxsqZqt</td>\n",
       "      <td>cpm</td>\n",
       "      <td>FTjNLDyTrXaWYgZymFkV</td>\n",
       "      <td>xhoenQgDQsgfEPYNPwKO</td>\n",
       "      <td>mobile</td>\n",
       "      <td>Samsung</td>\n",
       "      <td>385x854</td>\n",
       "      <td>Samsung Internet</td>\n",
       "      <td>Russia</td>\n",
       "      <td>Moscow</td>\n",
       "      <td>2021-11-14</td>\n",
       "      <td>3</td>\n",
       "      <td>event</td>\n",
       "      <td>podpiska.sberauto.com/</td>\n",
       "      <td>sub_page_view</td>\n",
       "      <td>0</td>\n",
       "      <td>Frequent</td>\n",
       "    </tr>\n",
       "    <tr>\n",
       "      <th>3</th>\n",
       "      <td>02:42:06</td>\n",
       "      <td>1</td>\n",
       "      <td>ZpYIoDJMcFzVoPFsHGJL</td>\n",
       "      <td>banner</td>\n",
       "      <td>LEoPHuyFvzoNfnzGgfcd</td>\n",
       "      <td>vCIpmpaGBnIQhyYNkXqp</td>\n",
       "      <td>mobile</td>\n",
       "      <td>Huawei</td>\n",
       "      <td>360x720</td>\n",
       "      <td>Chrome</td>\n",
       "      <td>Russia</td>\n",
       "      <td>Krasnoyarsk</td>\n",
       "      <td>2021-12-28</td>\n",
       "      <td>10</td>\n",
       "      <td>event</td>\n",
       "      <td>sberauto.com/cars?utm_source_initial=sbol&amp;utm_...</td>\n",
       "      <td>search_form</td>\n",
       "      <td>0</td>\n",
       "      <td>Frequent</td>\n",
       "    </tr>\n",
       "    <tr>\n",
       "      <th>19</th>\n",
       "      <td>05:00:00</td>\n",
       "      <td>1</td>\n",
       "      <td>kjsLglQLzykiRbcDiGcD</td>\n",
       "      <td>cpc</td>\n",
       "      <td>other</td>\n",
       "      <td>NOBKLgtuvqYWkXQHeYWM</td>\n",
       "      <td>mobile</td>\n",
       "      <td>Xiaomi</td>\n",
       "      <td>393x786</td>\n",
       "      <td>Chrome</td>\n",
       "      <td>Russia</td>\n",
       "      <td>Moscow</td>\n",
       "      <td>2021-05-29</td>\n",
       "      <td>2</td>\n",
       "      <td>event</td>\n",
       "      <td>podpiska.sberauto.com/</td>\n",
       "      <td>sub_page_view</td>\n",
       "      <td>0</td>\n",
       "      <td>Frequent</td>\n",
       "    </tr>\n",
       "    <tr>\n",
       "      <th>22</th>\n",
       "      <td>05:00:00</td>\n",
       "      <td>2</td>\n",
       "      <td>kjsLglQLzykiRbcDiGcD</td>\n",
       "      <td>cpc</td>\n",
       "      <td>other</td>\n",
       "      <td>other</td>\n",
       "      <td>mobile</td>\n",
       "      <td>Xiaomi</td>\n",
       "      <td>393x786</td>\n",
       "      <td>Chrome</td>\n",
       "      <td>Russia</td>\n",
       "      <td>Moscow</td>\n",
       "      <td>2021-05-29</td>\n",
       "      <td>3</td>\n",
       "      <td>event</td>\n",
       "      <td>sberauto.com/cars?city=1&amp;rental_page=rental_on...</td>\n",
       "      <td>quiz</td>\n",
       "      <td>0</td>\n",
       "      <td>Frequent</td>\n",
       "    </tr>\n",
       "  </tbody>\n",
       "</table>\n",
       "</div>"
      ],
      "text/plain": [
       "   visit_time  visit_number            utm_source utm_medium  \\\n",
       "0    14:36:32             1  ZpYIoDJMcFzVoPFsHGJL     banner   \n",
       "2    08:21:30             1  MvfHsxITijuriZxsqZqt        cpm   \n",
       "3    02:42:06             1  ZpYIoDJMcFzVoPFsHGJL     banner   \n",
       "19   05:00:00             1  kjsLglQLzykiRbcDiGcD        cpc   \n",
       "22   05:00:00             2  kjsLglQLzykiRbcDiGcD        cpc   \n",
       "\n",
       "            utm_campaign         utm_adcontent device_category device_brand  \\\n",
       "0   LEoPHuyFvzoNfnzGgfcd  vCIpmpaGBnIQhyYNkXqp          mobile       Huawei   \n",
       "2   FTjNLDyTrXaWYgZymFkV  xhoenQgDQsgfEPYNPwKO          mobile      Samsung   \n",
       "3   LEoPHuyFvzoNfnzGgfcd  vCIpmpaGBnIQhyYNkXqp          mobile       Huawei   \n",
       "19                 other  NOBKLgtuvqYWkXQHeYWM          mobile       Xiaomi   \n",
       "22                 other                 other          mobile       Xiaomi   \n",
       "\n",
       "   device_screen_resolution    device_browser geo_country     geo_city  \\\n",
       "0                   360x720            Chrome      Russia     Zlatoust   \n",
       "2                   385x854  Samsung Internet      Russia       Moscow   \n",
       "3                   360x720            Chrome      Russia  Krasnoyarsk   \n",
       "19                  393x786            Chrome      Russia       Moscow   \n",
       "22                  393x786            Chrome      Russia       Moscow   \n",
       "\n",
       "      hit_date  hit_number hit_type  \\\n",
       "0   2021-11-24           3    event   \n",
       "2   2021-11-14           3    event   \n",
       "3   2021-12-28          10    event   \n",
       "19  2021-05-29           2    event   \n",
       "22  2021-05-29           3    event   \n",
       "\n",
       "                                        hit_page_path event_category  \\\n",
       "0                              podpiska.sberauto.com/  sub_page_view   \n",
       "2                              podpiska.sberauto.com/  sub_page_view   \n",
       "3   sberauto.com/cars?utm_source_initial=sbol&utm_...    search_form   \n",
       "19                             podpiska.sberauto.com/  sub_page_view   \n",
       "22  sberauto.com/cars?city=1&rental_page=rental_on...           quiz   \n",
       "\n",
       "    event_action city_category  \n",
       "0              0      Frequent  \n",
       "2              0      Frequent  \n",
       "3              0      Frequent  \n",
       "19             0      Frequent  \n",
       "22             0      Frequent  "
      ]
     },
     "execution_count": 727,
     "metadata": {},
     "output_type": "execute_result"
    }
   ],
   "source": [
    "df_try.head()"
   ]
  },
  {
   "cell_type": "code",
   "execution_count": 728,
   "id": "6051e87c-dc3c-466e-abe5-bcd34eabb78e",
   "metadata": {},
   "outputs": [
    {
     "data": {
      "text/html": [
       "<div>\n",
       "<style scoped>\n",
       "    .dataframe tbody tr th:only-of-type {\n",
       "        vertical-align: middle;\n",
       "    }\n",
       "\n",
       "    .dataframe tbody tr th {\n",
       "        vertical-align: top;\n",
       "    }\n",
       "\n",
       "    .dataframe thead th {\n",
       "        text-align: right;\n",
       "    }\n",
       "</style>\n",
       "<table border=\"1\" class=\"dataframe\">\n",
       "  <thead>\n",
       "    <tr style=\"text-align: right;\">\n",
       "      <th></th>\n",
       "      <th>visit_time</th>\n",
       "      <th>visit_number</th>\n",
       "      <th>utm_source</th>\n",
       "      <th>utm_medium</th>\n",
       "      <th>utm_campaign</th>\n",
       "      <th>utm_adcontent</th>\n",
       "      <th>device_category</th>\n",
       "      <th>device_brand</th>\n",
       "      <th>device_screen_resolution</th>\n",
       "      <th>device_browser</th>\n",
       "      <th>geo_country</th>\n",
       "      <th>geo_city</th>\n",
       "      <th>hit_date</th>\n",
       "      <th>hit_number</th>\n",
       "      <th>hit_type</th>\n",
       "      <th>hit_page_path</th>\n",
       "      <th>event_category</th>\n",
       "      <th>event_action</th>\n",
       "      <th>city_category</th>\n",
       "    </tr>\n",
       "  </thead>\n",
       "  <tbody>\n",
       "    <tr>\n",
       "      <th>0</th>\n",
       "      <td>14:36:32</td>\n",
       "      <td>1</td>\n",
       "      <td>ZpYIoDJMcFzVoPFsHGJL</td>\n",
       "      <td>banner</td>\n",
       "      <td>LEoPHuyFvzoNfnzGgfcd</td>\n",
       "      <td>vCIpmpaGBnIQhyYNkXqp</td>\n",
       "      <td>mobile</td>\n",
       "      <td>Huawei</td>\n",
       "      <td>360x720</td>\n",
       "      <td>Chrome</td>\n",
       "      <td>Russia</td>\n",
       "      <td>Zlatoust</td>\n",
       "      <td>2021-11-24</td>\n",
       "      <td>3</td>\n",
       "      <td>event</td>\n",
       "      <td>podpiska.sberauto.com/</td>\n",
       "      <td>sub_page_view</td>\n",
       "      <td>0</td>\n",
       "      <td>Frequent</td>\n",
       "    </tr>\n",
       "    <tr>\n",
       "      <th>2</th>\n",
       "      <td>08:21:30</td>\n",
       "      <td>1</td>\n",
       "      <td>MvfHsxITijuriZxsqZqt</td>\n",
       "      <td>cpm</td>\n",
       "      <td>FTjNLDyTrXaWYgZymFkV</td>\n",
       "      <td>xhoenQgDQsgfEPYNPwKO</td>\n",
       "      <td>mobile</td>\n",
       "      <td>Samsung</td>\n",
       "      <td>385x854</td>\n",
       "      <td>Samsung Internet</td>\n",
       "      <td>Russia</td>\n",
       "      <td>Moscow</td>\n",
       "      <td>2021-11-14</td>\n",
       "      <td>3</td>\n",
       "      <td>event</td>\n",
       "      <td>podpiska.sberauto.com/</td>\n",
       "      <td>sub_page_view</td>\n",
       "      <td>0</td>\n",
       "      <td>Frequent</td>\n",
       "    </tr>\n",
       "    <tr>\n",
       "      <th>3</th>\n",
       "      <td>02:42:06</td>\n",
       "      <td>1</td>\n",
       "      <td>ZpYIoDJMcFzVoPFsHGJL</td>\n",
       "      <td>banner</td>\n",
       "      <td>LEoPHuyFvzoNfnzGgfcd</td>\n",
       "      <td>vCIpmpaGBnIQhyYNkXqp</td>\n",
       "      <td>mobile</td>\n",
       "      <td>Huawei</td>\n",
       "      <td>360x720</td>\n",
       "      <td>Chrome</td>\n",
       "      <td>Russia</td>\n",
       "      <td>Krasnoyarsk</td>\n",
       "      <td>2021-12-28</td>\n",
       "      <td>10</td>\n",
       "      <td>event</td>\n",
       "      <td>sberauto.com/cars?utm_source_initial=sbol&amp;utm_...</td>\n",
       "      <td>search_form</td>\n",
       "      <td>0</td>\n",
       "      <td>Frequent</td>\n",
       "    </tr>\n",
       "    <tr>\n",
       "      <th>19</th>\n",
       "      <td>05:00:00</td>\n",
       "      <td>1</td>\n",
       "      <td>kjsLglQLzykiRbcDiGcD</td>\n",
       "      <td>cpc</td>\n",
       "      <td>other</td>\n",
       "      <td>NOBKLgtuvqYWkXQHeYWM</td>\n",
       "      <td>mobile</td>\n",
       "      <td>Xiaomi</td>\n",
       "      <td>393x786</td>\n",
       "      <td>Chrome</td>\n",
       "      <td>Russia</td>\n",
       "      <td>Moscow</td>\n",
       "      <td>2021-05-29</td>\n",
       "      <td>2</td>\n",
       "      <td>event</td>\n",
       "      <td>podpiska.sberauto.com/</td>\n",
       "      <td>sub_page_view</td>\n",
       "      <td>0</td>\n",
       "      <td>Frequent</td>\n",
       "    </tr>\n",
       "    <tr>\n",
       "      <th>22</th>\n",
       "      <td>05:00:00</td>\n",
       "      <td>2</td>\n",
       "      <td>kjsLglQLzykiRbcDiGcD</td>\n",
       "      <td>cpc</td>\n",
       "      <td>other</td>\n",
       "      <td>other</td>\n",
       "      <td>mobile</td>\n",
       "      <td>Xiaomi</td>\n",
       "      <td>393x786</td>\n",
       "      <td>Chrome</td>\n",
       "      <td>Russia</td>\n",
       "      <td>Moscow</td>\n",
       "      <td>2021-05-29</td>\n",
       "      <td>3</td>\n",
       "      <td>event</td>\n",
       "      <td>sberauto.com/cars?city=1&amp;rental_page=rental_on...</td>\n",
       "      <td>quiz</td>\n",
       "      <td>0</td>\n",
       "      <td>Frequent</td>\n",
       "    </tr>\n",
       "  </tbody>\n",
       "</table>\n",
       "</div>"
      ],
      "text/plain": [
       "   visit_time  visit_number            utm_source utm_medium  \\\n",
       "0    14:36:32             1  ZpYIoDJMcFzVoPFsHGJL     banner   \n",
       "2    08:21:30             1  MvfHsxITijuriZxsqZqt        cpm   \n",
       "3    02:42:06             1  ZpYIoDJMcFzVoPFsHGJL     banner   \n",
       "19   05:00:00             1  kjsLglQLzykiRbcDiGcD        cpc   \n",
       "22   05:00:00             2  kjsLglQLzykiRbcDiGcD        cpc   \n",
       "\n",
       "            utm_campaign         utm_adcontent device_category device_brand  \\\n",
       "0   LEoPHuyFvzoNfnzGgfcd  vCIpmpaGBnIQhyYNkXqp          mobile       Huawei   \n",
       "2   FTjNLDyTrXaWYgZymFkV  xhoenQgDQsgfEPYNPwKO          mobile      Samsung   \n",
       "3   LEoPHuyFvzoNfnzGgfcd  vCIpmpaGBnIQhyYNkXqp          mobile       Huawei   \n",
       "19                 other  NOBKLgtuvqYWkXQHeYWM          mobile       Xiaomi   \n",
       "22                 other                 other          mobile       Xiaomi   \n",
       "\n",
       "   device_screen_resolution    device_browser geo_country     geo_city  \\\n",
       "0                   360x720            Chrome      Russia     Zlatoust   \n",
       "2                   385x854  Samsung Internet      Russia       Moscow   \n",
       "3                   360x720            Chrome      Russia  Krasnoyarsk   \n",
       "19                  393x786            Chrome      Russia       Moscow   \n",
       "22                  393x786            Chrome      Russia       Moscow   \n",
       "\n",
       "      hit_date  hit_number hit_type  \\\n",
       "0   2021-11-24           3    event   \n",
       "2   2021-11-14           3    event   \n",
       "3   2021-12-28          10    event   \n",
       "19  2021-05-29           2    event   \n",
       "22  2021-05-29           3    event   \n",
       "\n",
       "                                        hit_page_path event_category  \\\n",
       "0                              podpiska.sberauto.com/  sub_page_view   \n",
       "2                              podpiska.sberauto.com/  sub_page_view   \n",
       "3   sberauto.com/cars?utm_source_initial=sbol&utm_...    search_form   \n",
       "19                             podpiska.sberauto.com/  sub_page_view   \n",
       "22  sberauto.com/cars?city=1&rental_page=rental_on...           quiz   \n",
       "\n",
       "    event_action city_category  \n",
       "0              0      Frequent  \n",
       "2              0      Frequent  \n",
       "3              0      Frequent  \n",
       "19             0      Frequent  \n",
       "22             0      Frequent  "
      ]
     },
     "execution_count": 728,
     "metadata": {},
     "output_type": "execute_result"
    }
   ],
   "source": [
    "df_try.head()"
   ]
  },
  {
   "cell_type": "code",
   "execution_count": 729,
   "id": "e5aa9aed-dea3-44cb-9946-e4f5d50e106d",
   "metadata": {},
   "outputs": [],
   "source": [
    "df_filtered.geo_city = df_filtered.geo_city.apply(\n",
    "    lambda x: 'other_city' if city_counts[x] <= 1 else x)"
   ]
  },
  {
   "cell_type": "code",
   "execution_count": 730,
   "id": "6693ec59-ab29-4ddf-8c95-6a2ae3f1c957",
   "metadata": {},
   "outputs": [
    {
     "data": {
      "text/plain": [
       "2389"
      ]
     },
     "execution_count": 730,
     "metadata": {},
     "output_type": "execute_result"
    }
   ],
   "source": [
    "df_try.geo_city.nunique()"
   ]
  },
  {
   "cell_type": "code",
   "execution_count": 731,
   "id": "8bb7a8ba-04d8-4469-9892-1e0787a9be66",
   "metadata": {},
   "outputs": [
    {
     "data": {
      "text/plain": [
       "159"
      ]
     },
     "execution_count": 731,
     "metadata": {},
     "output_type": "execute_result"
    }
   ],
   "source": [
    "df_try.geo_country.nunique()"
   ]
  },
  {
   "cell_type": "code",
   "execution_count": 732,
   "id": "78c97635-a942-428e-9c48-1822c3b402c9",
   "metadata": {},
   "outputs": [
    {
     "data": {
      "text/plain": [
       "geo_country\n",
       "Russia                 1642346\n",
       "Ukraine                   8392\n",
       "United States             8109\n",
       "Belarus                   3394\n",
       "Kazakhstan                2100\n",
       "                        ...   \n",
       "Paraguay                     1\n",
       "New Caledonia                1\n",
       "Puerto Rico                  1\n",
       "Yemen                        1\n",
       "Congo - Brazzaville          1\n",
       "Name: count, Length: 159, dtype: int64"
      ]
     },
     "execution_count": 732,
     "metadata": {},
     "output_type": "execute_result"
    }
   ],
   "source": [
    "df_try.geo_country.value_counts()"
   ]
  },
  {
   "cell_type": "code",
   "execution_count": 733,
   "id": "70d790f5-3529-431e-b475-f3f8a1564525",
   "metadata": {},
   "outputs": [
    {
     "data": {
      "text/plain": [
       "139"
      ]
     },
     "execution_count": 733,
     "metadata": {},
     "output_type": "execute_result"
    }
   ],
   "source": [
    "num_unique_cities = (df_try.geo_country.value_counts() <= 500).sum()\n",
    "num_unique_cities"
   ]
  },
  {
   "cell_type": "code",
   "execution_count": 734,
   "id": "a0c8ca6e-9c8e-402b-8b1b-d3543875903e",
   "metadata": {},
   "outputs": [],
   "source": [
    "# Считаем количество вхождений каждого города\n",
    "country_counts = df_try['geo_country'].value_counts()\n",
    "    \n",
    "df_try['country_category'] = df_try['geo_country'].apply(lambda x: 'Rare' if country_counts[x] <= 44 else 'Frequent')\n",
    "target_mean_by_category = df_try.groupby('country_category')['event_action'].mean().reset_index()"
   ]
  },
  {
   "cell_type": "code",
   "execution_count": 735,
   "id": "5980ab82-7f15-428f-82ba-98c22b55cf25",
   "metadata": {},
   "outputs": [
    {
     "data": {
      "image/png": "[encoded data removed]",
      "text/plain": [
       "<Figure size 800x600 with 1 Axes>"
      ]
     },
     "metadata": {},
     "output_type": "display_data"
    }
   ],
   "source": [
    "plt.figure(figsize=(8, 6))\n",
    "sns.barplot(x='country_category', y='event_action', data=target_mean_by_category)\n",
    "plt.ylabel('Frequency of Target Variable (1)')\n",
    "plt.title('Comparison of Target Variable Frequency Between Rare and Frequent')\n",
    "plt.show()"
   ]
  },
  {
   "cell_type": "code",
   "execution_count": 736,
   "id": "15e221e2-fa5c-438b-94ea-5b56f6dbdd0c",
   "metadata": {},
   "outputs": [
    {
     "data": {
      "text/html": [
       "<div>\n",
       "<style scoped>\n",
       "    .dataframe tbody tr th:only-of-type {\n",
       "        vertical-align: middle;\n",
       "    }\n",
       "\n",
       "    .dataframe tbody tr th {\n",
       "        vertical-align: top;\n",
       "    }\n",
       "\n",
       "    .dataframe thead th {\n",
       "        text-align: right;\n",
       "    }\n",
       "</style>\n",
       "<table border=\"1\" class=\"dataframe\">\n",
       "  <thead>\n",
       "    <tr style=\"text-align: right;\">\n",
       "      <th></th>\n",
       "      <th>country_category</th>\n",
       "      <th>event_action</th>\n",
       "    </tr>\n",
       "  </thead>\n",
       "  <tbody>\n",
       "    <tr>\n",
       "      <th>0</th>\n",
       "      <td>Frequent</td>\n",
       "      <td>0.003092</td>\n",
       "    </tr>\n",
       "    <tr>\n",
       "      <th>1</th>\n",
       "      <td>Rare</td>\n",
       "      <td>0.000000</td>\n",
       "    </tr>\n",
       "  </tbody>\n",
       "</table>\n",
       "</div>"
      ],
      "text/plain": [
       "  country_category  event_action\n",
       "0         Frequent      0.003092\n",
       "1             Rare      0.000000"
      ]
     },
     "execution_count": 736,
     "metadata": {},
     "output_type": "execute_result"
    }
   ],
   "source": [
    "target_mean_by_category"
   ]
  },
  {
   "cell_type": "code",
   "execution_count": 39,
   "id": "a65fe39c-b829-4a92-9f1f-b05e714e31bc",
   "metadata": {},
   "outputs": [],
   "source": [
    "# Since countries with a frequency below 55 show no signs of correlation with the target value,\n",
    "# we can replace all such countries with 'other_countries'"
   ]
  },
  {
   "cell_type": "code",
   "execution_count": 743,
   "id": "7b3b7cfb-b334-43a0-9a19-4fb2c3d886a7",
   "metadata": {},
   "outputs": [],
   "source": [
    "df_filtered.geo_country = df_filtered.geo_country.apply(\n",
    "    lambda x: 'other_countries' if country_counts[x] <= 44 else x)"
   ]
  },
  {
   "cell_type": "code",
   "execution_count": 746,
   "id": "ef094cdc-d572-4877-bf38-f2995dcc17fb",
   "metadata": {},
   "outputs": [
    {
     "data": {
      "text/plain": [
       "geo_country\n",
       "Russia                 1642346\n",
       "Ukraine                   8392\n",
       "United States             8109\n",
       "Belarus                   3394\n",
       "Kazakhstan                2100\n",
       "                        ...   \n",
       "Paraguay                     1\n",
       "New Caledonia                1\n",
       "Puerto Rico                  1\n",
       "Yemen                        1\n",
       "Congo - Brazzaville          1\n",
       "Name: count, Length: 159, dtype: int64"
      ]
     },
     "execution_count": 746,
     "metadata": {},
     "output_type": "execute_result"
    }
   ],
   "source": [
    "df_try.geo_country.value_counts()"
   ]
  },
  {
   "cell_type": "code",
   "execution_count": 747,
   "id": "809dde8d-57f6-4089-8950-f693f96c5005",
   "metadata": {},
   "outputs": [],
   "source": [
    "# utm_campaign             407\n",
    "# utm_adcontent            281\n",
    "# device_category            3\n",
    "# device_brand             201\n",
    "# device_browser            55"
   ]
  },
  {
   "cell_type": "code",
   "execution_count": 748,
   "id": "0ff33c81-ae7f-442c-b744-441966917c8f",
   "metadata": {},
   "outputs": [
    {
     "data": {
      "text/plain": [
       "utm_campaign\n",
       "LTuZkdKfxRGVceoWkVyg    412090\n",
       "LEoPHuyFvzoNfnzGgfcd    314850\n",
       "FTjNLDyTrXaWYgZymFkV    223025\n",
       "other                   194723\n",
       "gecBYcKZCPMcVYdSSzKP    131110\n",
       "                         ...  \n",
       "qPDTdivQVeflLjTYIJnG         1\n",
       "InOGyxvxAfYvSHCpIjJZ         1\n",
       "ehLonfPENrOEoPTIyiOZ         1\n",
       "YlsczTIyBSwTLNtuDkCd         1\n",
       "cXxuwXPoQCvAXPHpFcZl         1\n",
       "Name: count, Length: 407, dtype: int64"
      ]
     },
     "execution_count": 748,
     "metadata": {},
     "output_type": "execute_result"
    }
   ],
   "source": [
    "df_try.utm_campaign.value_counts()"
   ]
  },
  {
   "cell_type": "code",
   "execution_count": 749,
   "id": "b85ce351-e9d1-48d8-97e2-1cd3f97b444e",
   "metadata": {},
   "outputs": [
    {
     "data": {
      "text/plain": [
       "117"
      ]
     },
     "execution_count": 749,
     "metadata": {},
     "output_type": "execute_result"
    }
   ],
   "source": [
    "num_unique_cities = (df_try.utm_campaign.value_counts() <= 10).sum()\n",
    "num_unique_cities"
   ]
  },
  {
   "cell_type": "code",
   "execution_count": 750,
   "id": "6bb068af-ea7a-469d-a157-11831e8fbdd7",
   "metadata": {},
   "outputs": [
    {
     "data": {
      "text/plain": [
       "407"
      ]
     },
     "execution_count": 750,
     "metadata": {},
     "output_type": "execute_result"
    }
   ],
   "source": [
    "df_try.utm_campaign.nunique()"
   ]
  },
  {
   "cell_type": "code",
   "execution_count": 751,
   "id": "e8a4da33-90ae-4510-a891-42b60b28e58d",
   "metadata": {},
   "outputs": [],
   "source": [
    "utm_campaign_counts = df_try['utm_campaign'].value_counts()\n",
    "    \n",
    "df_try['utm_campaign_category'] = df_try['utm_campaign'].apply(lambda x: 'Rare' if utm_campaign_counts[x] <= 8 else 'Frequent')\n",
    "target_mean_by_category = df_try.groupby('utm_campaign_category')['event_action'].mean().reset_index()"
   ]
  },
  {
   "cell_type": "code",
   "execution_count": 752,
   "id": "ef5fa8ea-3c10-45e7-bc15-f7d417f133d2",
   "metadata": {},
   "outputs": [
    {
     "data": {
      "image/png": "[encoded data removed]",
      "text/plain": [
       "<Figure size 800x600 with 1 Axes>"
      ]
     },
     "metadata": {},
     "output_type": "display_data"
    }
   ],
   "source": [
    "plt.figure(figsize=(8, 6))\n",
    "sns.barplot(x='utm_campaign_category', y='event_action', data=target_mean_by_category)\n",
    "plt.ylabel('Frequency of Target Variable (1)')\n",
    "plt.title('Comparison of Target Variable Frequency Between Rare and Frequent')\n",
    "plt.show()"
   ]
  },
  {
   "cell_type": "code",
   "execution_count": 753,
   "id": "fa223034-5f85-4427-99f0-ee4f688a28a2",
   "metadata": {},
   "outputs": [
    {
     "data": {
      "text/html": [
       "<div>\n",
       "<style scoped>\n",
       "    .dataframe tbody tr th:only-of-type {\n",
       "        vertical-align: middle;\n",
       "    }\n",
       "\n",
       "    .dataframe tbody tr th {\n",
       "        vertical-align: top;\n",
       "    }\n",
       "\n",
       "    .dataframe thead th {\n",
       "        text-align: right;\n",
       "    }\n",
       "</style>\n",
       "<table border=\"1\" class=\"dataframe\">\n",
       "  <thead>\n",
       "    <tr style=\"text-align: right;\">\n",
       "      <th></th>\n",
       "      <th>utm_campaign_category</th>\n",
       "      <th>event_action</th>\n",
       "    </tr>\n",
       "  </thead>\n",
       "  <tbody>\n",
       "    <tr>\n",
       "      <th>0</th>\n",
       "      <td>Frequent</td>\n",
       "      <td>0.003091</td>\n",
       "    </tr>\n",
       "    <tr>\n",
       "      <th>1</th>\n",
       "      <td>Rare</td>\n",
       "      <td>0.000000</td>\n",
       "    </tr>\n",
       "  </tbody>\n",
       "</table>\n",
       "</div>"
      ],
      "text/plain": [
       "  utm_campaign_category  event_action\n",
       "0              Frequent      0.003091\n",
       "1                  Rare      0.000000"
      ]
     },
     "execution_count": 753,
     "metadata": {},
     "output_type": "execute_result"
    }
   ],
   "source": [
    "target_mean_by_category"
   ]
  },
  {
   "cell_type": "code",
   "execution_count": 41,
   "id": "93fef9b1-7429-4400-bb2d-95318b5c46c4",
   "metadata": {},
   "outputs": [],
   "source": [
    "# This is a similar situation as in the previous case"
   ]
  },
  {
   "cell_type": "code",
   "execution_count": 755,
   "id": "f993fb1e-d604-427a-93e7-7503c3dcc5e6",
   "metadata": {},
   "outputs": [],
   "source": [
    "df_filtered.utm_campaign = df_filtered.utm_campaign.apply(\n",
    "    lambda x: 'other_utm_campaign' if utm_campaign_counts[x] <= 8 else x)"
   ]
  },
  {
   "cell_type": "code",
   "execution_count": 756,
   "id": "bdceb934-02c7-40ff-9b91-55ac6247593b",
   "metadata": {},
   "outputs": [
    {
     "data": {
      "text/plain": [
       "utm_campaign\n",
       "LTuZkdKfxRGVceoWkVyg    412090\n",
       "LEoPHuyFvzoNfnzGgfcd    314850\n",
       "FTjNLDyTrXaWYgZymFkV    223025\n",
       "other                   194723\n",
       "gecBYcKZCPMcVYdSSzKP    131110\n",
       "                         ...  \n",
       "qPDTdivQVeflLjTYIJnG         1\n",
       "InOGyxvxAfYvSHCpIjJZ         1\n",
       "ehLonfPENrOEoPTIyiOZ         1\n",
       "YlsczTIyBSwTLNtuDkCd         1\n",
       "cXxuwXPoQCvAXPHpFcZl         1\n",
       "Name: count, Length: 407, dtype: int64"
      ]
     },
     "execution_count": 756,
     "metadata": {},
     "output_type": "execute_result"
    }
   ],
   "source": [
    "df_try.utm_campaign.value_counts()"
   ]
  },
  {
   "cell_type": "code",
   "execution_count": 757,
   "id": "a8a37c03-c80d-4db3-8586-6fece5bc63a9",
   "metadata": {},
   "outputs": [
    {
     "data": {
      "text/plain": [
       "utm_adcontent\n",
       "JNHcPlZPxEMWDnRiyoBf    910870\n",
       "other                   301866\n",
       "vCIpmpaGBnIQhyYNkXqp    179438\n",
       "xhoenQgDQsgfEPYNPwKO    103797\n",
       "PkybGvWbaqORmxjNunqZ     53589\n",
       "                         ...  \n",
       "PlanrlymnpCeYvUrUTVJ         1\n",
       "JgmeMvxiYyrYlmqauiSv         1\n",
       "QMmfrhgnqNOwSTPaqlLK         1\n",
       "EsbpyHMkFkavykEeYhch         1\n",
       "oJivRDNIrrOckRBIKOtG         1\n",
       "Name: count, Length: 281, dtype: int64"
      ]
     },
     "execution_count": 757,
     "metadata": {},
     "output_type": "execute_result"
    }
   ],
   "source": [
    "df_try.utm_adcontent.value_counts()"
   ]
  },
  {
   "cell_type": "code",
   "execution_count": 759,
   "id": "6d51f821-0978-45b3-b46e-66766870a486",
   "metadata": {},
   "outputs": [
    {
     "data": {
      "text/plain": [
       "41"
      ]
     },
     "execution_count": 759,
     "metadata": {},
     "output_type": "execute_result"
    }
   ],
   "source": [
    "num_unique_cities = (df_try.utm_adcontent.value_counts() <= 1).sum()\n",
    "num_unique_cities"
   ]
  },
  {
   "cell_type": "code",
   "execution_count": 762,
   "id": "044a7aa7-b4fc-4e0e-a11c-40891c7f1bad",
   "metadata": {},
   "outputs": [
    {
     "data": {
      "text/plain": [
       "281"
      ]
     },
     "execution_count": 762,
     "metadata": {},
     "output_type": "execute_result"
    }
   ],
   "source": [
    "df_try.utm_adcontent.nunique()"
   ]
  },
  {
   "cell_type": "code",
   "execution_count": 765,
   "id": "eb2e03a0-cc9d-4f4d-a842-6d4242a56ffd",
   "metadata": {},
   "outputs": [],
   "source": [
    "utm_adcontent_counts = df_try['utm_adcontent'].value_counts()\n",
    "    \n",
    "df_try['utm_adcontent_category'] = df_try['utm_adcontent'].apply(lambda x: 'Rare' if utm_adcontent_counts[x] <= 7 else 'Frequent')\n",
    "target_mean_by_category = df_try.groupby('utm_adcontent_category')['event_action'].mean().reset_index()"
   ]
  },
  {
   "cell_type": "code",
   "execution_count": 766,
   "id": "15e862d8-8702-4a6c-92f5-940467491745",
   "metadata": {},
   "outputs": [
    {
     "data": {
      "image/png": "[encoded data removed]",
      "text/plain": [
       "<Figure size 800x600 with 1 Axes>"
      ]
     },
     "metadata": {},
     "output_type": "display_data"
    }
   ],
   "source": [
    "plt.figure(figsize=(8, 6))\n",
    "sns.barplot(x='utm_adcontent_category', y='event_action', data=target_mean_by_category)\n",
    "plt.ylabel('Frequency of Target Variable (1)')\n",
    "plt.title('Comparison of Target Variable Frequency Between Rare and Frequent')\n",
    "plt.show()"
   ]
  },
  {
   "cell_type": "code",
   "execution_count": 767,
   "id": "fb28ba72-96f5-4ac5-bdee-650a5a487f85",
   "metadata": {},
   "outputs": [
    {
     "data": {
      "text/html": [
       "<div>\n",
       "<style scoped>\n",
       "    .dataframe tbody tr th:only-of-type {\n",
       "        vertical-align: middle;\n",
       "    }\n",
       "\n",
       "    .dataframe tbody tr th {\n",
       "        vertical-align: top;\n",
       "    }\n",
       "\n",
       "    .dataframe thead th {\n",
       "        text-align: right;\n",
       "    }\n",
       "</style>\n",
       "<table border=\"1\" class=\"dataframe\">\n",
       "  <thead>\n",
       "    <tr style=\"text-align: right;\">\n",
       "      <th></th>\n",
       "      <th>utm_adcontent_category</th>\n",
       "      <th>event_action</th>\n",
       "    </tr>\n",
       "  </thead>\n",
       "  <tbody>\n",
       "    <tr>\n",
       "      <th>0</th>\n",
       "      <td>Frequent</td>\n",
       "      <td>0.003091</td>\n",
       "    </tr>\n",
       "    <tr>\n",
       "      <th>1</th>\n",
       "      <td>Rare</td>\n",
       "      <td>0.000000</td>\n",
       "    </tr>\n",
       "  </tbody>\n",
       "</table>\n",
       "</div>"
      ],
      "text/plain": [
       "  utm_adcontent_category  event_action\n",
       "0               Frequent      0.003091\n",
       "1                   Rare      0.000000"
      ]
     },
     "execution_count": 767,
     "metadata": {},
     "output_type": "execute_result"
    }
   ],
   "source": [
    "target_mean_by_category"
   ]
  },
  {
   "cell_type": "code",
   "execution_count": 43,
   "id": "f8f79e56-996f-48f8-9e73-f2e7f6e96250",
   "metadata": {},
   "outputs": [],
   "source": [
    "# This is a similar situation as in the previous case"
   ]
  },
  {
   "cell_type": "code",
   "execution_count": 769,
   "id": "fbb0a75c-d54f-4d33-8deb-4f5abeb43f48",
   "metadata": {},
   "outputs": [],
   "source": [
    "df_filtered.utm_adcontent = df_filtered.utm_adcontent.apply(\n",
    "    lambda x: 'other_utm_adcontent' if utm_adcontent_counts[x] <= 7 else x)"
   ]
  },
  {
   "cell_type": "code",
   "execution_count": 770,
   "id": "5ebe37f7-a0c7-4723-9ad1-643e4299b077",
   "metadata": {},
   "outputs": [
    {
     "data": {
      "text/html": [
       "<div>\n",
       "<style scoped>\n",
       "    .dataframe tbody tr th:only-of-type {\n",
       "        vertical-align: middle;\n",
       "    }\n",
       "\n",
       "    .dataframe tbody tr th {\n",
       "        vertical-align: top;\n",
       "    }\n",
       "\n",
       "    .dataframe thead th {\n",
       "        text-align: right;\n",
       "    }\n",
       "</style>\n",
       "<table border=\"1\" class=\"dataframe\">\n",
       "  <thead>\n",
       "    <tr style=\"text-align: right;\">\n",
       "      <th></th>\n",
       "      <th>visit_time</th>\n",
       "      <th>visit_number</th>\n",
       "      <th>utm_source</th>\n",
       "      <th>utm_medium</th>\n",
       "      <th>utm_campaign</th>\n",
       "      <th>utm_adcontent</th>\n",
       "      <th>device_category</th>\n",
       "      <th>device_brand</th>\n",
       "      <th>device_screen_resolution</th>\n",
       "      <th>device_browser</th>\n",
       "      <th>...</th>\n",
       "      <th>hit_date</th>\n",
       "      <th>hit_number</th>\n",
       "      <th>hit_type</th>\n",
       "      <th>hit_page_path</th>\n",
       "      <th>event_category</th>\n",
       "      <th>event_action</th>\n",
       "      <th>city_category</th>\n",
       "      <th>country_category</th>\n",
       "      <th>utm_campaign_category</th>\n",
       "      <th>utm_adcontent_category</th>\n",
       "    </tr>\n",
       "  </thead>\n",
       "  <tbody>\n",
       "  </tbody>\n",
       "</table>\n",
       "<p>0 rows × 22 columns</p>\n",
       "</div>"
      ],
      "text/plain": [
       "Empty DataFrame\n",
       "Columns: [visit_time, visit_number, utm_source, utm_medium, utm_campaign, utm_adcontent, device_category, device_brand, device_screen_resolution, device_browser, geo_country, geo_city, hit_date, hit_number, hit_type, hit_page_path, event_category, event_action, city_category, country_category, utm_campaign_category, utm_adcontent_category]\n",
       "Index: []\n",
       "\n",
       "[0 rows x 22 columns]"
      ]
     },
     "execution_count": 770,
     "metadata": {},
     "output_type": "execute_result"
    }
   ],
   "source": [
    "df_try[(df_filtered.utm_adcontent == 'other_utm_adcontent') & (df_filtered.event_action == 1)]"
   ]
  },
  {
   "cell_type": "code",
   "execution_count": 771,
   "id": "760c768a-b2d8-4737-8f67-6e952ff71aec",
   "metadata": {},
   "outputs": [
    {
     "data": {
      "text/plain": [
       "utm_adcontent\n",
       "JNHcPlZPxEMWDnRiyoBf    910870\n",
       "other                   301866\n",
       "vCIpmpaGBnIQhyYNkXqp    179438\n",
       "xhoenQgDQsgfEPYNPwKO    103797\n",
       "PkybGvWbaqORmxjNunqZ     53589\n",
       "                         ...  \n",
       "PlanrlymnpCeYvUrUTVJ         1\n",
       "JgmeMvxiYyrYlmqauiSv         1\n",
       "QMmfrhgnqNOwSTPaqlLK         1\n",
       "EsbpyHMkFkavykEeYhch         1\n",
       "oJivRDNIrrOckRBIKOtG         1\n",
       "Name: count, Length: 281, dtype: int64"
      ]
     },
     "execution_count": 771,
     "metadata": {},
     "output_type": "execute_result"
    }
   ],
   "source": [
    "df_try.utm_adcontent.value_counts()"
   ]
  },
  {
   "cell_type": "code",
   "execution_count": 772,
   "id": "a4236510-5f3a-4919-aa9d-5e0508a33bf5",
   "metadata": {},
   "outputs": [
    {
     "data": {
      "text/plain": [
       "device_brand\n",
       "Apple       483749\n",
       "other       336939\n",
       "Samsung     308961\n",
       "Xiaomi      263494\n",
       "Huawei      172183\n",
       "             ...  \n",
       "Tesla            1\n",
       "Vodafone         1\n",
       "Wexler           1\n",
       "Smarteo          1\n",
       "Maxvi            1\n",
       "Name: count, Length: 201, dtype: int64"
      ]
     },
     "execution_count": 772,
     "metadata": {},
     "output_type": "execute_result"
    }
   ],
   "source": [
    "df_try.device_brand.value_counts()"
   ]
  },
  {
   "cell_type": "code",
   "execution_count": 773,
   "id": "a001b069-73d1-4be2-948c-d8281fc605c9",
   "metadata": {},
   "outputs": [
    {
     "data": {
      "text/plain": [
       "117"
      ]
     },
     "execution_count": 773,
     "metadata": {},
     "output_type": "execute_result"
    }
   ],
   "source": [
    "num_unique = (df_try.device_brand.value_counts() <= 10).sum()\n",
    "num_unique"
   ]
  },
  {
   "cell_type": "code",
   "execution_count": 774,
   "id": "7f49250c-011e-492f-81b9-897619200f6d",
   "metadata": {},
   "outputs": [
    {
     "data": {
      "text/plain": [
       "201"
      ]
     },
     "execution_count": 774,
     "metadata": {},
     "output_type": "execute_result"
    }
   ],
   "source": [
    "df_try.device_brand.nunique()"
   ]
  },
  {
   "cell_type": "code",
   "execution_count": 775,
   "id": "2668aaf3-d97e-4e52-9929-7217fa4b58ba",
   "metadata": {},
   "outputs": [],
   "source": [
    "device_brand_counts = df_try['device_brand'].value_counts()\n",
    "    \n",
    "df_try['device_brand_category'] = df_try['device_brand'].apply(lambda x: 'Rare' if device_brand_counts[x] <= 2 else 'Frequent')\n",
    "target_mean_by_category = df_try.groupby('device_brand_category')['event_action'].mean().reset_index()"
   ]
  },
  {
   "cell_type": "code",
   "execution_count": 776,
   "id": "7f2d399a-10fd-4833-b65c-84b48c95a761",
   "metadata": {},
   "outputs": [
    {
     "data": {
      "image/png": "[encoded data removed]",
      "text/plain": [
       "<Figure size 800x600 with 1 Axes>"
      ]
     },
     "metadata": {},
     "output_type": "display_data"
    }
   ],
   "source": [
    "plt.figure(figsize=(8, 6))\n",
    "sns.barplot(x='device_brand_category', y='event_action', data=target_mean_by_category)\n",
    "plt.ylabel('Frequency of Target Variable (1)')\n",
    "plt.title('Comparison of Target Variable Frequency Between Rare and Frequent')\n",
    "plt.show()"
   ]
  },
  {
   "cell_type": "code",
   "execution_count": 777,
   "id": "15dd0d84-2ffe-4c4c-aa05-157483baad09",
   "metadata": {},
   "outputs": [
    {
     "data": {
      "text/html": [
       "<div>\n",
       "<style scoped>\n",
       "    .dataframe tbody tr th:only-of-type {\n",
       "        vertical-align: middle;\n",
       "    }\n",
       "\n",
       "    .dataframe tbody tr th {\n",
       "        vertical-align: top;\n",
       "    }\n",
       "\n",
       "    .dataframe thead th {\n",
       "        text-align: right;\n",
       "    }\n",
       "</style>\n",
       "<table border=\"1\" class=\"dataframe\">\n",
       "  <thead>\n",
       "    <tr style=\"text-align: right;\">\n",
       "      <th></th>\n",
       "      <th>device_brand_category</th>\n",
       "      <th>event_action</th>\n",
       "    </tr>\n",
       "  </thead>\n",
       "  <tbody>\n",
       "    <tr>\n",
       "      <th>0</th>\n",
       "      <td>Frequent</td>\n",
       "      <td>0.003091</td>\n",
       "    </tr>\n",
       "    <tr>\n",
       "      <th>1</th>\n",
       "      <td>Rare</td>\n",
       "      <td>0.000000</td>\n",
       "    </tr>\n",
       "  </tbody>\n",
       "</table>\n",
       "</div>"
      ],
      "text/plain": [
       "  device_brand_category  event_action\n",
       "0              Frequent      0.003091\n",
       "1                  Rare      0.000000"
      ]
     },
     "execution_count": 777,
     "metadata": {},
     "output_type": "execute_result"
    }
   ],
   "source": [
    "target_mean_by_category"
   ]
  },
  {
   "cell_type": "code",
   "execution_count": 778,
   "id": "92f72e4a-b2e3-448e-a603-94b9d9c9273d",
   "metadata": {},
   "outputs": [],
   "source": [
    "df_filtered.device_brand = df_filtered.device_brand.apply(\n",
    "    lambda x: 'other_device_brand' if device_brand_counts[x] <= 2 else x)"
   ]
  },
  {
   "cell_type": "code",
   "execution_count": 783,
   "id": "01da4d1d-5281-4b9c-95a4-631f215128d1",
   "metadata": {},
   "outputs": [
    {
     "data": {
      "text/plain": [
       "device_brand\n",
       "Apple      483749\n",
       "other      336939\n",
       "Samsung    308961\n",
       "Xiaomi     263494\n",
       "Huawei     172183\n",
       "            ...  \n",
       "Advan           3\n",
       "AT&T            3\n",
       "Vestel          3\n",
       "Fujitsu         3\n",
       "Qbex            3\n",
       "Name: count, Length: 140, dtype: int64"
      ]
     },
     "execution_count": 783,
     "metadata": {},
     "output_type": "execute_result"
    }
   ],
   "source": [
    "df_filtered.device_brand.value_counts()"
   ]
  },
  {
   "cell_type": "code",
   "execution_count": 784,
   "id": "c0d9f723-1d55-408e-81b4-9d9158dddf2f",
   "metadata": {},
   "outputs": [
    {
     "data": {
      "text/html": [
       "<div>\n",
       "<style scoped>\n",
       "    .dataframe tbody tr th:only-of-type {\n",
       "        vertical-align: middle;\n",
       "    }\n",
       "\n",
       "    .dataframe tbody tr th {\n",
       "        vertical-align: top;\n",
       "    }\n",
       "\n",
       "    .dataframe thead th {\n",
       "        text-align: right;\n",
       "    }\n",
       "</style>\n",
       "<table border=\"1\" class=\"dataframe\">\n",
       "  <thead>\n",
       "    <tr style=\"text-align: right;\">\n",
       "      <th></th>\n",
       "      <th>visit_time</th>\n",
       "      <th>visit_number</th>\n",
       "      <th>utm_source</th>\n",
       "      <th>utm_medium</th>\n",
       "      <th>utm_campaign</th>\n",
       "      <th>utm_adcontent</th>\n",
       "      <th>device_category</th>\n",
       "      <th>device_brand</th>\n",
       "      <th>device_screen_resolution</th>\n",
       "      <th>device_browser</th>\n",
       "      <th>...</th>\n",
       "      <th>hit_number</th>\n",
       "      <th>hit_type</th>\n",
       "      <th>hit_page_path</th>\n",
       "      <th>event_category</th>\n",
       "      <th>event_action</th>\n",
       "      <th>city_category</th>\n",
       "      <th>country_category</th>\n",
       "      <th>utm_campaign_category</th>\n",
       "      <th>utm_adcontent_category</th>\n",
       "      <th>device_brand_category</th>\n",
       "    </tr>\n",
       "  </thead>\n",
       "  <tbody>\n",
       "  </tbody>\n",
       "</table>\n",
       "<p>0 rows × 23 columns</p>\n",
       "</div>"
      ],
      "text/plain": [
       "Empty DataFrame\n",
       "Columns: [visit_time, visit_number, utm_source, utm_medium, utm_campaign, utm_adcontent, device_category, device_brand, device_screen_resolution, device_browser, geo_country, geo_city, hit_date, hit_number, hit_type, hit_page_path, event_category, event_action, city_category, country_category, utm_campaign_category, utm_adcontent_category, device_brand_category]\n",
       "Index: []\n",
       "\n",
       "[0 rows x 23 columns]"
      ]
     },
     "execution_count": 784,
     "metadata": {},
     "output_type": "execute_result"
    }
   ],
   "source": [
    "df_try[(df_filtered.device_brand == 'other_device_brand') & (df_filtered.event_action == 1)]"
   ]
  },
  {
   "cell_type": "code",
   "execution_count": 785,
   "id": "79dc8765-4469-4a90-8cc3-114319353b16",
   "metadata": {},
   "outputs": [
    {
     "data": {
      "text/plain": [
       "device_brand\n",
       "Apple      483749\n",
       "other      336939\n",
       "Samsung    308961\n",
       "Xiaomi     263494\n",
       "Huawei     172183\n",
       "            ...  \n",
       "Advan           3\n",
       "AT&T            3\n",
       "Vestel          3\n",
       "Fujitsu         3\n",
       "Qbex            3\n",
       "Name: count, Length: 140, dtype: int64"
      ]
     },
     "execution_count": 785,
     "metadata": {},
     "output_type": "execute_result"
    }
   ],
   "source": [
    "df_filtered.device_brand.value_counts()"
   ]
  },
  {
   "cell_type": "code",
   "execution_count": 786,
   "id": "06b7c82f-1c7b-4f1e-b735-cebf1b46787e",
   "metadata": {},
   "outputs": [
    {
     "data": {
      "text/plain": [
       "visit_time\n",
       "13:00:00    55769\n",
       "12:00:00    55471\n",
       "14:00:00    54801\n",
       "10:00:00    54382\n",
       "11:00:00    54241\n",
       "            ...  \n",
       "05:28:49        1\n",
       "03:44:30        1\n",
       "03:36:26        1\n",
       "03:53:01        1\n",
       "04:30:09        1\n",
       "Name: count, Length: 85032, dtype: int64"
      ]
     },
     "execution_count": 786,
     "metadata": {},
     "output_type": "execute_result"
    }
   ],
   "source": [
    "df_try.visit_time.value_counts()"
   ]
  },
  {
   "cell_type": "code",
   "execution_count": 787,
   "id": "a068f616-5dd3-4280-a6d1-7856e65c1b9d",
   "metadata": {},
   "outputs": [
    {
     "data": {
      "text/plain": [
       "24963"
      ]
     },
     "execution_count": 787,
     "metadata": {},
     "output_type": "execute_result"
    }
   ],
   "source": [
    "num_unique_cities = (df_try.visit_time.value_counts() <= 5).sum()\n",
    "num_unique_cities"
   ]
  },
  {
   "cell_type": "code",
   "execution_count": 788,
   "id": "576fb742-69a4-4d22-a2bc-3a0a871c5833",
   "metadata": {},
   "outputs": [
    {
     "data": {
      "text/plain": [
       "85032"
      ]
     },
     "execution_count": 788,
     "metadata": {},
     "output_type": "execute_result"
    }
   ],
   "source": [
    "df_try.visit_time.nunique()"
   ]
  },
  {
   "cell_type": "code",
   "execution_count": 789,
   "id": "58a40f98-2c8c-4ed8-8603-4f85562bfc61",
   "metadata": {},
   "outputs": [
    {
     "data": {
      "text/plain": [
       "0     14:36:32\n",
       "2     08:21:30\n",
       "3     02:42:06\n",
       "19    05:00:00\n",
       "22    05:00:00\n",
       "Name: visit_time, dtype: object"
      ]
     },
     "execution_count": 789,
     "metadata": {},
     "output_type": "execute_result"
    }
   ],
   "source": [
    "df_try.visit_time.head()"
   ]
  },
  {
   "cell_type": "code",
   "execution_count": 790,
   "id": "d04b2d90-8ec0-4ee8-8637-450c31181bd3",
   "metadata": {},
   "outputs": [
    {
     "name": "stderr",
     "output_type": "stream",
     "text": [
      "/var/folders/3s/h4tbdn8n3bg8g9r44dkph73w0000gn/T/ipykernel_2441/3993690317.py:1: UserWarning: Could not infer format, so each element will be parsed individually, falling back to `dateutil`. To ensure parsing is consistent and as-expected, please specify a format.\n",
      "  df_try.visit_time = pd.to_datetime(df_try.visit_time)\n"
     ]
    }
   ],
   "source": [
    "df_try.visit_time = pd.to_datetime(df_try.visit_time)"
   ]
  },
  {
   "cell_type": "code",
   "execution_count": 791,
   "id": "24972bec-b4f4-4af7-93fa-c59a7b06d6f7",
   "metadata": {},
   "outputs": [
    {
     "data": {
      "text/plain": [
       "0    2025-05-12 14:36:32\n",
       "2    2025-05-12 08:21:30\n",
       "3    2025-05-12 02:42:06\n",
       "19   2025-05-12 05:00:00\n",
       "22   2025-05-12 05:00:00\n",
       "Name: visit_time, dtype: datetime64[ns]"
      ]
     },
     "execution_count": 791,
     "metadata": {},
     "output_type": "execute_result"
    }
   ],
   "source": [
    "df_try.visit_time.head()"
   ]
  },
  {
   "cell_type": "code",
   "execution_count": 792,
   "id": "07783feb-c000-442d-8de0-6c894ca30a71",
   "metadata": {},
   "outputs": [],
   "source": [
    "df_try['vist_hours'] = df_try.visit_time.dt.hour"
   ]
  },
  {
   "cell_type": "code",
   "execution_count": 793,
   "id": "1c41fc80-8001-4f02-b044-9379a10bf5bf",
   "metadata": {},
   "outputs": [],
   "source": [
    "df_try = df_try.drop(columns='visit_time')"
   ]
  },
  {
   "cell_type": "code",
   "execution_count": 794,
   "id": "70a7a4c0-e452-43db-b3ba-e73344039b0a",
   "metadata": {},
   "outputs": [
    {
     "data": {
      "text/plain": [
       "0           14\n",
       "2            8\n",
       "3            2\n",
       "19           5\n",
       "22           5\n",
       "            ..\n",
       "15685150    10\n",
       "15685152     8\n",
       "15685163    15\n",
       "15685204    15\n",
       "15685206    19\n",
       "Name: vist_hours, Length: 1691967, dtype: int32"
      ]
     },
     "execution_count": 794,
     "metadata": {},
     "output_type": "execute_result"
    }
   ],
   "source": [
    "df_try['vist_hours']"
   ]
  },
  {
   "cell_type": "code",
   "execution_count": 918,
   "id": "642a2745-36de-45e8-b0a0-b21bddc14ca4",
   "metadata": {},
   "outputs": [],
   "source": [
    "vist_hours_counts = df_try['vist_hours'].value_counts()\n",
    "    \n",
    "df_try['vist_hours_category'] = df_try['vist_hours'].apply(lambda x: 'Rare' if vist_hours_counts[x] <= 19000 else 'Frequent')\n",
    "target_mean_by_category = df_try.groupby('vist_hours_category')['event_action'].mean().reset_index()"
   ]
  },
  {
   "cell_type": "code",
   "execution_count": 919,
   "id": "abe83c72-29b6-40e0-99a3-c31572637bcc",
   "metadata": {},
   "outputs": [
    {
     "data": {
      "text/plain": [
       "vist_hours\n",
       "14    102191\n",
       "16     96093\n",
       "15     95052\n",
       "13     93560\n",
       "17     92649\n",
       "12     92543\n",
       "18     92475\n",
       "11     91653\n",
       "10     90813\n",
       "19     89944\n",
       "20     89792\n",
       "21     88365\n",
       "22     84843\n",
       "9      83029\n",
       "23     76571\n",
       "8      65610\n",
       "0      60446\n",
       "7      50024\n",
       "1      36729\n",
       "6      33604\n",
       "2      24956\n",
       "5      23223\n",
       "3      19243\n",
       "4      18559\n",
       "Name: count, dtype: int64"
      ]
     },
     "execution_count": 919,
     "metadata": {},
     "output_type": "execute_result"
    }
   ],
   "source": [
    "df_try['vist_hours'].value_counts()"
   ]
  },
  {
   "cell_type": "code",
   "execution_count": 922,
   "id": "7757d3f5-17d7-4887-a02b-789360cb6de5",
   "metadata": {},
   "outputs": [
    {
     "data": {
      "image/png": "[encoded data removed]",
      "text/plain": [
       "<Figure size 800x600 with 1 Axes>"
      ]
     },
     "metadata": {},
     "output_type": "display_data"
    }
   ],
   "source": [
    "plt.figure(figsize=(8, 6))\n",
    "sns.barplot(x='vist_hours_category', y='event_action', data=target_mean_by_category)\n",
    "plt.ylabel('Frequency of Target Variable (1)')\n",
    "plt.title('Comparison of Target Variable Frequency Between Rare and Frequent')\n",
    "plt.show()"
   ]
  },
  {
   "cell_type": "code",
   "execution_count": 45,
   "id": "5b276662-8193-4579-bce1-7bc78351ae49",
   "metadata": {},
   "outputs": [],
   "source": [
    "# In this case, I will simply create a new feature that stores the hour extracted from visit_time"
   ]
  },
  {
   "cell_type": "code",
   "execution_count": 805,
   "id": "8d78e643-ecba-40a4-a7cb-0b4e560856bc",
   "metadata": {},
   "outputs": [
    {
     "name": "stderr",
     "output_type": "stream",
     "text": [
      "/var/folders/3s/h4tbdn8n3bg8g9r44dkph73w0000gn/T/ipykernel_2441/2595467590.py:1: UserWarning: Could not infer format, so each element will be parsed individually, falling back to `dateutil`. To ensure parsing is consistent and as-expected, please specify a format.\n",
      "  df_filtered.visit_time = pd.to_datetime(df_filtered.visit_time)\n"
     ]
    }
   ],
   "source": [
    "df_filtered.visit_time = pd.to_datetime(df_filtered.visit_time)"
   ]
  },
  {
   "cell_type": "code",
   "execution_count": 810,
   "id": "cfba811a-960a-40f2-8122-e82e741bbaa5",
   "metadata": {},
   "outputs": [],
   "source": [
    "df_filtered['vist_hours'] = df_filtered.visit_time.dt.hour"
   ]
  },
  {
   "cell_type": "code",
   "execution_count": 811,
   "id": "58939a8b-7351-4055-a995-c79a85f59c24",
   "metadata": {},
   "outputs": [],
   "source": [
    "df_filtered = df_filtered.drop(columns='visit_time')"
   ]
  },
  {
   "cell_type": "code",
   "execution_count": 812,
   "id": "b97e30b5-247e-46c0-9992-2ebf8a47b66f",
   "metadata": {},
   "outputs": [
    {
     "data": {
      "text/plain": [
       "hit_page_path\n",
       "podpiska.sberauto.com/                                                                                                                                                                                                                                                                        887137\n",
       "sberauto.com/cars?city=1&rental_page=rental_only&rental_car=rental_only&city=18                                                                                                                                                                                                                34215\n",
       "sberauto.com/cars?utm_source_initial=sbol&utm_medium_initial=banner&utm_campaign_initial=LEoPHuyFvzoNfnzGgfcd&utm_content_initial=vCIpmpaGBnIQhyYNkXqp&city=1&rental_page=rental_only&rental_car=rental_only&city=18                                                                           33176\n",
       "sberauto.com/cars/2fc745ed?rental_page=rental_car                                                                                                                                                                                                                                              14000\n",
       "sberauto.com/cars/all/skoda/rapid/bf24b977?rental_page=rental_car                                                                                                                                                                                                                              12643\n",
       "                                                                                                                                                                                                                                                                                               ...  \n",
       "sberauto.com/cars/all/renault/duster/145d53f1?utm_source_initial=dzen&utm_medium_initial=organic&utm_campaign_initial=okTXSMadDkjvntEHzIjp&utm_content_initial=LLfCasrxQzJIyuldcuWy&utm_term_initial=aXQzDWsJuGXeBXexNHjc&utm_referrer_initial=tgXCOxtXBarqKuqDIqRk&rental_page=rental_car         1\n",
       "sberauto.com/cars/all/skoda/rapid/bf24b977?rental_page=rental_car&fbclid=paaazvxmxzsoy6wyx3mzcrnj7zclultbw9tzzq-pcldywmz5hhu_d6md8b4s4_aem_adffnrmjucx4kegcgecfepjyrpzk6asdznghxlcr4m-zyoshcjsillz9_hs8fbnyobbns0nznslxsnuoakttqmwgneqn18xn5lq62gqwl2r4ahvdyqwqatsn2nhwlztwpsa                     1\n",
       "podpiska.sberauto.com/?yclid=6994183787445281420                                                                                                                                                                                                                                                   1\n",
       "sberauto.com/cars?city=1&city=18&isnew=false&rental_car=rental_only&rent_price_to=15 000&utm_source_initial=sbol&utm_medium_initial=banner&utm_campaign_initial=LEoPHuyFvzoNfnzGgfcd&utm_content_initial=fxKLUhFToKQtGIyvjZXQ&rental_page=rental_only                                              1\n",
       "podpiska.sberauto.com/?yclid=1459011418004652031                                                                                                                                                                                                                                                   1\n",
       "Name: count, Length: 209101, dtype: int64"
      ]
     },
     "execution_count": 812,
     "metadata": {},
     "output_type": "execute_result"
    }
   ],
   "source": [
    "df_try.hit_page_path.value_counts()"
   ]
  },
  {
   "cell_type": "code",
   "execution_count": 839,
   "id": "b7319492-48bb-4a63-b903-21e0c1c69fb9",
   "metadata": {},
   "outputs": [
    {
     "data": {
      "text/plain": [
       "209101"
      ]
     },
     "execution_count": 839,
     "metadata": {},
     "output_type": "execute_result"
    }
   ],
   "source": [
    "df_try.hit_page_path.nunique()"
   ]
  },
  {
   "cell_type": "code",
   "execution_count": 840,
   "id": "a1d8949d-4510-4fec-a031-cf33464db94f",
   "metadata": {},
   "outputs": [
    {
     "data": {
      "text/plain": [
       "0                                podpiska.sberauto.com/\n",
       "2                                podpiska.sberauto.com/\n",
       "3     sberauto.com/cars?utm_source_initial=sbol&utm_...\n",
       "19                               podpiska.sberauto.com/\n",
       "22    sberauto.com/cars?city=1&rental_page=rental_on...\n",
       "Name: hit_page_path, dtype: object"
      ]
     },
     "execution_count": 840,
     "metadata": {},
     "output_type": "execute_result"
    }
   ],
   "source": [
    "df_try.hit_page_path.head()"
   ]
  },
  {
   "cell_type": "code",
   "execution_count": 841,
   "id": "0c3a7c0d-4196-42c5-8f50-d2738a6fe081",
   "metadata": {},
   "outputs": [
    {
     "data": {
      "text/plain": [
       "15685150     podpiska.sberauto.com/?yclid=1459011418004652031\n",
       "15685152                               podpiska.sberauto.com/\n",
       "15685163    sberauto.com/cars/all/mercedes-benz/glc/f8f330...\n",
       "15685204                               podpiska.sberauto.com/\n",
       "15685206    sberauto.com/cars/all/mercedes-benz/e-klasse/d...\n",
       "Name: hit_page_path, dtype: object"
      ]
     },
     "execution_count": 841,
     "metadata": {},
     "output_type": "execute_result"
    }
   ],
   "source": [
    "df_try.hit_page_path.tail()"
   ]
  },
  {
   "cell_type": "code",
   "execution_count": 842,
   "id": "0da0d642-fc8d-4866-b367-ea17c589fd23",
   "metadata": {},
   "outputs": [],
   "source": [
    "df_try['hit_page_path'] = df_try.hit_page_path.apply(lambda x: x.split('/')[0])"
   ]
  },
  {
   "cell_type": "code",
   "execution_count": 848,
   "id": "9c2a6f24-ddd8-4435-952d-5c55289f8d21",
   "metadata": {},
   "outputs": [
    {
     "data": {
      "text/plain": [
       "hit_page_path\n",
       "podpiska.sberauto.com                        1007631\n",
       "sberauto.com                                  678021\n",
       "                                                3379\n",
       "client.saptest.sberauto-team.com                 941\n",
       "client.preprod.sberauto.com                      518\n",
       "localhost                                        310\n",
       "client.sap.sberauto-team.com                     290\n",
       "sberauto-client.sap.sberauto.com                 221\n",
       "podpiska-sberauto-com.translate.goog             141\n",
       "client.stage.sberauto.com                        117\n",
       "client.stage2.sberauto.com                        74\n",
       "client.aromanchuk.sberauto-team.com               64\n",
       "client.aahmedova.sberauto-team.com                40\n",
       "client.knikolaev.sberauto-team.com                16\n",
       "client.agrebenschikov.sberauto-team.com           16\n",
       "client.degipti.sberauto-team.com                  15\n",
       "client.np.sberauto-team.com                       15\n",
       "client.akoryakov.sberauto-team.com                14\n",
       "client.mmuraveva.sberauto-team.com                14\n",
       "client.jscherbinin.sberauto-team.com              13\n",
       "client-podpiska.sap.sberauto-team.com             13\n",
       "client.avoronov.sberauto-team.com                 10\n",
       "client.sserebryakov.sberauto-team.com              9\n",
       "client.amurashkin.sberauto-team.com                7\n",
       "client.egolyagina.sberauto-team.com                6\n",
       "client.ap.sberauto-team.com                        5\n",
       "client.vkovalenko.sberauto-team.com                5\n",
       "client.egrinkevich.sberauto-team.com               5\n",
       "client.vsitnikova.sberauto-team.com                5\n",
       "client.dkrylov.sberauto-team.com                   4\n",
       "saptest.sberauto-team.com                          4\n",
       "client-podpiska.saptest.sberauto-team.com          4\n",
       "client.dleontev.sberauto-team.com                  3\n",
       "sap.sberauto-team.com                              3\n",
       "client.opetrov.sberauto-team.com                   3\n",
       "client.vkarpin.sberauto-team.com                   3\n",
       "client.arusakov.sberauto-team.com                  3\n",
       "client.sap2.sberauto-team.com                      2\n",
       "client.ndubov.sberauto-team.com                    2\n",
       "client.astulov.sberauto-team.com                   2\n",
       "np.sberauto-team.com                               2\n",
       "client.emalinovskaja.sberauto-team.com             2\n",
       "client.iprokofyev.sberauto-team.com                1\n",
       "sberauto-client-podpiska.sap.sberauto.com          1\n",
       "sberauto-client.amurashkin.sberauto.com            1\n",
       "stage2.sberauto.com                                1\n",
       "sberauto-client.degipti.sberauto.com               1\n",
       "client.vrychkova.sberauto-team.com                 1\n",
       "sberauto-client.skljuchnikov.sberauto.com          1\n",
       "podpiska-client.saptest.sberauto-team.com          1\n",
       "client.irozhok.sberauto-team.com                   1\n",
       "aahmedova.sberauto-team.com                        1\n",
       "client.jbotov.sberauto-team.com                    1\n",
       "t.saptest.sberauto-team.com                        1\n",
       "client.igorev.sberauto-team.com                    1\n",
       "192.168.160.23                                     1\n",
       "sberauto-client.vsitnikova.sberauto.com            1\n",
       "Name: count, dtype: int64"
      ]
     },
     "execution_count": 848,
     "metadata": {},
     "output_type": "execute_result"
    }
   ],
   "source": [
    "df_try.hit_page_path.value_counts()"
   ]
  },
  {
   "cell_type": "code",
   "execution_count": 926,
   "id": "a12ac619-c42b-4aa4-ade7-7a7750ff752e",
   "metadata": {},
   "outputs": [],
   "source": [
    "hit_page_path_counts = df_try['hit_page_path'].value_counts()\n",
    "    \n",
    "df_try['hit_page_path_category'] = df_try['hit_page_path'].apply(lambda x: 'Rare' if hit_page_path_counts[x] <= 8 else 'Frequent')\n",
    "target_mean_by_category = df_try.groupby('hit_page_path_category')['event_action'].mean().reset_index()"
   ]
  },
  {
   "cell_type": "code",
   "execution_count": 927,
   "id": "e25cee5a-f652-4e5d-abcc-cc4e2ce70189",
   "metadata": {},
   "outputs": [
    {
     "data": {
      "image/png": "[encoded data removed]",
      "text/plain": [
       "<Figure size 800x600 with 1 Axes>"
      ]
     },
     "metadata": {},
     "output_type": "display_data"
    }
   ],
   "source": [
    "plt.figure(figsize=(8, 6))\n",
    "sns.barplot(x='hit_page_path_category', y='event_action', data=target_mean_by_category)\n",
    "plt.ylabel('Frequency of Target Variable (1)')\n",
    "plt.title('Comparison of Target Variable Frequency Between Rare and Frequent')\n",
    "plt.show()"
   ]
  },
  {
   "cell_type": "code",
   "execution_count": 47,
   "id": "ca5a97ad-b3aa-4a87-8c3b-283091ebf090",
   "metadata": {},
   "outputs": [],
   "source": [
    "# We can extract the first value from hit_page_path before the \"/\" (the site)\n",
    "# Following the previous approach, we'll replace uninformative values with the new value 'other'"
   ]
  },
  {
   "cell_type": "code",
   "execution_count": 910,
   "id": "a0e387ae-76ee-4386-b376-99b8a67af099",
   "metadata": {},
   "outputs": [],
   "source": [
    "df_filtered['hit_page_path'] = df_filtered.hit_page_path.apply(lambda x: x.split('/')[0])"
   ]
  },
  {
   "cell_type": "code",
   "execution_count": 930,
   "id": "414e8b06-a0a7-441b-8b43-4678478a6931",
   "metadata": {},
   "outputs": [],
   "source": [
    "df_filtered.hit_page_path = df_filtered.hit_page_path.apply(\n",
    "    lambda x: 'other_hit_page_path' if hit_page_path_counts[x] <= 8 else x)"
   ]
  },
  {
   "cell_type": "code",
   "execution_count": 932,
   "id": "86258dca-4d09-434c-9172-1b8f29802b11",
   "metadata": {},
   "outputs": [
    {
     "data": {
      "text/plain": [
       "hit_page_path\n",
       "podpiska.sberauto.com                      1007631\n",
       "sberauto.com                                678021\n",
       "                                              3379\n",
       "client.saptest.sberauto-team.com               941\n",
       "client.preprod.sberauto.com                    518\n",
       "localhost                                      310\n",
       "client.sap.sberauto-team.com                   290\n",
       "sberauto-client.sap.sberauto.com               221\n",
       "podpiska-sberauto-com.translate.goog           141\n",
       "client.stage.sberauto.com                      117\n",
       "other_hit_page_path                             85\n",
       "client.stage2.sberauto.com                      74\n",
       "client.aromanchuk.sberauto-team.com             64\n",
       "client.aahmedova.sberauto-team.com              40\n",
       "client.knikolaev.sberauto-team.com              16\n",
       "client.agrebenschikov.sberauto-team.com         16\n",
       "client.degipti.sberauto-team.com                15\n",
       "client.np.sberauto-team.com                     15\n",
       "client.akoryakov.sberauto-team.com              14\n",
       "client.mmuraveva.sberauto-team.com              14\n",
       "client-podpiska.sap.sberauto-team.com           13\n",
       "client.jscherbinin.sberauto-team.com            13\n",
       "client.avoronov.sberauto-team.com               10\n",
       "client.sserebryakov.sberauto-team.com            9\n",
       "Name: count, dtype: int64"
      ]
     },
     "execution_count": 932,
     "metadata": {},
     "output_type": "execute_result"
    }
   ],
   "source": [
    "df_filtered.hit_page_path.value_counts()"
   ]
  },
  {
   "cell_type": "code",
   "execution_count": 942,
   "id": "96ef2c9c-69e4-4375-982d-7353b6fee93b",
   "metadata": {},
   "outputs": [
    {
     "data": {
      "text/plain": [
       "device_screen_resolution\n",
       "414x896      146444\n",
       "1920x1080    114066\n",
       "393x851      104746\n",
       "375x812      102158\n",
       "360x780       85695\n",
       "              ...  \n",
       "620x1090          1\n",
       "514x1129          1\n",
       "496x600           1\n",
       "841x421           1\n",
       "464x1123          1\n",
       "Name: count, Length: 4947, dtype: int64"
      ]
     },
     "execution_count": 942,
     "metadata": {},
     "output_type": "execute_result"
    }
   ],
   "source": [
    "df_try.device_screen_resolution.value_counts()"
   ]
  },
  {
   "cell_type": "code",
   "execution_count": 958,
   "id": "f7c2231e-1a58-4666-a869-f50c3f986e53",
   "metadata": {},
   "outputs": [],
   "source": [
    "df_try['resoluton1'] = df_try.device_screen_resolution.apply(\n",
    "    lambda x: x.split('x')[0]\n",
    ")\n",
    "df_try['resoluton2'] = df_try.device_screen_resolution.apply(\n",
    "    lambda x: x.split('x')[1]\n",
    ")"
   ]
  },
  {
   "cell_type": "code",
   "execution_count": 960,
   "id": "3125382c-13a4-46ee-be50-6708bb430709",
   "metadata": {},
   "outputs": [
    {
     "data": {
      "text/plain": [
       "resoluton1\n",
       "360     364230\n",
       "375     188001\n",
       "393     181046\n",
       "414     176143\n",
       "412     171404\n",
       "         ...  \n",
       "1266         1\n",
       "1039         1\n",
       "993          1\n",
       "1174         1\n",
       "1905         1\n",
       "Name: count, Length: 1166, dtype: int64"
      ]
     },
     "execution_count": 960,
     "metadata": {},
     "output_type": "execute_result"
    }
   ],
   "source": [
    "df_try['resoluton1'].value_counts()"
   ]
  },
  {
   "cell_type": "code",
   "execution_count": 962,
   "id": "4fd98314-d621-4858-8fdc-dcb143feac33",
   "metadata": {},
   "outputs": [
    {
     "data": {
      "text/plain": [
       "resoluton2\n",
       "896     146483\n",
       "1080    119829\n",
       "851     104785\n",
       "812     102181\n",
       "780      85727\n",
       "         ...  \n",
       "1269         1\n",
       "2195         1\n",
       "1286         1\n",
       "1829         1\n",
       "1255         1\n",
       "Name: count, Length: 1079, dtype: int64"
      ]
     },
     "execution_count": 962,
     "metadata": {},
     "output_type": "execute_result"
    }
   ],
   "source": [
    "df_try['resoluton2'].value_counts()"
   ]
  },
  {
   "cell_type": "code",
   "execution_count": null,
   "id": "2fa3a3e3-153a-4d82-af36-b803f287573d",
   "metadata": {},
   "outputs": [],
   "source": []
  },
  {
   "cell_type": "code",
   "execution_count": 970,
   "id": "b16345f1-b25f-4bd0-8cd4-c50acf153e57",
   "metadata": {},
   "outputs": [],
   "source": [
    "resoluton1_counts = df_try['resoluton1'].value_counts()\n",
    "    \n",
    "df_try['resoluton1_category'] = df_try['resoluton1'].apply(\n",
    "    lambda x: 'Rare' if resoluton1_counts[x] <= 1 else 'Frequent')\n",
    "target_mean_by_category = df_try.groupby('resoluton1_category')['event_action'].mean().reset_index()"
   ]
  },
  {
   "cell_type": "code",
   "execution_count": 971,
   "id": "7376e508-ed93-4c67-a965-851c79658834",
   "metadata": {},
   "outputs": [
    {
     "data": {
      "image/png": "[encoded data removed]",
      "text/plain": [
       "<Figure size 800x600 with 1 Axes>"
      ]
     },
     "metadata": {},
     "output_type": "display_data"
    }
   ],
   "source": [
    "plt.figure(figsize=(8, 6))\n",
    "sns.barplot(x='resoluton1_category', y='event_action', data=target_mean_by_category)\n",
    "plt.ylabel('Frequency of Target Variable (1)')\n",
    "plt.title('Comparison of Target Variable Frequency Between Rare and Frequent')\n",
    "plt.show()"
   ]
  },
  {
   "cell_type": "code",
   "execution_count": 982,
   "id": "75d0d925-e299-4dc8-9342-b833eb036847",
   "metadata": {},
   "outputs": [],
   "source": [
    "resoluton2_counts = df_try['resoluton2'].value_counts()\n",
    "    \n",
    "df_try['resoluton2_category'] = df_try['resoluton2'].apply(\n",
    "    lambda x: 'Rare' if resoluton2_counts[x] <= 1 else 'Frequent')\n",
    "target_mean_by_category = df_try.groupby('resoluton2_category')['event_action'].mean().reset_index()"
   ]
  },
  {
   "cell_type": "code",
   "execution_count": 983,
   "id": "49bd369c-53d2-491d-bbd2-bf38ecbb8a51",
   "metadata": {},
   "outputs": [
    {
     "data": {
      "image/png": "[encoded data removed]",
      "text/plain": [
       "<Figure size 800x600 with 1 Axes>"
      ]
     },
     "metadata": {},
     "output_type": "display_data"
    }
   ],
   "source": [
    "plt.figure(figsize=(8, 6))\n",
    "sns.barplot(x='resoluton2_category', y='event_action', data=target_mean_by_category)\n",
    "plt.ylabel('Frequency of Target Variable (1)')\n",
    "plt.title('Comparison of Target Variable Frequency Between Rare and Frequent')\n",
    "plt.show()"
   ]
  },
  {
   "cell_type": "code",
   "execution_count": 49,
   "id": "dcde3959-1807-4375-8bf0-a681dde0094a",
   "metadata": {},
   "outputs": [],
   "source": [
    "# In this case, we will create two new features from device_screen_resolution\n",
    "\n",
    "# and then replace uninformative values in these two new features"
   ]
  },
  {
   "cell_type": "code",
   "execution_count": 990,
   "id": "88fefde0-6741-473b-ba88-3526940b4fbf",
   "metadata": {},
   "outputs": [],
   "source": [
    "df_filtered['resoluton1'] = df_filtered.device_screen_resolution.apply(\n",
    "    lambda x: x.split('x')[0]\n",
    ")\n",
    "df_filtered['resoluton2'] = df_filtered.device_screen_resolution.apply(\n",
    "    lambda x: x.split('x')[1]\n",
    ")"
   ]
  },
  {
   "cell_type": "code",
   "execution_count": 992,
   "id": "bcd802e2-063f-452e-a464-9a60456025d9",
   "metadata": {},
   "outputs": [],
   "source": [
    "df_filtered.resoluton1 = df_filtered.resoluton1.apply(\n",
    "    lambda x: 'other_resoluton1' if resoluton1_counts[x] <= 1 else x)\n",
    "df_filtered.resoluton2 = df_filtered.resoluton2.apply(\n",
    "    lambda x: 'other_resoluton2' if resoluton2_counts[x] <= 1 else x)"
   ]
  },
  {
   "cell_type": "code",
   "execution_count": null,
   "id": "af6290c7-cafd-4c56-8efb-bf765d0254e3",
   "metadata": {},
   "outputs": [],
   "source": [
    "df_filtered"
   ]
  },
  {
   "cell_type": "code",
   "execution_count": 994,
   "id": "787f74b8-eb52-49fa-a967-b9351cd60bbb",
   "metadata": {},
   "outputs": [
    {
     "data": {
      "text/plain": [
       "resoluton1\n",
       "360     364230\n",
       "375     188001\n",
       "393     181046\n",
       "414     176143\n",
       "412     171404\n",
       "         ...  \n",
       "1178         2\n",
       "1051         2\n",
       "1016         2\n",
       "894          2\n",
       "1133         2\n",
       "Name: count, Length: 845, dtype: int64"
      ]
     },
     "execution_count": 994,
     "metadata": {},
     "output_type": "execute_result"
    }
   ],
   "source": [
    "df_filtered.resoluton1.value_counts()"
   ]
  },
  {
   "cell_type": "code",
   "execution_count": 996,
   "id": "e1bbb105-8df5-4919-b408-0b6e941e71d9",
   "metadata": {},
   "outputs": [
    {
     "data": {
      "text/plain": [
       "resoluton2\n",
       "896     146483\n",
       "1080    119829\n",
       "851     104785\n",
       "812     102181\n",
       "780      85727\n",
       "         ...  \n",
       "1275         2\n",
       "603          2\n",
       "455          2\n",
       "539          2\n",
       "566          2\n",
       "Name: count, Length: 832, dtype: int64"
      ]
     },
     "execution_count": 996,
     "metadata": {},
     "output_type": "execute_result"
    }
   ],
   "source": [
    "df_filtered.resoluton2.value_counts()"
   ]
  },
  {
   "cell_type": "code",
   "execution_count": 1004,
   "id": "f9035440-aa90-4231-9d9f-a2140046e538",
   "metadata": {},
   "outputs": [],
   "source": [
    "df_filtered = df_filtered.drop(columns='device_screen_resolution')"
   ]
  },
  {
   "cell_type": "code",
   "execution_count": 1177,
   "id": "715160e4-b11f-4560-84b5-db8691ce69ca",
   "metadata": {},
   "outputs": [],
   "source": [
    "df_try.hit_date = pd.to_datetime(df_try.hit_date)"
   ]
  },
  {
   "cell_type": "code",
   "execution_count": 1193,
   "id": "55ffdcc7-4314-4bec-b6ad-246880171c80",
   "metadata": {},
   "outputs": [
    {
     "data": {
      "text/plain": [
       "hit_date\n",
       "24    88827\n",
       "29    75120\n",
       "21    72673\n",
       "25    69758\n",
       "30    69286\n",
       "14    60304\n",
       "28    58368\n",
       "26    57324\n",
       "17    55524\n",
       "22    54918\n",
       "23    54869\n",
       "16    54815\n",
       "27    54642\n",
       "15    54280\n",
       "13    53518\n",
       "18    53397\n",
       "19    53109\n",
       "12    51993\n",
       "20    49765\n",
       "11    48843\n",
       "6     48594\n",
       "10    48480\n",
       "1     47271\n",
       "7     47267\n",
       "9     46623\n",
       "5     46353\n",
       "8     46041\n",
       "2     45169\n",
       "3     43753\n",
       "31    40589\n",
       "4     40494\n",
       "Name: count, dtype: int64"
      ]
     },
     "execution_count": 1193,
     "metadata": {},
     "output_type": "execute_result"
    }
   ],
   "source": [
    "df_try.hit_date.dt.day.value_counts()"
   ]
  },
  {
   "cell_type": "code",
   "execution_count": 1189,
   "id": "a9236201-35e2-4628-b54f-cedb9ac64f50",
   "metadata": {},
   "outputs": [
    {
     "data": {
      "text/plain": [
       "hit_date\n",
       "12    366244\n",
       "11    263835\n",
       "10    260876\n",
       "9     236262\n",
       "7     168944\n",
       "8     148858\n",
       "6     148372\n",
       "5      98576\n",
       "Name: count, dtype: int64"
      ]
     },
     "execution_count": 1189,
     "metadata": {},
     "output_type": "execute_result"
    }
   ],
   "source": [
    "df_try.hit_date.dt.month.value_counts()"
   ]
  },
  {
   "cell_type": "code",
   "execution_count": 1191,
   "id": "069e6652-89bd-4cb3-93e2-f2927f99d5ce",
   "metadata": {},
   "outputs": [
    {
     "data": {
      "text/plain": [
       "hit_date\n",
       "2021    1691967\n",
       "Name: count, dtype: int64"
      ]
     },
     "execution_count": 1191,
     "metadata": {},
     "output_type": "execute_result"
    }
   ],
   "source": [
    "df_try.hit_date.dt.year.value_counts()"
   ]
  },
  {
   "cell_type": "code",
   "execution_count": 51,
   "id": "aed0debb-84a6-467b-a374-61a50b2b2e2c",
   "metadata": {},
   "outputs": [],
   "source": [
    "# Create two new features from hit_date: extract the day and the month"
   ]
  },
  {
   "cell_type": "code",
   "execution_count": 1197,
   "id": "d9f95a10-e25f-4420-b01a-7abcf1119814",
   "metadata": {},
   "outputs": [],
   "source": [
    "df_filtered['hit_date'] = pd.to_datetime(df_filtered['hit_date'])"
   ]
  },
  {
   "cell_type": "code",
   "execution_count": 1199,
   "id": "ff398d66-e25d-4e14-9073-e7d301b17926",
   "metadata": {},
   "outputs": [],
   "source": [
    "df_filtered['hit_month'] = df_filtered['hit_date'].dt.month"
   ]
  },
  {
   "cell_type": "code",
   "execution_count": 1207,
   "id": "d5d4aeb3-6244-4f8e-a72a-7492177293b1",
   "metadata": {},
   "outputs": [],
   "source": [
    "df_filtered['hit_day'] = df_filtered['hit_date'].dt.day"
   ]
  },
  {
   "cell_type": "code",
   "execution_count": 1209,
   "id": "e3e28596-265a-42b2-9284-6395c9761dd9",
   "metadata": {},
   "outputs": [],
   "source": [
    "df_filtered = df_filtered.drop(columns=['hit_date'])"
   ]
  },
  {
   "cell_type": "code",
   "execution_count": 1211,
   "id": "afd3c1d3-09c1-424f-84d2-0856e96b3344",
   "metadata": {},
   "outputs": [
    {
     "data": {
      "text/html": [
       "<div>\n",
       "<style scoped>\n",
       "    .dataframe tbody tr th:only-of-type {\n",
       "        vertical-align: middle;\n",
       "    }\n",
       "\n",
       "    .dataframe tbody tr th {\n",
       "        vertical-align: top;\n",
       "    }\n",
       "\n",
       "    .dataframe thead th {\n",
       "        text-align: right;\n",
       "    }\n",
       "</style>\n",
       "<table border=\"1\" class=\"dataframe\">\n",
       "  <thead>\n",
       "    <tr style=\"text-align: right;\">\n",
       "      <th></th>\n",
       "      <th>visit_number</th>\n",
       "      <th>utm_source</th>\n",
       "      <th>utm_medium</th>\n",
       "      <th>utm_campaign</th>\n",
       "      <th>utm_adcontent</th>\n",
       "      <th>device_category</th>\n",
       "      <th>device_brand</th>\n",
       "      <th>device_browser</th>\n",
       "      <th>geo_country</th>\n",
       "      <th>geo_city</th>\n",
       "      <th>hit_number</th>\n",
       "      <th>hit_type</th>\n",
       "      <th>hit_page_path</th>\n",
       "      <th>event_category</th>\n",
       "      <th>event_action</th>\n",
       "      <th>vist_hours</th>\n",
       "      <th>resoluton1</th>\n",
       "      <th>resoluton2</th>\n",
       "      <th>hit_month</th>\n",
       "      <th>hit_day</th>\n",
       "    </tr>\n",
       "  </thead>\n",
       "  <tbody>\n",
       "    <tr>\n",
       "      <th>0</th>\n",
       "      <td>1</td>\n",
       "      <td>ZpYIoDJMcFzVoPFsHGJL</td>\n",
       "      <td>banner</td>\n",
       "      <td>LEoPHuyFvzoNfnzGgfcd</td>\n",
       "      <td>vCIpmpaGBnIQhyYNkXqp</td>\n",
       "      <td>mobile</td>\n",
       "      <td>Huawei</td>\n",
       "      <td>Chrome</td>\n",
       "      <td>Russia</td>\n",
       "      <td>Zlatoust</td>\n",
       "      <td>3</td>\n",
       "      <td>event</td>\n",
       "      <td>podpiska.sberauto.com</td>\n",
       "      <td>sub_page_view</td>\n",
       "      <td>0</td>\n",
       "      <td>14</td>\n",
       "      <td>360</td>\n",
       "      <td>720</td>\n",
       "      <td>11</td>\n",
       "      <td>24</td>\n",
       "    </tr>\n",
       "    <tr>\n",
       "      <th>2</th>\n",
       "      <td>1</td>\n",
       "      <td>MvfHsxITijuriZxsqZqt</td>\n",
       "      <td>cpm</td>\n",
       "      <td>FTjNLDyTrXaWYgZymFkV</td>\n",
       "      <td>xhoenQgDQsgfEPYNPwKO</td>\n",
       "      <td>mobile</td>\n",
       "      <td>Samsung</td>\n",
       "      <td>Samsung Internet</td>\n",
       "      <td>Russia</td>\n",
       "      <td>Moscow</td>\n",
       "      <td>3</td>\n",
       "      <td>event</td>\n",
       "      <td>podpiska.sberauto.com</td>\n",
       "      <td>sub_page_view</td>\n",
       "      <td>0</td>\n",
       "      <td>8</td>\n",
       "      <td>385</td>\n",
       "      <td>854</td>\n",
       "      <td>11</td>\n",
       "      <td>14</td>\n",
       "    </tr>\n",
       "    <tr>\n",
       "      <th>3</th>\n",
       "      <td>1</td>\n",
       "      <td>ZpYIoDJMcFzVoPFsHGJL</td>\n",
       "      <td>banner</td>\n",
       "      <td>LEoPHuyFvzoNfnzGgfcd</td>\n",
       "      <td>vCIpmpaGBnIQhyYNkXqp</td>\n",
       "      <td>mobile</td>\n",
       "      <td>Huawei</td>\n",
       "      <td>Chrome</td>\n",
       "      <td>Russia</td>\n",
       "      <td>Krasnoyarsk</td>\n",
       "      <td>10</td>\n",
       "      <td>event</td>\n",
       "      <td>sberauto.com</td>\n",
       "      <td>search_form</td>\n",
       "      <td>0</td>\n",
       "      <td>2</td>\n",
       "      <td>360</td>\n",
       "      <td>720</td>\n",
       "      <td>12</td>\n",
       "      <td>28</td>\n",
       "    </tr>\n",
       "    <tr>\n",
       "      <th>19</th>\n",
       "      <td>1</td>\n",
       "      <td>kjsLglQLzykiRbcDiGcD</td>\n",
       "      <td>cpc</td>\n",
       "      <td>other</td>\n",
       "      <td>NOBKLgtuvqYWkXQHeYWM</td>\n",
       "      <td>mobile</td>\n",
       "      <td>Xiaomi</td>\n",
       "      <td>Chrome</td>\n",
       "      <td>Russia</td>\n",
       "      <td>Moscow</td>\n",
       "      <td>2</td>\n",
       "      <td>event</td>\n",
       "      <td>podpiska.sberauto.com</td>\n",
       "      <td>sub_page_view</td>\n",
       "      <td>0</td>\n",
       "      <td>5</td>\n",
       "      <td>393</td>\n",
       "      <td>786</td>\n",
       "      <td>5</td>\n",
       "      <td>29</td>\n",
       "    </tr>\n",
       "    <tr>\n",
       "      <th>22</th>\n",
       "      <td>2</td>\n",
       "      <td>kjsLglQLzykiRbcDiGcD</td>\n",
       "      <td>cpc</td>\n",
       "      <td>other</td>\n",
       "      <td>other</td>\n",
       "      <td>mobile</td>\n",
       "      <td>Xiaomi</td>\n",
       "      <td>Chrome</td>\n",
       "      <td>Russia</td>\n",
       "      <td>Moscow</td>\n",
       "      <td>3</td>\n",
       "      <td>event</td>\n",
       "      <td>sberauto.com</td>\n",
       "      <td>quiz</td>\n",
       "      <td>0</td>\n",
       "      <td>5</td>\n",
       "      <td>393</td>\n",
       "      <td>786</td>\n",
       "      <td>5</td>\n",
       "      <td>29</td>\n",
       "    </tr>\n",
       "  </tbody>\n",
       "</table>\n",
       "</div>"
      ],
      "text/plain": [
       "    visit_number            utm_source utm_medium          utm_campaign  \\\n",
       "0              1  ZpYIoDJMcFzVoPFsHGJL     banner  LEoPHuyFvzoNfnzGgfcd   \n",
       "2              1  MvfHsxITijuriZxsqZqt        cpm  FTjNLDyTrXaWYgZymFkV   \n",
       "3              1  ZpYIoDJMcFzVoPFsHGJL     banner  LEoPHuyFvzoNfnzGgfcd   \n",
       "19             1  kjsLglQLzykiRbcDiGcD        cpc                 other   \n",
       "22             2  kjsLglQLzykiRbcDiGcD        cpc                 other   \n",
       "\n",
       "           utm_adcontent device_category device_brand    device_browser  \\\n",
       "0   vCIpmpaGBnIQhyYNkXqp          mobile       Huawei            Chrome   \n",
       "2   xhoenQgDQsgfEPYNPwKO          mobile      Samsung  Samsung Internet   \n",
       "3   vCIpmpaGBnIQhyYNkXqp          mobile       Huawei            Chrome   \n",
       "19  NOBKLgtuvqYWkXQHeYWM          mobile       Xiaomi            Chrome   \n",
       "22                 other          mobile       Xiaomi            Chrome   \n",
       "\n",
       "   geo_country     geo_city  hit_number hit_type          hit_page_path  \\\n",
       "0       Russia     Zlatoust           3    event  podpiska.sberauto.com   \n",
       "2       Russia       Moscow           3    event  podpiska.sberauto.com   \n",
       "3       Russia  Krasnoyarsk          10    event           sberauto.com   \n",
       "19      Russia       Moscow           2    event  podpiska.sberauto.com   \n",
       "22      Russia       Moscow           3    event           sberauto.com   \n",
       "\n",
       "   event_category  event_action  vist_hours resoluton1 resoluton2  hit_month  \\\n",
       "0   sub_page_view             0          14        360        720         11   \n",
       "2   sub_page_view             0           8        385        854         11   \n",
       "3     search_form             0           2        360        720         12   \n",
       "19  sub_page_view             0           5        393        786          5   \n",
       "22           quiz             0           5        393        786          5   \n",
       "\n",
       "    hit_day  \n",
       "0        24  \n",
       "2        14  \n",
       "3        28  \n",
       "19       29  \n",
       "22       29  "
      ]
     },
     "execution_count": 1211,
     "metadata": {},
     "output_type": "execute_result"
    }
   ],
   "source": [
    "df_filtered.head()"
   ]
  },
  {
   "cell_type": "code",
   "execution_count": 1213,
   "id": "eb340ee3-90ce-40d9-99dc-5180a2d4a8eb",
   "metadata": {},
   "outputs": [
    {
     "name": "stdout",
     "output_type": "stream",
     "text": [
      "<class 'pandas.core.frame.DataFrame'>\n",
      "Index: 1691967 entries, 0 to 15685206\n",
      "Data columns (total 20 columns):\n",
      " #   Column           Dtype \n",
      "---  ------           ----- \n",
      " 0   visit_number     int64 \n",
      " 1   utm_source       object\n",
      " 2   utm_medium       object\n",
      " 3   utm_campaign     object\n",
      " 4   utm_adcontent    object\n",
      " 5   device_category  object\n",
      " 6   device_brand     object\n",
      " 7   device_browser   object\n",
      " 8   geo_country      object\n",
      " 9   geo_city         object\n",
      " 10  hit_number       int64 \n",
      " 11  hit_type         object\n",
      " 12  hit_page_path    object\n",
      " 13  event_category   object\n",
      " 14  event_action     int64 \n",
      " 15  vist_hours       int32 \n",
      " 16  resoluton1       object\n",
      " 17  resoluton2       object\n",
      " 18  hit_month        int32 \n",
      " 19  hit_day          int32 \n",
      "dtypes: int32(3), int64(3), object(14)\n",
      "memory usage: 251.7+ MB\n"
     ]
    }
   ],
   "source": [
    "df_filtered.info()"
   ]
  },
  {
   "cell_type": "code",
   "execution_count": 1215,
   "id": "b72be646-86d1-44a0-823b-a0c8c1578061",
   "metadata": {},
   "outputs": [
    {
     "data": {
      "text/plain": [
       "visit_number        533\n",
       "utm_source          281\n",
       "utm_medium           55\n",
       "utm_campaign        301\n",
       "utm_adcontent       186\n",
       "device_category       3\n",
       "device_brand        140\n",
       "device_browser       55\n",
       "geo_country          69\n",
       "geo_city           1557\n",
       "hit_number          355\n",
       "hit_type              1\n",
       "hit_page_path        24\n",
       "event_category       38\n",
       "event_action          2\n",
       "vist_hours           24\n",
       "resoluton1          845\n",
       "resoluton2          832\n",
       "hit_month             8\n",
       "hit_day              31\n",
       "dtype: int64"
      ]
     },
     "execution_count": 1215,
     "metadata": {},
     "output_type": "execute_result"
    }
   ],
   "source": [
    "df_filtered.nunique()"
   ]
  },
  {
   "cell_type": "code",
   "execution_count": 53,
   "id": "de7e2d15-7d3e-4c1d-af81-0a6a98f90018",
   "metadata": {},
   "outputs": [],
   "source": [
    "# Now the number of unique values in each category has decreased"
   ]
  },
  {
   "cell_type": "code",
   "execution_count": 55,
   "id": "25525947-0535-4211-be35-a877cc0ded79",
   "metadata": {},
   "outputs": [],
   "source": [
    "# All missing values have been handled and transformations in the columns have been completed"
   ]
  },
  {
   "cell_type": "code",
   "execution_count": 1221,
   "id": "527b208b-26f2-4c20-aabd-57b8125cc2be",
   "metadata": {},
   "outputs": [],
   "source": [
    "df_ready = df_filtered.copy()"
   ]
  },
  {
   "cell_type": "markdown",
   "id": "f0484d78-4ab4-4f5c-8f25-c02ffcd3b775",
   "metadata": {},
   "source": [
    "# Modeling"
   ]
  },
  {
   "cell_type": "code",
   "execution_count": 1224,
   "id": "183dce02-53d1-4e4d-b69c-7eb6d2829ee6",
   "metadata": {},
   "outputs": [
    {
     "data": {
      "text/html": [
       "<div>\n",
       "<style scoped>\n",
       "    .dataframe tbody tr th:only-of-type {\n",
       "        vertical-align: middle;\n",
       "    }\n",
       "\n",
       "    .dataframe tbody tr th {\n",
       "        vertical-align: top;\n",
       "    }\n",
       "\n",
       "    .dataframe thead th {\n",
       "        text-align: right;\n",
       "    }\n",
       "</style>\n",
       "<table border=\"1\" class=\"dataframe\">\n",
       "  <thead>\n",
       "    <tr style=\"text-align: right;\">\n",
       "      <th></th>\n",
       "      <th>visit_number</th>\n",
       "      <th>utm_source</th>\n",
       "      <th>utm_medium</th>\n",
       "      <th>utm_campaign</th>\n",
       "      <th>utm_adcontent</th>\n",
       "      <th>device_category</th>\n",
       "      <th>device_brand</th>\n",
       "      <th>device_browser</th>\n",
       "      <th>geo_country</th>\n",
       "      <th>geo_city</th>\n",
       "      <th>hit_number</th>\n",
       "      <th>hit_type</th>\n",
       "      <th>hit_page_path</th>\n",
       "      <th>event_category</th>\n",
       "      <th>event_action</th>\n",
       "      <th>vist_hours</th>\n",
       "      <th>resoluton1</th>\n",
       "      <th>resoluton2</th>\n",
       "      <th>hit_month</th>\n",
       "      <th>hit_day</th>\n",
       "    </tr>\n",
       "  </thead>\n",
       "  <tbody>\n",
       "    <tr>\n",
       "      <th>0</th>\n",
       "      <td>1</td>\n",
       "      <td>ZpYIoDJMcFzVoPFsHGJL</td>\n",
       "      <td>banner</td>\n",
       "      <td>LEoPHuyFvzoNfnzGgfcd</td>\n",
       "      <td>vCIpmpaGBnIQhyYNkXqp</td>\n",
       "      <td>mobile</td>\n",
       "      <td>Huawei</td>\n",
       "      <td>Chrome</td>\n",
       "      <td>Russia</td>\n",
       "      <td>Zlatoust</td>\n",
       "      <td>3</td>\n",
       "      <td>event</td>\n",
       "      <td>podpiska.sberauto.com</td>\n",
       "      <td>sub_page_view</td>\n",
       "      <td>0</td>\n",
       "      <td>14</td>\n",
       "      <td>360</td>\n",
       "      <td>720</td>\n",
       "      <td>11</td>\n",
       "      <td>24</td>\n",
       "    </tr>\n",
       "    <tr>\n",
       "      <th>2</th>\n",
       "      <td>1</td>\n",
       "      <td>MvfHsxITijuriZxsqZqt</td>\n",
       "      <td>cpm</td>\n",
       "      <td>FTjNLDyTrXaWYgZymFkV</td>\n",
       "      <td>xhoenQgDQsgfEPYNPwKO</td>\n",
       "      <td>mobile</td>\n",
       "      <td>Samsung</td>\n",
       "      <td>Samsung Internet</td>\n",
       "      <td>Russia</td>\n",
       "      <td>Moscow</td>\n",
       "      <td>3</td>\n",
       "      <td>event</td>\n",
       "      <td>podpiska.sberauto.com</td>\n",
       "      <td>sub_page_view</td>\n",
       "      <td>0</td>\n",
       "      <td>8</td>\n",
       "      <td>385</td>\n",
       "      <td>854</td>\n",
       "      <td>11</td>\n",
       "      <td>14</td>\n",
       "    </tr>\n",
       "    <tr>\n",
       "      <th>3</th>\n",
       "      <td>1</td>\n",
       "      <td>ZpYIoDJMcFzVoPFsHGJL</td>\n",
       "      <td>banner</td>\n",
       "      <td>LEoPHuyFvzoNfnzGgfcd</td>\n",
       "      <td>vCIpmpaGBnIQhyYNkXqp</td>\n",
       "      <td>mobile</td>\n",
       "      <td>Huawei</td>\n",
       "      <td>Chrome</td>\n",
       "      <td>Russia</td>\n",
       "      <td>Krasnoyarsk</td>\n",
       "      <td>10</td>\n",
       "      <td>event</td>\n",
       "      <td>sberauto.com</td>\n",
       "      <td>search_form</td>\n",
       "      <td>0</td>\n",
       "      <td>2</td>\n",
       "      <td>360</td>\n",
       "      <td>720</td>\n",
       "      <td>12</td>\n",
       "      <td>28</td>\n",
       "    </tr>\n",
       "    <tr>\n",
       "      <th>19</th>\n",
       "      <td>1</td>\n",
       "      <td>kjsLglQLzykiRbcDiGcD</td>\n",
       "      <td>cpc</td>\n",
       "      <td>other</td>\n",
       "      <td>NOBKLgtuvqYWkXQHeYWM</td>\n",
       "      <td>mobile</td>\n",
       "      <td>Xiaomi</td>\n",
       "      <td>Chrome</td>\n",
       "      <td>Russia</td>\n",
       "      <td>Moscow</td>\n",
       "      <td>2</td>\n",
       "      <td>event</td>\n",
       "      <td>podpiska.sberauto.com</td>\n",
       "      <td>sub_page_view</td>\n",
       "      <td>0</td>\n",
       "      <td>5</td>\n",
       "      <td>393</td>\n",
       "      <td>786</td>\n",
       "      <td>5</td>\n",
       "      <td>29</td>\n",
       "    </tr>\n",
       "    <tr>\n",
       "      <th>22</th>\n",
       "      <td>2</td>\n",
       "      <td>kjsLglQLzykiRbcDiGcD</td>\n",
       "      <td>cpc</td>\n",
       "      <td>other</td>\n",
       "      <td>other</td>\n",
       "      <td>mobile</td>\n",
       "      <td>Xiaomi</td>\n",
       "      <td>Chrome</td>\n",
       "      <td>Russia</td>\n",
       "      <td>Moscow</td>\n",
       "      <td>3</td>\n",
       "      <td>event</td>\n",
       "      <td>sberauto.com</td>\n",
       "      <td>quiz</td>\n",
       "      <td>0</td>\n",
       "      <td>5</td>\n",
       "      <td>393</td>\n",
       "      <td>786</td>\n",
       "      <td>5</td>\n",
       "      <td>29</td>\n",
       "    </tr>\n",
       "  </tbody>\n",
       "</table>\n",
       "</div>"
      ],
      "text/plain": [
       "    visit_number            utm_source utm_medium          utm_campaign  \\\n",
       "0              1  ZpYIoDJMcFzVoPFsHGJL     banner  LEoPHuyFvzoNfnzGgfcd   \n",
       "2              1  MvfHsxITijuriZxsqZqt        cpm  FTjNLDyTrXaWYgZymFkV   \n",
       "3              1  ZpYIoDJMcFzVoPFsHGJL     banner  LEoPHuyFvzoNfnzGgfcd   \n",
       "19             1  kjsLglQLzykiRbcDiGcD        cpc                 other   \n",
       "22             2  kjsLglQLzykiRbcDiGcD        cpc                 other   \n",
       "\n",
       "           utm_adcontent device_category device_brand    device_browser  \\\n",
       "0   vCIpmpaGBnIQhyYNkXqp          mobile       Huawei            Chrome   \n",
       "2   xhoenQgDQsgfEPYNPwKO          mobile      Samsung  Samsung Internet   \n",
       "3   vCIpmpaGBnIQhyYNkXqp          mobile       Huawei            Chrome   \n",
       "19  NOBKLgtuvqYWkXQHeYWM          mobile       Xiaomi            Chrome   \n",
       "22                 other          mobile       Xiaomi            Chrome   \n",
       "\n",
       "   geo_country     geo_city  hit_number hit_type          hit_page_path  \\\n",
       "0       Russia     Zlatoust           3    event  podpiska.sberauto.com   \n",
       "2       Russia       Moscow           3    event  podpiska.sberauto.com   \n",
       "3       Russia  Krasnoyarsk          10    event           sberauto.com   \n",
       "19      Russia       Moscow           2    event  podpiska.sberauto.com   \n",
       "22      Russia       Moscow           3    event           sberauto.com   \n",
       "\n",
       "   event_category  event_action  vist_hours resoluton1 resoluton2  hit_month  \\\n",
       "0   sub_page_view             0          14        360        720         11   \n",
       "2   sub_page_view             0           8        385        854         11   \n",
       "3     search_form             0           2        360        720         12   \n",
       "19  sub_page_view             0           5        393        786          5   \n",
       "22           quiz             0           5        393        786          5   \n",
       "\n",
       "    hit_day  \n",
       "0        24  \n",
       "2        14  \n",
       "3        28  \n",
       "19       29  \n",
       "22       29  "
      ]
     },
     "execution_count": 1224,
     "metadata": {},
     "output_type": "execute_result"
    }
   ],
   "source": [
    "df_ready.head()"
   ]
  },
  {
   "cell_type": "code",
   "execution_count": 1226,
   "id": "4437718f-1e47-4ef0-84d5-b2e6d39509e9",
   "metadata": {},
   "outputs": [
    {
     "name": "stdout",
     "output_type": "stream",
     "text": [
      "<class 'pandas.core.frame.DataFrame'>\n",
      "Index: 1691967 entries, 0 to 15685206\n",
      "Data columns (total 20 columns):\n",
      " #   Column           Dtype \n",
      "---  ------           ----- \n",
      " 0   visit_number     int64 \n",
      " 1   utm_source       object\n",
      " 2   utm_medium       object\n",
      " 3   utm_campaign     object\n",
      " 4   utm_adcontent    object\n",
      " 5   device_category  object\n",
      " 6   device_brand     object\n",
      " 7   device_browser   object\n",
      " 8   geo_country      object\n",
      " 9   geo_city         object\n",
      " 10  hit_number       int64 \n",
      " 11  hit_type         object\n",
      " 12  hit_page_path    object\n",
      " 13  event_category   object\n",
      " 14  event_action     int64 \n",
      " 15  vist_hours       int32 \n",
      " 16  resoluton1       object\n",
      " 17  resoluton2       object\n",
      " 18  hit_month        int32 \n",
      " 19  hit_day          int32 \n",
      "dtypes: int32(3), int64(3), object(14)\n",
      "memory usage: 251.7+ MB\n"
     ]
    }
   ],
   "source": [
    "df_ready.info()"
   ]
  },
  {
   "cell_type": "code",
   "execution_count": 57,
   "id": "43d7becc-9a0d-4a6b-b856-a67f4ea86270",
   "metadata": {},
   "outputs": [],
   "source": [
    "# Let's create embeddings for categorical features, since encoding them with OneHotEncoder is not practical,\n",
    "# as it would result in an unreasonably large number of binary features in the dataset\n",
    "# For this, we will use the CategoryEmbeddingModelConfig model, which automatically generates embeddings during training"
   ]
  },
  {
   "cell_type": "code",
   "execution_count": 1467,
   "id": "ac361941-92d6-448f-a029-7ff91c2478ec",
   "metadata": {},
   "outputs": [
    {
     "data": {
      "text/plain": [
       "Index(['visit_number', 'utm_source', 'utm_medium', 'utm_campaign',\n",
       "       'utm_adcontent', 'device_category', 'device_brand', 'device_browser',\n",
       "       'geo_country', 'geo_city', 'hit_number', 'hit_type', 'hit_page_path',\n",
       "       'event_category', 'event_action', 'vist_hours', 'resoluton1',\n",
       "       'resoluton2', 'hit_month', 'hit_day'],\n",
       "      dtype='object')"
      ]
     },
     "execution_count": 1467,
     "metadata": {},
     "output_type": "execute_result"
    }
   ],
   "source": [
    "df_ready.columns"
   ]
  },
  {
   "cell_type": "code",
   "execution_count": 1480,
   "id": "f5c0d9c8-65ef-47fe-a067-a7cbaa26b8d9",
   "metadata": {},
   "outputs": [],
   "source": [
    "data_config = DataConfig(\n",
    "    target=[\"event_action\"],\n",
    "    continuous_cols = [\"visit_number\", \"hit_number\"],\n",
    "    categorical_cols = ['utm_source', 'utm_medium', 'utm_campaign',\n",
    "                       'utm_adcontent', 'device_category', 'device_brand', 'device_browser',\n",
    "                       'geo_country', 'geo_city', 'hit_type', 'hit_page_path',\n",
    "                       'event_category', 'vist_hours', 'resoluton1',\n",
    "                       'resoluton2', 'hit_month', 'hit_day']\n",
    ")\n",
    "\n",
    "model_config = CategoryEmbeddingModelConfig(\n",
    "    task=\"classification\",\n",
    "    layers=\"64-128-64-32\",\n",
    "    activation=\"ReLU\",\n",
    "    learning_rate=0.0001,\n",
    "    metrics=['accuracy']\n",
    ")"
   ]
  },
  {
   "cell_type": "code",
   "execution_count": 1482,
   "id": "fc89ae39-a99b-468d-b4d7-1ad64118d861",
   "metadata": {},
   "outputs": [
    {
     "data": {
      "text/html": [
       "<pre style=\"white-space:pre;overflow-x:auto;line-height:normal;font-family:Menlo,'DejaVu Sans Mono',consolas,'Courier New',monospace\"><span style=\"color: #008080; text-decoration-color: #008080; font-weight: bold\">2025</span>-<span style=\"color: #008080; text-decoration-color: #008080; font-weight: bold\">05</span>-<span style=\"color: #008080; text-decoration-color: #008080; font-weight: bold\">12</span> <span style=\"color: #00ff00; text-decoration-color: #00ff00; font-weight: bold\">21:17:42</span>,<span style=\"color: #008080; text-decoration-color: #008080; font-weight: bold\">384</span> - <span style=\"font-weight: bold\">{</span>pytorch_tabular.tabular_model:<span style=\"color: #008080; text-decoration-color: #008080; font-weight: bold\">146</span><span style=\"font-weight: bold\">}</span> - INFO - Experiment Tracking is turned off           \n",
       "</pre>\n"
      ],
      "text/plain": [
       "\u001b[1;36m2025\u001b[0m-\u001b[1;36m05\u001b[0m-\u001b[1;36m12\u001b[0m \u001b[1;92m21:17:42\u001b[0m,\u001b[1;36m384\u001b[0m - \u001b[1m{\u001b[0mpytorch_tabular.tabular_model:\u001b[1;36m146\u001b[0m\u001b[1m}\u001b[0m - INFO - Experiment Tracking is turned off           \n"
      ]
     },
     "metadata": {},
     "output_type": "display_data"
    }
   ],
   "source": [
    "# === 4. Обучение модели ===\n",
    "trainer = TrainerConfig(\n",
    "    max_epochs=5, \n",
    "    batch_size=512\n",
    ")\n",
    "\n",
    "optimizer = OptimizerConfig(\n",
    "    optimizer=\"RMSprop\",\n",
    "    lr_scheduler=\"ReduceLROnPlateau\",\n",
    "    lr_scheduler_params={\"patience\": 5, \"factor\": 0.5},\n",
    ")\n",
    "\n",
    "tabular_model = TabularModel(\n",
    "    data_config=data_config,\n",
    "    model_config=model_config,\n",
    "    optimizer_config=optimizer,\n",
    "    trainer_config=trainer\n",
    ")"
   ]
  },
  {
   "cell_type": "code",
   "execution_count": 59,
   "id": "c434e31e-29bb-4451-a737-13914fda3652",
   "metadata": {},
   "outputs": [],
   "source": [
    "# Let's create three datasets: training, validation, and test\n",
    "# Using stratify to ensure class balance, especially for the minority class\n",
    "# We will train on the training set and then make predictions on the test set"
   ]
  },
  {
   "cell_type": "code",
   "execution_count": 1490,
   "id": "9b8e39e2-6fb7-428c-a494-c6d2bbe06ad6",
   "metadata": {},
   "outputs": [
    {
     "name": "stderr",
     "output_type": "stream",
     "text": [
      "Seed set to 42\n"
     ]
    },
    {
     "data": {
      "text/html": [
       "<pre style=\"white-space:pre;overflow-x:auto;line-height:normal;font-family:Menlo,'DejaVu Sans Mono',consolas,'Courier New',monospace\"><span style=\"color: #008080; text-decoration-color: #008080; font-weight: bold\">2025</span>-<span style=\"color: #008080; text-decoration-color: #008080; font-weight: bold\">05</span>-<span style=\"color: #008080; text-decoration-color: #008080; font-weight: bold\">12</span> <span style=\"color: #00ff00; text-decoration-color: #00ff00; font-weight: bold\">21:19:56</span>,<span style=\"color: #008080; text-decoration-color: #008080; font-weight: bold\">541</span> - <span style=\"font-weight: bold\">{</span>pytorch_tabular.tabular_model:<span style=\"color: #008080; text-decoration-color: #008080; font-weight: bold\">548</span><span style=\"font-weight: bold\">}</span> - INFO - Preparing the DataLoaders                   \n",
       "</pre>\n"
      ],
      "text/plain": [
       "\u001b[1;36m2025\u001b[0m-\u001b[1;36m05\u001b[0m-\u001b[1;36m12\u001b[0m \u001b[1;92m21:19:56\u001b[0m,\u001b[1;36m541\u001b[0m - \u001b[1m{\u001b[0mpytorch_tabular.tabular_model:\u001b[1;36m548\u001b[0m\u001b[1m}\u001b[0m - INFO - Preparing the DataLoaders                   \n"
      ]
     },
     "metadata": {},
     "output_type": "display_data"
    },
    {
     "data": {
      "text/html": [
       "<pre style=\"white-space:pre;overflow-x:auto;line-height:normal;font-family:Menlo,'DejaVu Sans Mono',consolas,'Courier New',monospace\"><span style=\"color: #008080; text-decoration-color: #008080; font-weight: bold\">2025</span>-<span style=\"color: #008080; text-decoration-color: #008080; font-weight: bold\">05</span>-<span style=\"color: #008080; text-decoration-color: #008080; font-weight: bold\">12</span> <span style=\"color: #00ff00; text-decoration-color: #00ff00; font-weight: bold\">21:19:57</span>,<span style=\"color: #008080; text-decoration-color: #008080; font-weight: bold\">936</span> - <span style=\"font-weight: bold\">{</span>pytorch_tabular.tabular_datamodul<span style=\"color: #00ff00; text-decoration-color: #00ff00; font-weight: bold\">e:522</span><span style=\"font-weight: bold\">}</span> - INFO - Setting up the datamodule for          \n",
       "classification task                                                                                                \n",
       "</pre>\n"
      ],
      "text/plain": [
       "\u001b[1;36m2025\u001b[0m-\u001b[1;36m05\u001b[0m-\u001b[1;36m12\u001b[0m \u001b[1;92m21:19:57\u001b[0m,\u001b[1;36m936\u001b[0m - \u001b[1m{\u001b[0mpytorch_tabular.tabular_datamodul\u001b[1;92me:522\u001b[0m\u001b[1m}\u001b[0m - INFO - Setting up the datamodule for          \n",
       "classification task                                                                                                \n"
      ]
     },
     "metadata": {},
     "output_type": "display_data"
    },
    {
     "data": {
      "text/html": [
       "<pre style=\"white-space:pre;overflow-x:auto;line-height:normal;font-family:Menlo,'DejaVu Sans Mono',consolas,'Courier New',monospace\"><span style=\"color: #008080; text-decoration-color: #008080; font-weight: bold\">2025</span>-<span style=\"color: #008080; text-decoration-color: #008080; font-weight: bold\">05</span>-<span style=\"color: #008080; text-decoration-color: #008080; font-weight: bold\">12</span> <span style=\"color: #00ff00; text-decoration-color: #00ff00; font-weight: bold\">21:20:01</span>,<span style=\"color: #008080; text-decoration-color: #008080; font-weight: bold\">814</span> - <span style=\"font-weight: bold\">{</span>pytorch_tabular.tabular_model:<span style=\"color: #008080; text-decoration-color: #008080; font-weight: bold\">599</span><span style=\"font-weight: bold\">}</span> - INFO - Preparing the Model: CategoryEmbeddingModel \n",
       "</pre>\n"
      ],
      "text/plain": [
       "\u001b[1;36m2025\u001b[0m-\u001b[1;36m05\u001b[0m-\u001b[1;36m12\u001b[0m \u001b[1;92m21:20:01\u001b[0m,\u001b[1;36m814\u001b[0m - \u001b[1m{\u001b[0mpytorch_tabular.tabular_model:\u001b[1;36m599\u001b[0m\u001b[1m}\u001b[0m - INFO - Preparing the Model: CategoryEmbeddingModel \n"
      ]
     },
     "metadata": {},
     "output_type": "display_data"
    },
    {
     "data": {
      "text/html": [
       "<pre style=\"white-space:pre;overflow-x:auto;line-height:normal;font-family:Menlo,'DejaVu Sans Mono',consolas,'Courier New',monospace\"><span style=\"color: #008080; text-decoration-color: #008080; font-weight: bold\">2025</span>-<span style=\"color: #008080; text-decoration-color: #008080; font-weight: bold\">05</span>-<span style=\"color: #008080; text-decoration-color: #008080; font-weight: bold\">12</span> <span style=\"color: #00ff00; text-decoration-color: #00ff00; font-weight: bold\">21:20:01</span>,<span style=\"color: #008080; text-decoration-color: #008080; font-weight: bold\">995</span> - <span style=\"font-weight: bold\">{</span>pytorch_tabular.tabular_model:<span style=\"color: #008080; text-decoration-color: #008080; font-weight: bold\">342</span><span style=\"font-weight: bold\">}</span> - INFO - Preparing the Trainer                       \n",
       "</pre>\n"
      ],
      "text/plain": [
       "\u001b[1;36m2025\u001b[0m-\u001b[1;36m05\u001b[0m-\u001b[1;36m12\u001b[0m \u001b[1;92m21:20:01\u001b[0m,\u001b[1;36m995\u001b[0m - \u001b[1m{\u001b[0mpytorch_tabular.tabular_model:\u001b[1;36m342\u001b[0m\u001b[1m}\u001b[0m - INFO - Preparing the Trainer                       \n"
      ]
     },
     "metadata": {},
     "output_type": "display_data"
    },
    {
     "name": "stderr",
     "output_type": "stream",
     "text": [
      "GPU available: True (mps), used: True\n",
      "TPU available: False, using: 0 TPU cores\n",
      "HPU available: False, using: 0 HPUs\n"
     ]
    },
    {
     "data": {
      "text/html": [
       "<pre style=\"white-space:pre;overflow-x:auto;line-height:normal;font-family:Menlo,'DejaVu Sans Mono',consolas,'Courier New',monospace\"><span style=\"color: #008080; text-decoration-color: #008080; font-weight: bold\">2025</span>-<span style=\"color: #008080; text-decoration-color: #008080; font-weight: bold\">05</span>-<span style=\"color: #008080; text-decoration-color: #008080; font-weight: bold\">12</span> <span style=\"color: #00ff00; text-decoration-color: #00ff00; font-weight: bold\">21:20:02</span>,<span style=\"color: #008080; text-decoration-color: #008080; font-weight: bold\">068</span> - <span style=\"font-weight: bold\">{</span>pytorch_tabular.tabular_model:<span style=\"color: #008080; text-decoration-color: #008080; font-weight: bold\">678</span><span style=\"font-weight: bold\">}</span> - INFO - Training Started                            \n",
       "</pre>\n"
      ],
      "text/plain": [
       "\u001b[1;36m2025\u001b[0m-\u001b[1;36m05\u001b[0m-\u001b[1;36m12\u001b[0m \u001b[1;92m21:20:02\u001b[0m,\u001b[1;36m068\u001b[0m - \u001b[1m{\u001b[0mpytorch_tabular.tabular_model:\u001b[1;36m678\u001b[0m\u001b[1m}\u001b[0m - INFO - Training Started                            \n"
      ]
     },
     "metadata": {},
     "output_type": "display_data"
    },
    {
     "name": "stderr",
     "output_type": "stream",
     "text": [
      "/opt/anaconda3/lib/python3.11/site-packages/pytorch_lightning/callbacks/model_checkpoint.py:654: Checkpoint directory /Users/artemzajcev/Documents/Skillbox - Data Science/\"ML-инженер\" project/Notebook/saved_models exists and is not empty.\n"
     ]
    },
    {
     "data": {
      "text/html": [
       "<pre style=\"white-space:pre;overflow-x:auto;line-height:normal;font-family:Menlo,'DejaVu Sans Mono',consolas,'Courier New',monospace\">┏━━━┳━━━━━━━━━━━━━━━━━━┳━━━━━━━━━━━━━━━━━━━━━━━━━━━┳━━━━━━━━┳━━━━━━━┓\n",
       "┃<span style=\"color: #800080; text-decoration-color: #800080; font-weight: bold\">   </span>┃<span style=\"color: #800080; text-decoration-color: #800080; font-weight: bold\"> Name             </span>┃<span style=\"color: #800080; text-decoration-color: #800080; font-weight: bold\"> Type                      </span>┃<span style=\"color: #800080; text-decoration-color: #800080; font-weight: bold\"> Params </span>┃<span style=\"color: #800080; text-decoration-color: #800080; font-weight: bold\"> Mode  </span>┃\n",
       "┡━━━╇━━━━━━━━━━━━━━━━━━╇━━━━━━━━━━━━━━━━━━━━━━━━━━━╇━━━━━━━━╇━━━━━━━┩\n",
       "│<span style=\"color: #7f7f7f; text-decoration-color: #7f7f7f\"> 0 </span>│ _backbone        │ CategoryEmbeddingBackbone │ 51.5 K │ train │\n",
       "│<span style=\"color: #7f7f7f; text-decoration-color: #7f7f7f\"> 1 </span>│ _embedding_layer │ Embedding1dLayer          │  208 K │ train │\n",
       "│<span style=\"color: #7f7f7f; text-decoration-color: #7f7f7f\"> 2 </span>│ head             │ LinearHead                │     66 │ train │\n",
       "│<span style=\"color: #7f7f7f; text-decoration-color: #7f7f7f\"> 3 </span>│ loss             │ CrossEntropyLoss          │      0 │ train │\n",
       "└───┴──────────────────┴───────────────────────────┴────────┴───────┘\n",
       "</pre>\n"
      ],
      "text/plain": [
       "┏━━━┳━━━━━━━━━━━━━━━━━━┳━━━━━━━━━━━━━━━━━━━━━━━━━━━┳━━━━━━━━┳━━━━━━━┓\n",
       "┃\u001b[1;35m \u001b[0m\u001b[1;35m \u001b[0m\u001b[1;35m \u001b[0m┃\u001b[1;35m \u001b[0m\u001b[1;35mName            \u001b[0m\u001b[1;35m \u001b[0m┃\u001b[1;35m \u001b[0m\u001b[1;35mType                     \u001b[0m\u001b[1;35m \u001b[0m┃\u001b[1;35m \u001b[0m\u001b[1;35mParams\u001b[0m\u001b[1;35m \u001b[0m┃\u001b[1;35m \u001b[0m\u001b[1;35mMode \u001b[0m\u001b[1;35m \u001b[0m┃\n",
       "┡━━━╇━━━━━━━━━━━━━━━━━━╇━━━━━━━━━━━━━━━━━━━━━━━━━━━╇━━━━━━━━╇━━━━━━━┩\n",
       "│\u001b[2m \u001b[0m\u001b[2m0\u001b[0m\u001b[2m \u001b[0m│ _backbone        │ CategoryEmbeddingBackbone │ 51.5 K │ train │\n",
       "│\u001b[2m \u001b[0m\u001b[2m1\u001b[0m\u001b[2m \u001b[0m│ _embedding_layer │ Embedding1dLayer          │  208 K │ train │\n",
       "│\u001b[2m \u001b[0m\u001b[2m2\u001b[0m\u001b[2m \u001b[0m│ head             │ LinearHead                │     66 │ train │\n",
       "│\u001b[2m \u001b[0m\u001b[2m3\u001b[0m\u001b[2m \u001b[0m│ loss             │ CrossEntropyLoss          │      0 │ train │\n",
       "└───┴──────────────────┴───────────────────────────┴────────┴───────┘\n"
      ]
     },
     "metadata": {},
     "output_type": "display_data"
    },
    {
     "data": {
      "text/html": [
       "<pre style=\"white-space:pre;overflow-x:auto;line-height:normal;font-family:Menlo,'DejaVu Sans Mono',consolas,'Courier New',monospace\"><span style=\"font-weight: bold\">Trainable params</span>: 259 K                                                                                            \n",
       "<span style=\"font-weight: bold\">Non-trainable params</span>: 0                                                                                            \n",
       "<span style=\"font-weight: bold\">Total params</span>: 259 K                                                                                                \n",
       "<span style=\"font-weight: bold\">Total estimated model params size (MB)</span>: 1                                                                          \n",
       "<span style=\"font-weight: bold\">Modules in train mode</span>: 35                                                                                          \n",
       "<span style=\"font-weight: bold\">Modules in eval mode</span>: 0                                                                                            \n",
       "</pre>\n"
      ],
      "text/plain": [
       "\u001b[1mTrainable params\u001b[0m: 259 K                                                                                            \n",
       "\u001b[1mNon-trainable params\u001b[0m: 0                                                                                            \n",
       "\u001b[1mTotal params\u001b[0m: 259 K                                                                                                \n",
       "\u001b[1mTotal estimated model params size (MB)\u001b[0m: 1                                                                          \n",
       "\u001b[1mModules in train mode\u001b[0m: 35                                                                                          \n",
       "\u001b[1mModules in eval mode\u001b[0m: 0                                                                                            \n"
      ]
     },
     "metadata": {},
     "output_type": "display_data"
    },
    {
     "data": {
      "application/vnd.jupyter.widget-view+json": {
       "model_id": "2608627ea1ed47c2b5f89746be39274d",
       "version_major": 2,
       "version_minor": 0
      },
      "text/plain": [
       "Output()"
      ]
     },
     "metadata": {},
     "output_type": "display_data"
    },
    {
     "data": {
      "text/html": [
       "<pre style=\"white-space:pre;overflow-x:auto;line-height:normal;font-family:Menlo,'DejaVu Sans Mono',consolas,'Courier New',monospace\">/opt/anaconda3/lib/python3.11/site-packages/pytorch_lightning/trainer/connectors/data_connector.py:424: The \n",
       "'val_dataloader' does not have many workers which may be a bottleneck. Consider increasing the value of the \n",
       "`num_workers` argument` to `num_workers=10` in the `DataLoader` to improve performance.\n",
       "</pre>\n"
      ],
      "text/plain": [
       "/opt/anaconda3/lib/python3.11/site-packages/pytorch_lightning/trainer/connectors/data_connector.py:424: The \n",
       "'val_dataloader' does not have many workers which may be a bottleneck. Consider increasing the value of the \n",
       "`num_workers` argument` to `num_workers=10` in the `DataLoader` to improve performance.\n"
      ]
     },
     "metadata": {},
     "output_type": "display_data"
    },
    {
     "data": {
      "text/html": [
       "<pre style=\"white-space:pre;overflow-x:auto;line-height:normal;font-family:Menlo,'DejaVu Sans Mono',consolas,'Courier New',monospace\">/opt/anaconda3/lib/python3.11/site-packages/pytorch_lightning/trainer/connectors/data_connector.py:424: The \n",
       "'train_dataloader' does not have many workers which may be a bottleneck. Consider increasing the value of the \n",
       "`num_workers` argument` to `num_workers=10` in the `DataLoader` to improve performance.\n",
       "</pre>\n"
      ],
      "text/plain": [
       "/opt/anaconda3/lib/python3.11/site-packages/pytorch_lightning/trainer/connectors/data_connector.py:424: The \n",
       "'train_dataloader' does not have many workers which may be a bottleneck. Consider increasing the value of the \n",
       "`num_workers` argument` to `num_workers=10` in the `DataLoader` to improve performance.\n"
      ]
     },
     "metadata": {},
     "output_type": "display_data"
    },
    {
     "name": "stderr",
     "output_type": "stream",
     "text": [
      "`Trainer.fit` stopped: `max_epochs=1` reached.\n"
     ]
    },
    {
     "data": {
      "text/html": [
       "<pre style=\"white-space:pre;overflow-x:auto;line-height:normal;font-family:Menlo,'DejaVu Sans Mono',consolas,'Courier New',monospace\"></pre>\n"
      ],
      "text/plain": []
     },
     "metadata": {},
     "output_type": "display_data"
    },
    {
     "data": {
      "text/html": [
       "<pre style=\"white-space:pre;overflow-x:auto;line-height:normal;font-family:Menlo,'DejaVu Sans Mono',consolas,'Courier New',monospace\">\n",
       "</pre>\n"
      ],
      "text/plain": [
       "\n"
      ]
     },
     "metadata": {},
     "output_type": "display_data"
    },
    {
     "data": {
      "text/html": [
       "<pre style=\"white-space:pre;overflow-x:auto;line-height:normal;font-family:Menlo,'DejaVu Sans Mono',consolas,'Courier New',monospace\"><span style=\"color: #008080; text-decoration-color: #008080; font-weight: bold\">2025</span>-<span style=\"color: #008080; text-decoration-color: #008080; font-weight: bold\">05</span>-<span style=\"color: #008080; text-decoration-color: #008080; font-weight: bold\">12</span> <span style=\"color: #00ff00; text-decoration-color: #00ff00; font-weight: bold\">21:20:42</span>,<span style=\"color: #008080; text-decoration-color: #008080; font-weight: bold\">585</span> - <span style=\"font-weight: bold\">{</span>pytorch_tabular.tabular_model:<span style=\"color: #008080; text-decoration-color: #008080; font-weight: bold\">689</span><span style=\"font-weight: bold\">}</span> - INFO - Training the model completed                \n",
       "</pre>\n"
      ],
      "text/plain": [
       "\u001b[1;36m2025\u001b[0m-\u001b[1;36m05\u001b[0m-\u001b[1;36m12\u001b[0m \u001b[1;92m21:20:42\u001b[0m,\u001b[1;36m585\u001b[0m - \u001b[1m{\u001b[0mpytorch_tabular.tabular_model:\u001b[1;36m689\u001b[0m\u001b[1m}\u001b[0m - INFO - Training the model completed                \n"
      ]
     },
     "metadata": {},
     "output_type": "display_data"
    },
    {
     "data": {
      "text/html": [
       "<pre style=\"white-space:pre;overflow-x:auto;line-height:normal;font-family:Menlo,'DejaVu Sans Mono',consolas,'Courier New',monospace\"><span style=\"color: #008080; text-decoration-color: #008080; font-weight: bold\">2025</span>-<span style=\"color: #008080; text-decoration-color: #008080; font-weight: bold\">05</span>-<span style=\"color: #008080; text-decoration-color: #008080; font-weight: bold\">12</span> <span style=\"color: #00ff00; text-decoration-color: #00ff00; font-weight: bold\">21:20:42</span>,<span style=\"color: #008080; text-decoration-color: #008080; font-weight: bold\">586</span> - <span style=\"font-weight: bold\">{</span>pytorch_tabular.tabular_model:<span style=\"color: #008080; text-decoration-color: #008080; font-weight: bold\">1529</span><span style=\"font-weight: bold\">}</span> - INFO - Loading the best model                     \n",
       "</pre>\n"
      ],
      "text/plain": [
       "\u001b[1;36m2025\u001b[0m-\u001b[1;36m05\u001b[0m-\u001b[1;36m12\u001b[0m \u001b[1;92m21:20:42\u001b[0m,\u001b[1;36m586\u001b[0m - \u001b[1m{\u001b[0mpytorch_tabular.tabular_model:\u001b[1;36m1529\u001b[0m\u001b[1m}\u001b[0m - INFO - Loading the best model                     \n"
      ]
     },
     "metadata": {},
     "output_type": "display_data"
    },
    {
     "name": "stderr",
     "output_type": "stream",
     "text": [
      "/opt/anaconda3/lib/python3.11/site-packages/pytorch_tabular/utils/python_utils.py:85: FutureWarning: You are using `torch.load` with `weights_only=False` (the current default value), which uses the default pickle module implicitly. It is possible to construct malicious pickle data which will execute arbitrary code during unpickling (See https://github.com/pytorch/pytorch/blob/main/SECURITY.md#untrusted-models for more details). In a future release, the default value for `weights_only` will be flipped to `True`. This limits the functions that could be executed during unpickling. Arbitrary objects will no longer be allowed to be loaded via this mode unless they are explicitly allowlisted by the user via `torch.serialization.add_safe_globals`. We recommend you start setting `weights_only=True` for any use case where you don't have full control of the loaded file. Please open an issue on GitHub for any issues related to this experimental feature.\n",
      "  return torch.load(f, map_location=map_location)\n"
     ]
    },
    {
     "data": {
      "text/plain": [
       "<pytorch_lightning.trainer.trainer.Trainer at 0x7af09d990>"
      ]
     },
     "execution_count": 1490,
     "metadata": {},
     "output_type": "execute_result"
    }
   ],
   "source": [
    "train_df, test_df = train_test_split(df_ready, test_size=0.2, stratify=df_ready[\"event_action\"], random_state=42)\n",
    "\n",
    "train, val = train_test_split(train_df, test_size=0.2, stratify=train_df[\"event_action\"], random_state=42)\n",
    "\n",
    "tabular_model.fit(train=train, validation=val)"
   ]
  },
  {
   "cell_type": "code",
   "execution_count": 1492,
   "id": "c3121bc7-31b5-493e-8410-7b48fc666717",
   "metadata": {},
   "outputs": [
    {
     "data": {
      "text/plain": [
       "CategoryEmbeddingModel(\n",
       "  (_backbone): CategoryEmbeddingBackbone(\n",
       "    (linear_layers): Sequential(\n",
       "      (0): Linear(in_features=512, out_features=64, bias=True)\n",
       "      (1): ReLU()\n",
       "      (2): Linear(in_features=64, out_features=128, bias=True)\n",
       "      (3): ReLU()\n",
       "      (4): Linear(in_features=128, out_features=64, bias=True)\n",
       "      (5): ReLU()\n",
       "      (6): Linear(in_features=64, out_features=32, bias=True)\n",
       "      (7): ReLU()\n",
       "    )\n",
       "  )\n",
       "  (_embedding_layer): Embedding1dLayer(\n",
       "    (cat_embedding_layers): ModuleList(\n",
       "      (0): Embedding(250, 50)\n",
       "      (1): Embedding(55, 28)\n",
       "      (2): Embedding(302, 50)\n",
       "      (3): Embedding(187, 50)\n",
       "      (4): Embedding(4, 2)\n",
       "      (5): Embedding(140, 50)\n",
       "      (6): Embedding(56, 28)\n",
       "      (7): Embedding(70, 35)\n",
       "      (8): Embedding(1503, 50)\n",
       "      (9): Embedding(2, 1)\n",
       "      (10): Embedding(25, 13)\n",
       "      (11): Embedding(38, 19)\n",
       "      (12): Embedding(25, 13)\n",
       "      (13): Embedding(821, 50)\n",
       "      (14): Embedding(815, 50)\n",
       "      (15): Embedding(9, 5)\n",
       "      (16): Embedding(32, 16)\n",
       "    )\n",
       "    (normalizing_batch_norm): BatchNorm1d(\n",
       "      (bn): BatchNorm1d(2, eps=1e-05, momentum=0.1, affine=True, track_running_stats=True)\n",
       "    )\n",
       "  )\n",
       "  (head): LinearHead(\n",
       "    (layers): Sequential(\n",
       "      (0): Linear(in_features=32, out_features=2, bias=True)\n",
       "    )\n",
       "  )\n",
       "  (loss): CrossEntropyLoss()\n",
       ")"
      ]
     },
     "execution_count": 1492,
     "metadata": {},
     "output_type": "execute_result"
    }
   ],
   "source": [
    "model = tabular_model.model\n",
    "model"
   ]
  },
  {
   "cell_type": "code",
   "execution_count": 1494,
   "id": "5ac052a5-eaca-469f-af66-4ab4f78c9e31",
   "metadata": {},
   "outputs": [
    {
     "name": "stdout",
     "output_type": "stream",
     "text": [
      "ROC AUC on test set: 0.9837\n"
     ]
    }
   ],
   "source": [
    "preds_test = tabular_model.predict(test_df)\n",
    "\n",
    "preds_test[\"true_label\"] = test_df[\"event_action\"].values\n",
    "\n",
    "roc_auc = roc_auc_score(preds_test[\"true_label\"], preds_test[\"event_action_1_probability\"])\n",
    "print(f\"ROC AUC on test set: {roc_auc:.4f}\")"
   ]
  },
  {
   "cell_type": "code",
   "execution_count": 1496,
   "id": "210b0771-6ae0-4526-8b26-518e1c4a4c4c",
   "metadata": {},
   "outputs": [],
   "source": [
    "df_roc_auc = preds_test[['event_action_1_probability', 'true_label']]"
   ]
  },
  {
   "cell_type": "code",
   "execution_count": 1498,
   "id": "e4acd964-5689-4ac2-b79f-2a8834d1f223",
   "metadata": {},
   "outputs": [
    {
     "name": "stderr",
     "output_type": "stream",
     "text": [
      "/var/folders/3s/h4tbdn8n3bg8g9r44dkph73w0000gn/T/ipykernel_2441/416258792.py:1: SettingWithCopyWarning: \n",
      "A value is trying to be set on a copy of a slice from a DataFrame.\n",
      "Try using .loc[row_indexer,col_indexer] = value instead\n",
      "\n",
      "See the caveats in the documentation: https://pandas.pydata.org/pandas-docs/stable/user_guide/indexing.html#returning-a-view-versus-a-copy\n",
      "  df_roc_auc['event_action_1_probability'] = round(df_roc_auc['event_action_1_probability'], 4)\n"
     ]
    }
   ],
   "source": [
    "df_roc_auc['event_action_1_probability'] = round(df_roc_auc['event_action_1_probability'], 4)"
   ]
  },
  {
   "cell_type": "code",
   "execution_count": 1500,
   "id": "3ee7cde5-4a2e-4e75-96c0-822d2cff7b17",
   "metadata": {},
   "outputs": [],
   "source": [
    "df_roc_auc = df_roc_auc.sort_values(\"event_action_1_probability\", ascending=False)"
   ]
  },
  {
   "cell_type": "code",
   "execution_count": 1502,
   "id": "14f3ead5-8535-4234-8560-fda2fdbf4a0d",
   "metadata": {},
   "outputs": [
    {
     "data": {
      "text/html": [
       "<div>\n",
       "<style scoped>\n",
       "    .dataframe tbody tr th:only-of-type {\n",
       "        vertical-align: middle;\n",
       "    }\n",
       "\n",
       "    .dataframe tbody tr th {\n",
       "        vertical-align: top;\n",
       "    }\n",
       "\n",
       "    .dataframe thead th {\n",
       "        text-align: right;\n",
       "    }\n",
       "</style>\n",
       "<table border=\"1\" class=\"dataframe\">\n",
       "  <thead>\n",
       "    <tr style=\"text-align: right;\">\n",
       "      <th></th>\n",
       "      <th>event_action_1_probability</th>\n",
       "      <th>true_label</th>\n",
       "    </tr>\n",
       "  </thead>\n",
       "  <tbody>\n",
       "    <tr>\n",
       "      <th>11949787</th>\n",
       "      <td>0.9648</td>\n",
       "      <td>1</td>\n",
       "    </tr>\n",
       "    <tr>\n",
       "      <th>8820977</th>\n",
       "      <td>0.9607</td>\n",
       "      <td>1</td>\n",
       "    </tr>\n",
       "    <tr>\n",
       "      <th>3915346</th>\n",
       "      <td>0.9463</td>\n",
       "      <td>1</td>\n",
       "    </tr>\n",
       "    <tr>\n",
       "      <th>12789553</th>\n",
       "      <td>0.9434</td>\n",
       "      <td>1</td>\n",
       "    </tr>\n",
       "    <tr>\n",
       "      <th>2665129</th>\n",
       "      <td>0.9415</td>\n",
       "      <td>1</td>\n",
       "    </tr>\n",
       "    <tr>\n",
       "      <th>8094806</th>\n",
       "      <td>0.9388</td>\n",
       "      <td>1</td>\n",
       "    </tr>\n",
       "    <tr>\n",
       "      <th>2442758</th>\n",
       "      <td>0.9388</td>\n",
       "      <td>1</td>\n",
       "    </tr>\n",
       "    <tr>\n",
       "      <th>8820867</th>\n",
       "      <td>0.9349</td>\n",
       "      <td>1</td>\n",
       "    </tr>\n",
       "    <tr>\n",
       "      <th>9922745</th>\n",
       "      <td>0.9329</td>\n",
       "      <td>1</td>\n",
       "    </tr>\n",
       "    <tr>\n",
       "      <th>4205667</th>\n",
       "      <td>0.9282</td>\n",
       "      <td>1</td>\n",
       "    </tr>\n",
       "    <tr>\n",
       "      <th>10752159</th>\n",
       "      <td>0.9255</td>\n",
       "      <td>1</td>\n",
       "    </tr>\n",
       "    <tr>\n",
       "      <th>12970676</th>\n",
       "      <td>0.9227</td>\n",
       "      <td>1</td>\n",
       "    </tr>\n",
       "    <tr>\n",
       "      <th>6546735</th>\n",
       "      <td>0.9180</td>\n",
       "      <td>1</td>\n",
       "    </tr>\n",
       "    <tr>\n",
       "      <th>1880381</th>\n",
       "      <td>0.9167</td>\n",
       "      <td>1</td>\n",
       "    </tr>\n",
       "    <tr>\n",
       "      <th>832525</th>\n",
       "      <td>0.9132</td>\n",
       "      <td>1</td>\n",
       "    </tr>\n",
       "    <tr>\n",
       "      <th>12652655</th>\n",
       "      <td>0.9056</td>\n",
       "      <td>1</td>\n",
       "    </tr>\n",
       "    <tr>\n",
       "      <th>6944127</th>\n",
       "      <td>0.9039</td>\n",
       "      <td>1</td>\n",
       "    </tr>\n",
       "    <tr>\n",
       "      <th>1595576</th>\n",
       "      <td>0.8976</td>\n",
       "      <td>1</td>\n",
       "    </tr>\n",
       "    <tr>\n",
       "      <th>3806166</th>\n",
       "      <td>0.8932</td>\n",
       "      <td>1</td>\n",
       "    </tr>\n",
       "    <tr>\n",
       "      <th>9522526</th>\n",
       "      <td>0.8903</td>\n",
       "      <td>1</td>\n",
       "    </tr>\n",
       "    <tr>\n",
       "      <th>14380483</th>\n",
       "      <td>0.8794</td>\n",
       "      <td>1</td>\n",
       "    </tr>\n",
       "    <tr>\n",
       "      <th>9128066</th>\n",
       "      <td>0.8778</td>\n",
       "      <td>1</td>\n",
       "    </tr>\n",
       "    <tr>\n",
       "      <th>11397979</th>\n",
       "      <td>0.8762</td>\n",
       "      <td>1</td>\n",
       "    </tr>\n",
       "    <tr>\n",
       "      <th>3915336</th>\n",
       "      <td>0.8687</td>\n",
       "      <td>0</td>\n",
       "    </tr>\n",
       "    <tr>\n",
       "      <th>7565765</th>\n",
       "      <td>0.8660</td>\n",
       "      <td>1</td>\n",
       "    </tr>\n",
       "    <tr>\n",
       "      <th>5854093</th>\n",
       "      <td>0.8591</td>\n",
       "      <td>1</td>\n",
       "    </tr>\n",
       "    <tr>\n",
       "      <th>6466173</th>\n",
       "      <td>0.8579</td>\n",
       "      <td>1</td>\n",
       "    </tr>\n",
       "    <tr>\n",
       "      <th>6752546</th>\n",
       "      <td>0.8568</td>\n",
       "      <td>1</td>\n",
       "    </tr>\n",
       "    <tr>\n",
       "      <th>12257192</th>\n",
       "      <td>0.8555</td>\n",
       "      <td>1</td>\n",
       "    </tr>\n",
       "    <tr>\n",
       "      <th>4213273</th>\n",
       "      <td>0.8534</td>\n",
       "      <td>1</td>\n",
       "    </tr>\n",
       "    <tr>\n",
       "      <th>12786657</th>\n",
       "      <td>0.8485</td>\n",
       "      <td>1</td>\n",
       "    </tr>\n",
       "    <tr>\n",
       "      <th>10792210</th>\n",
       "      <td>0.8471</td>\n",
       "      <td>1</td>\n",
       "    </tr>\n",
       "    <tr>\n",
       "      <th>12790323</th>\n",
       "      <td>0.8441</td>\n",
       "      <td>1</td>\n",
       "    </tr>\n",
       "    <tr>\n",
       "      <th>2015015</th>\n",
       "      <td>0.8429</td>\n",
       "      <td>1</td>\n",
       "    </tr>\n",
       "    <tr>\n",
       "      <th>3240978</th>\n",
       "      <td>0.8416</td>\n",
       "      <td>1</td>\n",
       "    </tr>\n",
       "    <tr>\n",
       "      <th>11625461</th>\n",
       "      <td>0.8358</td>\n",
       "      <td>1</td>\n",
       "    </tr>\n",
       "    <tr>\n",
       "      <th>7522416</th>\n",
       "      <td>0.8300</td>\n",
       "      <td>1</td>\n",
       "    </tr>\n",
       "    <tr>\n",
       "      <th>6071529</th>\n",
       "      <td>0.8296</td>\n",
       "      <td>1</td>\n",
       "    </tr>\n",
       "    <tr>\n",
       "      <th>10054876</th>\n",
       "      <td>0.8291</td>\n",
       "      <td>1</td>\n",
       "    </tr>\n",
       "    <tr>\n",
       "      <th>11114850</th>\n",
       "      <td>0.8224</td>\n",
       "      <td>1</td>\n",
       "    </tr>\n",
       "    <tr>\n",
       "      <th>3915334</th>\n",
       "      <td>0.8211</td>\n",
       "      <td>0</td>\n",
       "    </tr>\n",
       "    <tr>\n",
       "      <th>12790164</th>\n",
       "      <td>0.8172</td>\n",
       "      <td>1</td>\n",
       "    </tr>\n",
       "    <tr>\n",
       "      <th>1686081</th>\n",
       "      <td>0.8127</td>\n",
       "      <td>1</td>\n",
       "    </tr>\n",
       "    <tr>\n",
       "      <th>1451665</th>\n",
       "      <td>0.8116</td>\n",
       "      <td>1</td>\n",
       "    </tr>\n",
       "    <tr>\n",
       "      <th>1099437</th>\n",
       "      <td>0.8115</td>\n",
       "      <td>1</td>\n",
       "    </tr>\n",
       "    <tr>\n",
       "      <th>14753462</th>\n",
       "      <td>0.8094</td>\n",
       "      <td>1</td>\n",
       "    </tr>\n",
       "    <tr>\n",
       "      <th>582103</th>\n",
       "      <td>0.8083</td>\n",
       "      <td>1</td>\n",
       "    </tr>\n",
       "    <tr>\n",
       "      <th>2896839</th>\n",
       "      <td>0.8072</td>\n",
       "      <td>1</td>\n",
       "    </tr>\n",
       "    <tr>\n",
       "      <th>15157961</th>\n",
       "      <td>0.8063</td>\n",
       "      <td>1</td>\n",
       "    </tr>\n",
       "    <tr>\n",
       "      <th>13808358</th>\n",
       "      <td>0.8044</td>\n",
       "      <td>1</td>\n",
       "    </tr>\n",
       "    <tr>\n",
       "      <th>15476544</th>\n",
       "      <td>0.7968</td>\n",
       "      <td>1</td>\n",
       "    </tr>\n",
       "    <tr>\n",
       "      <th>4266838</th>\n",
       "      <td>0.7961</td>\n",
       "      <td>1</td>\n",
       "    </tr>\n",
       "    <tr>\n",
       "      <th>15290715</th>\n",
       "      <td>0.7948</td>\n",
       "      <td>1</td>\n",
       "    </tr>\n",
       "    <tr>\n",
       "      <th>4985392</th>\n",
       "      <td>0.7921</td>\n",
       "      <td>1</td>\n",
       "    </tr>\n",
       "    <tr>\n",
       "      <th>12790062</th>\n",
       "      <td>0.7890</td>\n",
       "      <td>1</td>\n",
       "    </tr>\n",
       "    <tr>\n",
       "      <th>7279409</th>\n",
       "      <td>0.7863</td>\n",
       "      <td>1</td>\n",
       "    </tr>\n",
       "    <tr>\n",
       "      <th>14788936</th>\n",
       "      <td>0.7811</td>\n",
       "      <td>1</td>\n",
       "    </tr>\n",
       "    <tr>\n",
       "      <th>13278800</th>\n",
       "      <td>0.7796</td>\n",
       "      <td>0</td>\n",
       "    </tr>\n",
       "    <tr>\n",
       "      <th>12114660</th>\n",
       "      <td>0.7778</td>\n",
       "      <td>1</td>\n",
       "    </tr>\n",
       "    <tr>\n",
       "      <th>8478292</th>\n",
       "      <td>0.7769</td>\n",
       "      <td>1</td>\n",
       "    </tr>\n",
       "  </tbody>\n",
       "</table>\n",
       "</div>"
      ],
      "text/plain": [
       "          event_action_1_probability  true_label\n",
       "11949787                      0.9648           1\n",
       "8820977                       0.9607           1\n",
       "3915346                       0.9463           1\n",
       "12789553                      0.9434           1\n",
       "2665129                       0.9415           1\n",
       "8094806                       0.9388           1\n",
       "2442758                       0.9388           1\n",
       "8820867                       0.9349           1\n",
       "9922745                       0.9329           1\n",
       "4205667                       0.9282           1\n",
       "10752159                      0.9255           1\n",
       "12970676                      0.9227           1\n",
       "6546735                       0.9180           1\n",
       "1880381                       0.9167           1\n",
       "832525                        0.9132           1\n",
       "12652655                      0.9056           1\n",
       "6944127                       0.9039           1\n",
       "1595576                       0.8976           1\n",
       "3806166                       0.8932           1\n",
       "9522526                       0.8903           1\n",
       "14380483                      0.8794           1\n",
       "9128066                       0.8778           1\n",
       "11397979                      0.8762           1\n",
       "3915336                       0.8687           0\n",
       "7565765                       0.8660           1\n",
       "5854093                       0.8591           1\n",
       "6466173                       0.8579           1\n",
       "6752546                       0.8568           1\n",
       "12257192                      0.8555           1\n",
       "4213273                       0.8534           1\n",
       "12786657                      0.8485           1\n",
       "10792210                      0.8471           1\n",
       "12790323                      0.8441           1\n",
       "2015015                       0.8429           1\n",
       "3240978                       0.8416           1\n",
       "11625461                      0.8358           1\n",
       "7522416                       0.8300           1\n",
       "6071529                       0.8296           1\n",
       "10054876                      0.8291           1\n",
       "11114850                      0.8224           1\n",
       "3915334                       0.8211           0\n",
       "12790164                      0.8172           1\n",
       "1686081                       0.8127           1\n",
       "1451665                       0.8116           1\n",
       "1099437                       0.8115           1\n",
       "14753462                      0.8094           1\n",
       "582103                        0.8083           1\n",
       "2896839                       0.8072           1\n",
       "15157961                      0.8063           1\n",
       "13808358                      0.8044           1\n",
       "15476544                      0.7968           1\n",
       "4266838                       0.7961           1\n",
       "15290715                      0.7948           1\n",
       "4985392                       0.7921           1\n",
       "12790062                      0.7890           1\n",
       "7279409                       0.7863           1\n",
       "14788936                      0.7811           1\n",
       "13278800                      0.7796           0\n",
       "12114660                      0.7778           1\n",
       "8478292                       0.7769           1"
      ]
     },
     "execution_count": 1502,
     "metadata": {},
     "output_type": "execute_result"
    }
   ],
   "source": [
    "df_roc_auc.head(60)"
   ]
  },
  {
   "cell_type": "code",
   "execution_count": 1504,
   "id": "8276dea6-c8ac-4f54-ae05-8934e3871ff8",
   "metadata": {},
   "outputs": [
    {
     "data": {
      "image/png": "[encoded data removed]",
      "text/plain": [
       "<Figure size 600x500 with 1 Axes>"
      ]
     },
     "metadata": {},
     "output_type": "display_data"
    }
   ],
   "source": [
    "fpr, tpr, thresholds = roc_curve(preds_test[\"true_label\"], preds_test[\"event_action_1_probability\"])\n",
    "\n",
    "plt.figure(figsize=(6, 5))\n",
    "plt.plot(fpr, tpr, label=f\"ROC curve (AUC = {roc_auc:.4f})\")\n",
    "plt.plot([0, 1], [0, 1], 'k--', label=\"Random guess\")\n",
    "plt.xlabel(\"False Positive Rate\")\n",
    "plt.ylabel(\"True Positive Rate\")\n",
    "plt.title(\"ROC Curve\")\n",
    "plt.legend(loc=\"lower right\")\n",
    "plt.grid()\n",
    "plt.tight_layout()\n",
    "plt.show()"
   ]
  },
  {
   "cell_type": "code",
   "execution_count": 61,
   "id": "f4ab5663-c40a-4528-a823-904015a980e4",
   "metadata": {},
   "outputs": [],
   "source": [
    "# Let's try creating another model — CatBoostClassifier"
   ]
  },
  {
   "cell_type": "code",
   "execution_count": 1545,
   "id": "4db461d9-74fb-4781-8f4a-65f5d95e9df7",
   "metadata": {},
   "outputs": [
    {
     "data": {
      "text/plain": [
       "event_action\n",
       "0    1686738\n",
       "1       5229\n",
       "Name: count, dtype: int64"
      ]
     },
     "execution_count": 1545,
     "metadata": {},
     "output_type": "execute_result"
    }
   ],
   "source": [
    "df_ready.event_action.value_counts()"
   ]
  },
  {
   "cell_type": "code",
   "execution_count": 1584,
   "id": "1908202c-d7ed-4da9-8835-1fffcd737af3",
   "metadata": {},
   "outputs": [],
   "source": [
    "catboost_param_dist = {\n",
    "    'depth': randint(4, 10),\n",
    "    'learning_rate': uniform(0.01, 0.1),\n",
    "    'iterations': randint(10, 200),\n",
    "    'l2_leaf_reg': randint(1, 10),\n",
    "    'border_count': randint(1, 255),\n",
    "    'bagging_temperature': uniform(0.0, 1.0),\n",
    "    'random_strength': uniform(0.0, 1.0)\n",
    "}\n",
    "\n",
    "CB = CatBoostClassifier(\n",
    "    loss_function='Logloss',\n",
    "    eval_metric='AUC',\n",
    "    random_seed=42,\n",
    "    class_weights={0: 1, 1: 10},\n",
    "    verbose=50\n",
    ")\n",
    "\n",
    "random_search_cb = RandomizedSearchCV(\n",
    "    estimator=CB,\n",
    "    param_distributions=catboost_param_dist,\n",
    "    cv=2,\n",
    "    verbose=2,\n",
    "    random_state=42,\n",
    "    n_iter=5  \n",
    ")"
   ]
  },
  {
   "cell_type": "code",
   "execution_count": 1586,
   "id": "769706fd-26bf-40b3-952c-7ac9aab066a9",
   "metadata": {},
   "outputs": [],
   "source": [
    "X_train = train.drop(\"event_action\", axis=1)\n",
    "y_train = train[\"event_action\"]\n",
    "\n",
    "X_val = val.drop(\"event_action\", axis=1)\n",
    "y_val = val[\"event_action\"]"
   ]
  },
  {
   "cell_type": "code",
   "execution_count": 1587,
   "id": "c330e824-0b7b-4943-8fb9-e1ce531c826e",
   "metadata": {},
   "outputs": [],
   "source": [
    "X_test = test_df.drop(\"event_action\", axis=1)\n",
    "y_test = test_df[\"event_action\"]"
   ]
  },
  {
   "cell_type": "code",
   "execution_count": 1589,
   "id": "f426c1dc-a869-400f-8e85-4cf3820dd7c1",
   "metadata": {},
   "outputs": [
    {
     "data": {
      "text/plain": [
       "event_action\n",
       "0    337348\n",
       "1      1046\n",
       "Name: count, dtype: int64"
      ]
     },
     "execution_count": 1589,
     "metadata": {},
     "output_type": "execute_result"
    }
   ],
   "source": [
    "y_test.value_counts()"
   ]
  },
  {
   "cell_type": "code",
   "execution_count": 1592,
   "id": "caedd146-24b0-4d6d-8299-a799c05cc265",
   "metadata": {},
   "outputs": [
    {
     "data": {
      "text/plain": [
       "event_action\n",
       "0    269878\n",
       "1       837\n",
       "Name: count, dtype: int64"
      ]
     },
     "execution_count": 1592,
     "metadata": {},
     "output_type": "execute_result"
    }
   ],
   "source": [
    "y_val.value_counts()"
   ]
  },
  {
   "cell_type": "code",
   "execution_count": 1594,
   "id": "4c7ea34f-b02e-430e-bd5f-8fdce2ac9c18",
   "metadata": {},
   "outputs": [
    {
     "data": {
      "text/plain": [
       "event_action\n",
       "0    1079512\n",
       "1       3346\n",
       "Name: count, dtype: int64"
      ]
     },
     "execution_count": 1594,
     "metadata": {},
     "output_type": "execute_result"
    }
   ],
   "source": [
    "y_train.value_counts()"
   ]
  },
  {
   "cell_type": "code",
   "execution_count": 1596,
   "id": "07c22231-79ac-4be9-b1b8-71fcd483eb54",
   "metadata": {},
   "outputs": [
    {
     "name": "stdout",
     "output_type": "stream",
     "text": [
      "Fitting 2 folds for each of 5 candidates, totalling 10 fits\n",
      "0:\ttest: 0.7526366\tbest: 0.7526366 (0)\ttotal: 116ms\tremaining: 9.25s\n",
      "50:\ttest: 0.9834600\tbest: 0.9834600 (50)\ttotal: 2.93s\tremaining: 1.73s\n",
      "80:\ttest: 0.9864058\tbest: 0.9864058 (80)\ttotal: 4.55s\tremaining: 0us\n",
      "\n",
      "bestTest = 0.9864057584\n",
      "bestIteration = 80\n",
      "\n",
      "[CV] END bagging_temperature=0.3745401188473625, border_count=93, depth=6, iterations=81, l2_leaf_reg=5, learning_rate=0.025601864044243652, random_strength=0.15599452033620265; total time=   6.3s\n",
      "0:\ttest: 0.7539307\tbest: 0.7539307 (0)\ttotal: 88.7ms\tremaining: 7.1s\n",
      "50:\ttest: 0.9837528\tbest: 0.9837752 (41)\ttotal: 2.91s\tremaining: 1.71s\n",
      "80:\ttest: 0.9860572\tbest: 0.9860572 (80)\ttotal: 4.56s\tremaining: 0us\n",
      "\n",
      "bestTest = 0.9860572293\n",
      "bestIteration = 80\n",
      "\n",
      "[CV] END bagging_temperature=0.3745401188473625, border_count=93, depth=6, iterations=81, l2_leaf_reg=5, learning_rate=0.025601864044243652, random_strength=0.15599452033620265; total time=   6.3s\n",
      "0:\ttest: 0.7787231\tbest: 0.7787231 (0)\ttotal: 91.5ms\tremaining: 9.88s\n",
      "50:\ttest: 0.9887776\tbest: 0.9887776 (50)\ttotal: 3.5s\tremaining: 3.98s\n",
      "100:\ttest: 0.9893514\tbest: 0.9893514 (100)\ttotal: 7.02s\tremaining: 556ms\n",
      "108:\ttest: 0.9894050\tbest: 0.9894077 (105)\ttotal: 7.6s\tremaining: 0us\n",
      "\n",
      "bestTest = 0.9894076724\n",
      "bestIteration = 105\n",
      "\n",
      "Shrink model to first 106 iterations.\n",
      "[CV] END bagging_temperature=0.05808361216819946, border_count=88, depth=8, iterations=109, l2_leaf_reg=8, learning_rate=0.08080725777960454, random_strength=0.020584494295802447; total time=   9.3s\n",
      "0:\ttest: 0.7751916\tbest: 0.7751916 (0)\ttotal: 80.2ms\tremaining: 8.66s\n",
      "50:\ttest: 0.9884260\tbest: 0.9884260 (50)\ttotal: 3.5s\tremaining: 3.98s\n",
      "100:\ttest: 0.9892532\tbest: 0.9892543 (97)\ttotal: 7.04s\tremaining: 558ms\n",
      "108:\ttest: 0.9892851\tbest: 0.9892885 (107)\ttotal: 7.64s\tremaining: 0us\n",
      "\n",
      "bestTest = 0.9892885159\n",
      "bestIteration = 107\n",
      "\n",
      "Shrink model to first 108 iterations.\n",
      "[CV] END bagging_temperature=0.05808361216819946, border_count=88, depth=8, iterations=109, l2_leaf_reg=8, learning_rate=0.08080725777960454, random_strength=0.020584494295802447; total time=   9.4s\n",
      "0:\ttest: 0.7124474\tbest: 0.7124474 (0)\ttotal: 103ms\tremaining: 4.74s\n",
      "46:\ttest: 0.9842679\tbest: 0.9842732 (44)\ttotal: 3.34s\tremaining: 0us\n",
      "\n",
      "bestTest = 0.9842732447\n",
      "bestIteration = 44\n",
      "\n",
      "Shrink model to first 45 iterations.\n",
      "[CV] END bagging_temperature=0.9699098521619943, border_count=236, depth=9, iterations=47, l2_leaf_reg=2, learning_rate=0.028182496720710062, random_strength=0.18340450985343382; total time=   5.0s\n",
      "0:\ttest: 0.7155993\tbest: 0.7155993 (0)\ttotal: 102ms\tremaining: 4.68s\n",
      "46:\ttest: 0.9843183\tbest: 0.9843183 (46)\ttotal: 3.29s\tremaining: 0us\n",
      "\n",
      "bestTest = 0.9843182604\n",
      "bestIteration = 46\n",
      "\n",
      "[CV] END bagging_temperature=0.9699098521619943, border_count=236, depth=9, iterations=47, l2_leaf_reg=2, learning_rate=0.028182496720710062, random_strength=0.18340450985343382; total time=   5.0s\n",
      "0:\ttest: 0.7327193\tbest: 0.7327193 (0)\ttotal: 86.1ms\tremaining: 8.35s\n",
      "50:\ttest: 0.9883055\tbest: 0.9883078 (49)\ttotal: 3.02s\tremaining: 2.78s\n",
      "97:\ttest: 0.9892488\tbest: 0.9892488 (97)\ttotal: 6.13s\tremaining: 0us\n",
      "\n",
      "bestTest = 0.9892487794\n",
      "bestIteration = 97\n",
      "\n",
      "[CV] END bagging_temperature=0.3042422429595377, border_count=22, depth=8, iterations=98, l2_leaf_reg=1, learning_rate=0.06247746602583892, random_strength=0.3998609717152555; total time=   7.9s\n",
      "0:\ttest: 0.6952488\tbest: 0.6952488 (0)\ttotal: 80.7ms\tremaining: 7.83s\n",
      "50:\ttest: 0.9880197\tbest: 0.9880197 (50)\ttotal: 3.14s\tremaining: 2.89s\n",
      "97:\ttest: 0.9890696\tbest: 0.9890696 (97)\ttotal: 6.29s\tremaining: 0us\n",
      "\n",
      "bestTest = 0.9890696042\n",
      "bestIteration = 97\n",
      "\n",
      "[CV] END bagging_temperature=0.3042422429595377, border_count=22, depth=8, iterations=98, l2_leaf_reg=1, learning_rate=0.06247746602583892, random_strength=0.3998609717152555; total time=   8.0s\n",
      "0:\ttest: 0.5064381\tbest: 0.5064381 (0)\ttotal: 80.7ms\tremaining: 16s\n",
      "50:\ttest: 0.9880772\tbest: 0.9880772 (50)\ttotal: 3.06s\tremaining: 8.87s\n",
      "100:\ttest: 0.9889313\tbest: 0.9889323 (95)\ttotal: 6.36s\tremaining: 6.17s\n",
      "150:\ttest: 0.9892820\tbest: 0.9892826 (147)\ttotal: 9.71s\tremaining: 3.08s\n",
      "198:\ttest: 0.9893994\tbest: 0.9894035 (182)\ttotal: 13s\tremaining: 0us\n",
      "\n",
      "bestTest = 0.9894034822\n",
      "bestIteration = 182\n",
      "\n",
      "Shrink model to first 183 iterations.\n",
      "[CV] END bagging_temperature=0.04666566321361543, border_count=188, depth=9, iterations=199, l2_leaf_reg=3, learning_rate=0.04824619912671628, random_strength=0.9832308858067882; total time=  14.7s\n",
      "0:\ttest: 0.5088902\tbest: 0.5088902 (0)\ttotal: 81.5ms\tremaining: 16.1s\n",
      "50:\ttest: 0.9877346\tbest: 0.9877346 (49)\ttotal: 3s\tremaining: 8.7s\n",
      "100:\ttest: 0.9887621\tbest: 0.9887621 (100)\ttotal: 6.09s\tremaining: 5.91s\n",
      "150:\ttest: 0.9891790\tbest: 0.9891790 (149)\ttotal: 9.4s\tremaining: 2.99s\n",
      "198:\ttest: 0.9893857\tbest: 0.9893904 (195)\ttotal: 12.5s\tremaining: 0us\n",
      "\n",
      "bestTest = 0.9893904116\n",
      "bestIteration = 195\n",
      "\n",
      "Shrink model to first 196 iterations.\n",
      "[CV] END bagging_temperature=0.04666566321361543, border_count=188, depth=9, iterations=199, l2_leaf_reg=3, learning_rate=0.04824619912671628, random_strength=0.9832308858067882; total time=  14.2s\n",
      "0:\ttest: 0.7253159\tbest: 0.7253159 (0)\ttotal: 193ms\tremaining: 8.88s\n",
      "46:\ttest: 0.9844264\tbest: 0.9844264 (46)\ttotal: 6.47s\tremaining: 0us\n",
      "\n",
      "bestTest = 0.9844264491\n",
      "bestIteration = 46\n",
      "\n",
      "Best Parameters: {'bagging_temperature': 0.9699098521619943, 'border_count': 236, 'depth': 9, 'iterations': 47, 'l2_leaf_reg': 2, 'learning_rate': 0.028182496720710062, 'random_strength': 0.18340450985343382}\n"
     ]
    }
   ],
   "source": [
    "random_search_cb.fit(X_train, y_train, eval_set=(X_val, y_val), cat_features=['utm_source', 'utm_medium', 'utm_campaign',\n",
    "                       'utm_adcontent', 'device_category', 'device_brand', 'device_browser',\n",
    "                       'geo_country', 'geo_city', 'hit_type', 'hit_page_path',\n",
    "                       'event_category', 'vist_hours', 'resoluton1',\n",
    "                       'resoluton2', 'hit_month', 'hit_day']\n",
    "                     )\n",
    "print(\"Best Parameters:\", random_search_cb.best_params_)"
   ]
  },
  {
   "cell_type": "code",
   "execution_count": 1606,
   "id": "ad97daa9-c269-4696-a48e-788e183bba97",
   "metadata": {},
   "outputs": [],
   "source": [
    "catmodel = random_search_cb.best_estimator_  # <== вот тут"
   ]
  },
  {
   "cell_type": "code",
   "execution_count": 1608,
   "id": "2edfcece-8294-41b5-98e7-7ea0baebb73e",
   "metadata": {},
   "outputs": [
    {
     "name": "stdout",
     "output_type": "stream",
     "text": [
      "AUC: 0.9854\n"
     ]
    }
   ],
   "source": [
    "y_pred = catmodel.predict_proba(X_test)[:, 1]\n",
    "auc = roc_auc_score(y_test, y_test)\n",
    "print(f\"AUC: {auc:.4f}\")"
   ]
  },
  {
   "cell_type": "code",
   "execution_count": 1612,
   "id": "e533238f-ca2d-4041-b7e3-66afc4384b29",
   "metadata": {},
   "outputs": [
    {
     "data": {
      "image/png": "[encoded data removed]",
      "text/plain": [
       "<Figure size 600x500 with 1 Axes>"
      ]
     },
     "metadata": {},
     "output_type": "display_data"
    }
   ],
   "source": [
    "fpr, tpr, thresholds = roc_curve(y_test, y_pred)\n",
    "\n",
    "plt.figure(figsize=(6, 5))\n",
    "plt.plot(fpr, tpr, label=f\"ROC curve (AUC = {auc:.4f})\")\n",
    "plt.plot([0, 1], [0, 1], 'k--', label=\"Random guess\")\n",
    "plt.xlabel(\"False Positive Rate\")\n",
    "plt.ylabel(\"True Positive Rate\")\n",
    "plt.title(\"ROC Curve\")\n",
    "plt.legend(loc=\"lower right\")\n",
    "plt.grid()\n",
    "plt.tight_layout()\n",
    "plt.show()"
   ]
  },
  {
   "cell_type": "code",
   "execution_count": 1614,
   "id": "2ca1ee85-2ae5-4da5-a01f-df249b148685",
   "metadata": {},
   "outputs": [
    {
     "data": {
      "text/html": [
       "<div>\n",
       "<style scoped>\n",
       "    .dataframe tbody tr th:only-of-type {\n",
       "        vertical-align: middle;\n",
       "    }\n",
       "\n",
       "    .dataframe tbody tr th {\n",
       "        vertical-align: top;\n",
       "    }\n",
       "\n",
       "    .dataframe thead th {\n",
       "        text-align: right;\n",
       "    }\n",
       "</style>\n",
       "<table border=\"1\" class=\"dataframe\">\n",
       "  <thead>\n",
       "    <tr style=\"text-align: right;\">\n",
       "      <th></th>\n",
       "      <th>true_flag</th>\n",
       "      <th>proba</th>\n",
       "    </tr>\n",
       "  </thead>\n",
       "  <tbody>\n",
       "    <tr>\n",
       "      <th>0</th>\n",
       "      <td>1</td>\n",
       "      <td>0.843966</td>\n",
       "    </tr>\n",
       "    <tr>\n",
       "      <th>1</th>\n",
       "      <td>1</td>\n",
       "      <td>0.828749</td>\n",
       "    </tr>\n",
       "    <tr>\n",
       "      <th>2</th>\n",
       "      <td>1</td>\n",
       "      <td>0.828749</td>\n",
       "    </tr>\n",
       "    <tr>\n",
       "      <th>3</th>\n",
       "      <td>1</td>\n",
       "      <td>0.828532</td>\n",
       "    </tr>\n",
       "    <tr>\n",
       "      <th>4</th>\n",
       "      <td>1</td>\n",
       "      <td>0.828454</td>\n",
       "    </tr>\n",
       "    <tr>\n",
       "      <th>5</th>\n",
       "      <td>1</td>\n",
       "      <td>0.828318</td>\n",
       "    </tr>\n",
       "    <tr>\n",
       "      <th>6</th>\n",
       "      <td>1</td>\n",
       "      <td>0.828318</td>\n",
       "    </tr>\n",
       "    <tr>\n",
       "      <th>7</th>\n",
       "      <td>1</td>\n",
       "      <td>0.828318</td>\n",
       "    </tr>\n",
       "    <tr>\n",
       "      <th>8</th>\n",
       "      <td>1</td>\n",
       "      <td>0.828317</td>\n",
       "    </tr>\n",
       "    <tr>\n",
       "      <th>9</th>\n",
       "      <td>1</td>\n",
       "      <td>0.828317</td>\n",
       "    </tr>\n",
       "    <tr>\n",
       "      <th>10</th>\n",
       "      <td>1</td>\n",
       "      <td>0.828317</td>\n",
       "    </tr>\n",
       "    <tr>\n",
       "      <th>11</th>\n",
       "      <td>1</td>\n",
       "      <td>0.828299</td>\n",
       "    </tr>\n",
       "    <tr>\n",
       "      <th>12</th>\n",
       "      <td>1</td>\n",
       "      <td>0.828299</td>\n",
       "    </tr>\n",
       "    <tr>\n",
       "      <th>13</th>\n",
       "      <td>1</td>\n",
       "      <td>0.828299</td>\n",
       "    </tr>\n",
       "    <tr>\n",
       "      <th>14</th>\n",
       "      <td>1</td>\n",
       "      <td>0.828280</td>\n",
       "    </tr>\n",
       "    <tr>\n",
       "      <th>15</th>\n",
       "      <td>1</td>\n",
       "      <td>0.828280</td>\n",
       "    </tr>\n",
       "    <tr>\n",
       "      <th>16</th>\n",
       "      <td>1</td>\n",
       "      <td>0.828252</td>\n",
       "    </tr>\n",
       "    <tr>\n",
       "      <th>17</th>\n",
       "      <td>1</td>\n",
       "      <td>0.828252</td>\n",
       "    </tr>\n",
       "    <tr>\n",
       "      <th>18</th>\n",
       "      <td>1</td>\n",
       "      <td>0.828252</td>\n",
       "    </tr>\n",
       "    <tr>\n",
       "      <th>19</th>\n",
       "      <td>1</td>\n",
       "      <td>0.828252</td>\n",
       "    </tr>\n",
       "    <tr>\n",
       "      <th>20</th>\n",
       "      <td>1</td>\n",
       "      <td>0.828252</td>\n",
       "    </tr>\n",
       "    <tr>\n",
       "      <th>21</th>\n",
       "      <td>1</td>\n",
       "      <td>0.828252</td>\n",
       "    </tr>\n",
       "    <tr>\n",
       "      <th>22</th>\n",
       "      <td>1</td>\n",
       "      <td>0.828252</td>\n",
       "    </tr>\n",
       "    <tr>\n",
       "      <th>23</th>\n",
       "      <td>1</td>\n",
       "      <td>0.828252</td>\n",
       "    </tr>\n",
       "    <tr>\n",
       "      <th>24</th>\n",
       "      <td>1</td>\n",
       "      <td>0.828252</td>\n",
       "    </tr>\n",
       "    <tr>\n",
       "      <th>25</th>\n",
       "      <td>1</td>\n",
       "      <td>0.828252</td>\n",
       "    </tr>\n",
       "    <tr>\n",
       "      <th>26</th>\n",
       "      <td>1</td>\n",
       "      <td>0.828252</td>\n",
       "    </tr>\n",
       "    <tr>\n",
       "      <th>27</th>\n",
       "      <td>1</td>\n",
       "      <td>0.828252</td>\n",
       "    </tr>\n",
       "    <tr>\n",
       "      <th>28</th>\n",
       "      <td>1</td>\n",
       "      <td>0.828214</td>\n",
       "    </tr>\n",
       "    <tr>\n",
       "      <th>29</th>\n",
       "      <td>1</td>\n",
       "      <td>0.828214</td>\n",
       "    </tr>\n",
       "    <tr>\n",
       "      <th>30</th>\n",
       "      <td>1</td>\n",
       "      <td>0.828214</td>\n",
       "    </tr>\n",
       "    <tr>\n",
       "      <th>31</th>\n",
       "      <td>1</td>\n",
       "      <td>0.828121</td>\n",
       "    </tr>\n",
       "    <tr>\n",
       "      <th>32</th>\n",
       "      <td>1</td>\n",
       "      <td>0.828121</td>\n",
       "    </tr>\n",
       "    <tr>\n",
       "      <th>33</th>\n",
       "      <td>1</td>\n",
       "      <td>0.828121</td>\n",
       "    </tr>\n",
       "    <tr>\n",
       "      <th>34</th>\n",
       "      <td>1</td>\n",
       "      <td>0.828121</td>\n",
       "    </tr>\n",
       "    <tr>\n",
       "      <th>35</th>\n",
       "      <td>1</td>\n",
       "      <td>0.828121</td>\n",
       "    </tr>\n",
       "    <tr>\n",
       "      <th>36</th>\n",
       "      <td>1</td>\n",
       "      <td>0.828121</td>\n",
       "    </tr>\n",
       "    <tr>\n",
       "      <th>37</th>\n",
       "      <td>1</td>\n",
       "      <td>0.828121</td>\n",
       "    </tr>\n",
       "    <tr>\n",
       "      <th>38</th>\n",
       "      <td>1</td>\n",
       "      <td>0.828121</td>\n",
       "    </tr>\n",
       "    <tr>\n",
       "      <th>39</th>\n",
       "      <td>1</td>\n",
       "      <td>0.828042</td>\n",
       "    </tr>\n",
       "    <tr>\n",
       "      <th>40</th>\n",
       "      <td>1</td>\n",
       "      <td>0.828042</td>\n",
       "    </tr>\n",
       "    <tr>\n",
       "      <th>41</th>\n",
       "      <td>1</td>\n",
       "      <td>0.828042</td>\n",
       "    </tr>\n",
       "    <tr>\n",
       "      <th>42</th>\n",
       "      <td>1</td>\n",
       "      <td>0.828042</td>\n",
       "    </tr>\n",
       "    <tr>\n",
       "      <th>43</th>\n",
       "      <td>1</td>\n",
       "      <td>0.828042</td>\n",
       "    </tr>\n",
       "    <tr>\n",
       "      <th>44</th>\n",
       "      <td>1</td>\n",
       "      <td>0.828042</td>\n",
       "    </tr>\n",
       "    <tr>\n",
       "      <th>45</th>\n",
       "      <td>1</td>\n",
       "      <td>0.828042</td>\n",
       "    </tr>\n",
       "    <tr>\n",
       "      <th>46</th>\n",
       "      <td>1</td>\n",
       "      <td>0.828042</td>\n",
       "    </tr>\n",
       "    <tr>\n",
       "      <th>47</th>\n",
       "      <td>1</td>\n",
       "      <td>0.828042</td>\n",
       "    </tr>\n",
       "    <tr>\n",
       "      <th>48</th>\n",
       "      <td>1</td>\n",
       "      <td>0.828042</td>\n",
       "    </tr>\n",
       "    <tr>\n",
       "      <th>49</th>\n",
       "      <td>1</td>\n",
       "      <td>0.828042</td>\n",
       "    </tr>\n",
       "    <tr>\n",
       "      <th>50</th>\n",
       "      <td>1</td>\n",
       "      <td>0.828004</td>\n",
       "    </tr>\n",
       "    <tr>\n",
       "      <th>51</th>\n",
       "      <td>1</td>\n",
       "      <td>0.828004</td>\n",
       "    </tr>\n",
       "    <tr>\n",
       "      <th>52</th>\n",
       "      <td>1</td>\n",
       "      <td>0.828004</td>\n",
       "    </tr>\n",
       "    <tr>\n",
       "      <th>53</th>\n",
       "      <td>1</td>\n",
       "      <td>0.827943</td>\n",
       "    </tr>\n",
       "    <tr>\n",
       "      <th>54</th>\n",
       "      <td>1</td>\n",
       "      <td>0.827863</td>\n",
       "    </tr>\n",
       "    <tr>\n",
       "      <th>55</th>\n",
       "      <td>1</td>\n",
       "      <td>0.827863</td>\n",
       "    </tr>\n",
       "    <tr>\n",
       "      <th>56</th>\n",
       "      <td>1</td>\n",
       "      <td>0.827863</td>\n",
       "    </tr>\n",
       "    <tr>\n",
       "      <th>57</th>\n",
       "      <td>1</td>\n",
       "      <td>0.827863</td>\n",
       "    </tr>\n",
       "    <tr>\n",
       "      <th>58</th>\n",
       "      <td>1</td>\n",
       "      <td>0.827863</td>\n",
       "    </tr>\n",
       "    <tr>\n",
       "      <th>59</th>\n",
       "      <td>1</td>\n",
       "      <td>0.827863</td>\n",
       "    </tr>\n",
       "  </tbody>\n",
       "</table>\n",
       "</div>"
      ],
      "text/plain": [
       "    true_flag     proba\n",
       "0           1  0.843966\n",
       "1           1  0.828749\n",
       "2           1  0.828749\n",
       "3           1  0.828532\n",
       "4           1  0.828454\n",
       "5           1  0.828318\n",
       "6           1  0.828318\n",
       "7           1  0.828318\n",
       "8           1  0.828317\n",
       "9           1  0.828317\n",
       "10          1  0.828317\n",
       "11          1  0.828299\n",
       "12          1  0.828299\n",
       "13          1  0.828299\n",
       "14          1  0.828280\n",
       "15          1  0.828280\n",
       "16          1  0.828252\n",
       "17          1  0.828252\n",
       "18          1  0.828252\n",
       "19          1  0.828252\n",
       "20          1  0.828252\n",
       "21          1  0.828252\n",
       "22          1  0.828252\n",
       "23          1  0.828252\n",
       "24          1  0.828252\n",
       "25          1  0.828252\n",
       "26          1  0.828252\n",
       "27          1  0.828252\n",
       "28          1  0.828214\n",
       "29          1  0.828214\n",
       "30          1  0.828214\n",
       "31          1  0.828121\n",
       "32          1  0.828121\n",
       "33          1  0.828121\n",
       "34          1  0.828121\n",
       "35          1  0.828121\n",
       "36          1  0.828121\n",
       "37          1  0.828121\n",
       "38          1  0.828121\n",
       "39          1  0.828042\n",
       "40          1  0.828042\n",
       "41          1  0.828042\n",
       "42          1  0.828042\n",
       "43          1  0.828042\n",
       "44          1  0.828042\n",
       "45          1  0.828042\n",
       "46          1  0.828042\n",
       "47          1  0.828042\n",
       "48          1  0.828042\n",
       "49          1  0.828042\n",
       "50          1  0.828004\n",
       "51          1  0.828004\n",
       "52          1  0.828004\n",
       "53          1  0.827943\n",
       "54          1  0.827863\n",
       "55          1  0.827863\n",
       "56          1  0.827863\n",
       "57          1  0.827863\n",
       "58          1  0.827863\n",
       "59          1  0.827863"
      ]
     },
     "execution_count": 1614,
     "metadata": {},
     "output_type": "execute_result"
    }
   ],
   "source": [
    "catboost_res_df = pd.DataFrame({\n",
    "    \"true_flag\": y_test.values,\n",
    "    \"proba\": y_pred\n",
    "})\n",
    "catboost_res_df = catboost_res_df.sort_values(by=\"proba\", ascending=False)\n",
    "catboost_res_df = catboost_res_df.reset_index(drop=True)\n",
    "\n",
    "# results_df.to_csv(\"predictions.csv\", index=False)\n",
    "catboost_res_df.head(60)"
   ]
  },
  {
   "cell_type": "code",
   "execution_count": 63,
   "id": "05e729a5-1850-49e8-964c-5c7562f637da",
   "metadata": {},
   "outputs": [],
   "source": [
    "# Both models show very high performance, thanks to strong results on the test sets"
   ]
  }
 ],
 "metadata": {
  "kernelspec": {
   "display_name": "Python 3 (ipykernel)",
   "language": "python",
   "name": "python3"
  },
  "language_info": {
   "codemirror_mode": {
    "name": "ipython",
    "version": 3
   },
   "file_extension": ".py",
   "mimetype": "text/x-python",
   "name": "python",
   "nbconvert_exporter": "python",
   "pygments_lexer": "ipython3",
   "version": "3.11.7"
  }
 },
 "nbformat": 4,
 "nbformat_minor": 5
}
